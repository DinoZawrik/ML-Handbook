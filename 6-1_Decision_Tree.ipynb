{
 "cells": [
  {
   "cell_type": "markdown",
   "metadata": {},
   "source": [
    "Decision Tree"
   ]
  },
  {
   "cell_type": "markdown",
   "metadata": {},
   "source": [
    "*   **Иерархическая структура:** Решения принимаются последовательно, шаг за шагом, на основе проверок признаков.\n",
    "*   **Разделение пространства признаков:** Дерево решений делит пространство признаков на области, соответствующие разным прогнозам.  В нашем примере выше, дерево разделило клиентов на тех, кому выдать кредит, и тех, кому отказать, основываясь на значениях признаков.\n",
    "*   **Простота интерпретации:** Легко понять, почему дерево приняло то или иное решение, просто проследив путь от корня до листа.\n",
    "*   **Применимость для разных типов данных:** Деревья решений могут работать как с числовыми, так и с категориальными признаками."
   ]
  },
  {
   "cell_type": "markdown",
   "metadata": {},
   "source": [
    "Критерии разделения – это **метрики**, которые помогают оценить, насколько \"хорошо\" то или иное разделение данных по признаку.  \"Хорошее\" разделение – это такое, которое **уменьшает \"неопределенность\" или \"неоднородность\"** в данных после разделения.\n",
    "\n",
    "**Для измерения этой \"однородности\" или \"неопределенности\" используются разные критерии, такие как:**\n",
    "\n",
    "*   **Для классификации:**\n",
    "    *   **Энтропия (Entropy):**  Мера беспорядка или хаоса в данных.  Чем выше энтропия, тем более \"неоднородна\" группа объектов по классам.  Чем ниже энтропия (ближе к 0), тем более \"однородна\" группа (все объекты принадлежат к одному классу).\n",
    "    *   **Информационный прирост (Information Gain):**  Показывает, насколько уменьшается энтропия после разделения данных по определенному признаку.  Алгоритм стремится выбрать признак, который дает наибольший информационный прирост.\n",
    "    *   **Критерий Джини (Gini Impurity):**  Еще одна мера \"неоднородности\", похожая на энтропию, но вычислительно немного проще.\n",
    "\n",
    "*   **Для регрессии:**\n",
    "    *   **Среднеквадратичная ошибка (MSE - Mean Squared Error):**  Используется для измерения разброса значений целевой переменной в узле.  Алгоритм стремится минимизировать MSE после разделения.\n",
    "    *   **Среднее абсолютное отклонение (MAE - Mean Absolute Error):**  Еще один критерий для регрессии, также направленный на минимизацию ошибки.\n",
    "\n",
    "**Энтропия** – это понятие из теории информации, которое характеризует степень неопределенности случайной величины. В нашем контексте, случайная величина – это класс объекта (например, \"выдать кредит\" или \"отказать\").\n",
    "\n",
    "Формула для энтропии (для случая двух классов, например, 0 и 1):\n",
    "\n",
    "$Entropy(S) = - p(0) * log_2(p(0)) - p(1) * log_2(p(1))$\n",
    "где:\n",
    "\n",
    "*   `S` – это набор данных (например, группа шариков или группа клиентов).\n",
    "*   `p(0)` – доля объектов класса 0 в наборе `S`.\n",
    "*   `p(1)` – доля объектов класса 1 в наборе `S`.\n",
    "*   `log2` – логарифм по основанию 2.\n",
    "\n",
    "Если все объекты в `S` принадлежат к одному классу то энтропия равна 0.  Неопределенности нет, все и так понятно.   \n",
    "Если классы распределены поровну , то энтропия максимальна (для двух классов, равна 1).  Неопределенность максимальна, сложно предсказать класс.\n",
    "\n",
    "**Информационный прирост (Information Gain)** для признака `A` и набора данных `S` рассчитывается как:\n",
    "\n",
    "$$InformationGain(S, A) = Entropy(S) - [ взвешенная\\ сумма\\ энтропий\\ для\\ каждого\\ подмножества, полученного\\ после\\ разделения\\ S\\ по\\ признаку\\ A ]$$\n",
    "\n",
    "**Интуитивно:**\n",
    "\n",
    "Информационный прирост показывает, насколько уменьшилась энтропия (то есть, насколько увеличилась \"однородность\") после того, как мы разделили данные по признаку `A`.  Алгоритм ID3 и C4.5 выбирают на каждом шаге тот признак, который дает **максимальный информационный прирост**.\n",
    "\n",
    "**Ключевые моменты про построение деревьев решений:**\n",
    "\n",
    "*   **Рекурсивный процесс \"разделяй и властвуй\".**\n",
    "*   **Критерии разделения (энтропия, информационный прирост, Джини, MSE и т.д.) для выбора наилучшего признака на каждом шаге.**\n",
    "*   **Цель – создание \"однородных\" групп в каждом листовом узле.**"
   ]
  },
  {
   "cell_type": "markdown",
   "metadata": {},
   "source": [
    "**Переобучение деревьев решений (Overfitting in Decision Trees)** 🌳 🤕\n",
    "\n",
    "Как мы уже говорили, деревья решений могут быть очень гибкими моделями. Они способны выстраивать сложные границы решений и идеально подстраиваться под обучающие данные.  Но в этом и кроется опасность.\n",
    "\n",
    "**Переобученное дерево решений:**\n",
    "\n",
    "*   **Идеально запоминает обучающие данные:**  Оно строит очень сложное дерево, которое точно классифицирует или предсказывает значения для всех объектов из обучающего набора.  Дерево может стать очень глубоким и ветвистым, подстраиваясь под каждую деталь обучающих данных, даже под шум и случайные выбросы.\n",
    "*   **Плохо работает на новых, \"невидимых\" данных:**  Когда мы даем переобученному дереву новые данные, которые оно не видело во время обучения, его качество предсказаний резко падает.  Оно \"запомнило\" обучающие данные, но не выучило общие закономерности.\n",
    "\n",
    "**Почему деревья решений склонны к переобучению?**\n",
    "\n",
    "*   **Большая гибкость:** Деревья могут становиться очень сложными, особенно если мы не ограничиваем их глубину.  Сложное дерево может \"выучить\" даже случайные корреляции в обучающих данных, которые не являются истинными закономерностями.\n",
    "*   **Жадный алгоритм построения:**  Алгоритм построения дерева на каждом шаге выбирает \"лучшее\" разделение локально, не заботясь о том, к чему это приведет глобально.  Это может привести к построению слишком развесистого и сложного дерева.\n",
    "\n",
    "**Методы борьбы с переобучением деревьев решений (Controlling Overfitting)** 🛡️\n",
    "\n",
    "Чтобы дерево решений хорошо работало не только на обучающих, но и на новых данных, нужно контролировать его сложность.  Вот основные методы:\n",
    "\n",
    "1.  **Ограничение глубины дерева (Maximum Depth):** `max_depth`\n",
    "    *   Самый простой и эффективный способ.  Мы задаем максимальную глубину дерева (количество уровней от корня до листьев).  Ограничивая глубину, мы не даем дереву становиться слишком развесистым и \"запоминать\" детали\".\n",
    "    *   Меньшая глубина $\\rightarrow$ проще дерево $\\rightarrow$ меньше переобучение, но возможен недообучение.\n",
    "    *   Большая глубина $\\rightarrow$ сложнее дерево $\\rightarrow$ больше риск переобучения, но может лучше подстроиться под обучающие данные.\n",
    "    *   Нужно подбирать оптимальную глубину, например, с помощью кросс-валидации.\n",
    "\n",
    "2.  **Минимальное количество объектов в узле для разделения (Minimum Samples to Split):** `min_samples_split`\n",
    "    *   Задает минимальное количество объектов, которое должно быть в узле, чтобы узел можно было разделить дальше.  Если в узле меньше объектов, чем `min_samples_split`, он становится листом и не делится.\n",
    "    *   Увеличивая `min_samples_split`, мы делаем дерево менее склонным к разделению на \"мелкие\" группы, которые могут быть шумом.\n",
    "\n",
    "3.  **Минимальное количество объектов в листовом узле (Minimum Samples per Leaf):** `min_samples_leaf`\n",
    "    *   Задает минимальное количество объектов, которое должно быть в каждом листовом узле.  Если после разделения в каком-то дочернем узле окажется меньше объектов, чем `min_samples_leaf`, разделение отменяется.\n",
    "    *   Похоже на `min_samples_split`, но контролирует размер именно листовых узлов.  Делает листья более \"надежными\" и предотвращает создание листьев, основанных на очень малом количестве данных.\n",
    "\n",
    "4.  **Максимальное количество листовых узлов (Maximum Leaf Nodes):** `max_leaf_nodes` (менее распространенный параметр)\n",
    "    *   Ограничивает общее количество листовых узлов в дереве.  Более прямо контролирует сложность дерева, чем ограничение глубины.\n",
    "\n",
    "5.  **Пpюнинг (Pruning - \"отсечение веток\"):**\n",
    "    *   После того, как дерево построено до некоторой глубины (возможно, даже переобученное), мы можем \"отсекать\" некоторые ветви, которые не приносят значительного улучшения качества на **валидационной выборке**.  Это более сложный процесс, чем просто ограничение глубины, но может быть более эффективным."
   ]
  },
  {
   "cell_type": "markdown",
   "metadata": {},
   "source": [
    "**Bias-Variance Tradeoff в Деревьях Решений \n",
    "\n",
    "В контексте **деревьев решений**:\n",
    "\n",
    "1.  **Bias (Смещение, систематическая ошибка):**\n",
    "    *   **Простые деревья (маленькой глубины, с ограничениями):**  Имеют **высокий Bias**.\n",
    "    *   **Почему?**  Простые деревья делают очень общие, \"грубые\" предположения о данных. Они не способны уловить сложные закономерности и зависимости.  Они **недообучаются** (underfit) под обучающие данные.\n",
    "    *   **Аналогия:**  Представь, что ты пытаешься аппроксимировать кривую сложной формы прямой линией. Прямая линия (простое дерево) будет иметь высокое смещение — она систематически отклоняется от истинной кривой.\n",
    "    *   **Последствия:**  Плохая точность как на обучающей, так и на тестовой выборках. Модель просто недостаточно сложна, чтобы выучить закономерности.\n",
    "\n",
    "2.  **Variance (Дисперсия, случайная ошибка):**\n",
    "    *   **Сложные деревья (большой глубины, без ограничений):** Имеют **высокий Variance**.\n",
    "    *   **Почему?**  Сложные деревья очень гибкие и могут \"запомнить\" даже шум и случайные колебания в обучающих данных. Они подстраиваются под каждую деталь обучающего набора, но теряют способность обобщать на новые данные. Они **переобучаются** (overfit) под обучающие данные.\n",
    "    *   **Аналогия:**  Представь, что ты пытаешься провести очень извилистую кривую точно через все точки обучающих данных, включая случайные выбросы. Эта кривая (сложное дерево) будет иметь высокую дисперсию — она будет сильно меняться, если ты немного изменишь обучающие данные.\n",
    "    *   **Последствия:**  Отличная точность на обучающей выборке (может быть даже 100%), но плохая или значительно хуже точность на тестовой выборке. Модель слишком \"запомнила\" обучающие данные, включая шум.\n",
    "\n",
    "**Tradeoff (Компромисс):**\n",
    "\n",
    "*   Мы хотим найти **баланс** между Bias и Variance.\n",
    "*   **Уменьшая Bias** (усложняя дерево, увеличивая глубину), мы обычно **увеличиваем Variance**.\n",
    "*   **Уменьшая Variance** (упрощая дерево, ограничивая глубину, применяя регуляризацию), мы обычно **увеличиваем Bias**.\n",
    "\n",
    "**Регуляризация в деревьях решений (например, `max_depth`, `min_samples_split`, `min_samples_leaf`)** предназначена для **уменьшения Variance**.  Ограничивая сложность дерева, мы делаем его менее чувствительным к шуму в обучающих данных, что улучшает его способность к обобщению.  Но при этом нужно не переусердствовать, чтобы не сделать дерево слишком простым и не увеличить Bias.\n",
    "\n",
    "**Визуализация:**\n",
    "\n",
    "Представь себе мишень для стрельбы.\n",
    "\n",
    "*   **Высокий Bias, низкий Variance:**  Все выстрелы кучно собраны в одном месте, но далеко от центра мишени (цели). Модель систематически ошибается (высокое смещение), но ошибки стабильны (низкая дисперсия).\n",
    "*   **Низкий Bias, высокий Variance:** Выстрелы разбросаны по всей мишени, в среднем они попадают в центр, но каждый отдельный выстрел может быть далеко от центра. Модель в среднем точна (низкое смещение), но прогнозы очень нестабильны (высокая дисперсия).\n",
    "*   **Низкий Bias, низкий Variance (идеал):**  Все выстрелы кучно собраны в центре мишени. Модель и точна, и стабильна."
   ]
  },
  {
   "cell_type": "markdown",
   "metadata": {},
   "source": [
    "---"
   ]
  },
  {
   "cell_type": "markdown",
   "metadata": {},
   "source": [
    "Практика"
   ]
  },
  {
   "cell_type": "code",
   "execution_count": 2,
   "metadata": {},
   "outputs": [
    {
     "data": {
      "application/vnd.microsoft.datawrangler.viewer.v0+json": {
       "columns": [
        {
         "name": "index",
         "rawType": "int64",
         "type": "integer"
        },
        {
         "name": "sepal length (cm)",
         "rawType": "float64",
         "type": "float"
        },
        {
         "name": "sepal width (cm)",
         "rawType": "float64",
         "type": "float"
        },
        {
         "name": "petal length (cm)",
         "rawType": "float64",
         "type": "float"
        },
        {
         "name": "petal width (cm)",
         "rawType": "float64",
         "type": "float"
        },
        {
         "name": "target",
         "rawType": "int64",
         "type": "integer"
        }
       ],
       "conversionMethod": "pd.DataFrame",
       "ref": "77649d73-5af7-45bf-9314-1e7c511d3b51",
       "rows": [
        [
         "0",
         "5.1",
         "3.5",
         "1.4",
         "0.2",
         "0"
        ],
        [
         "1",
         "4.9",
         "3.0",
         "1.4",
         "0.2",
         "0"
        ],
        [
         "2",
         "4.7",
         "3.2",
         "1.3",
         "0.2",
         "0"
        ],
        [
         "3",
         "4.6",
         "3.1",
         "1.5",
         "0.2",
         "0"
        ],
        [
         "4",
         "5.0",
         "3.6",
         "1.4",
         "0.2",
         "0"
        ]
       ],
       "shape": {
        "columns": 5,
        "rows": 5
       }
      },
      "text/html": [
       "<div>\n",
       "<style scoped>\n",
       "    .dataframe tbody tr th:only-of-type {\n",
       "        vertical-align: middle;\n",
       "    }\n",
       "\n",
       "    .dataframe tbody tr th {\n",
       "        vertical-align: top;\n",
       "    }\n",
       "\n",
       "    .dataframe thead th {\n",
       "        text-align: right;\n",
       "    }\n",
       "</style>\n",
       "<table border=\"1\" class=\"dataframe\">\n",
       "  <thead>\n",
       "    <tr style=\"text-align: right;\">\n",
       "      <th></th>\n",
       "      <th>sepal length (cm)</th>\n",
       "      <th>sepal width (cm)</th>\n",
       "      <th>petal length (cm)</th>\n",
       "      <th>petal width (cm)</th>\n",
       "      <th>target</th>\n",
       "    </tr>\n",
       "  </thead>\n",
       "  <tbody>\n",
       "    <tr>\n",
       "      <th>0</th>\n",
       "      <td>5.1</td>\n",
       "      <td>3.5</td>\n",
       "      <td>1.4</td>\n",
       "      <td>0.2</td>\n",
       "      <td>0</td>\n",
       "    </tr>\n",
       "    <tr>\n",
       "      <th>1</th>\n",
       "      <td>4.9</td>\n",
       "      <td>3.0</td>\n",
       "      <td>1.4</td>\n",
       "      <td>0.2</td>\n",
       "      <td>0</td>\n",
       "    </tr>\n",
       "    <tr>\n",
       "      <th>2</th>\n",
       "      <td>4.7</td>\n",
       "      <td>3.2</td>\n",
       "      <td>1.3</td>\n",
       "      <td>0.2</td>\n",
       "      <td>0</td>\n",
       "    </tr>\n",
       "    <tr>\n",
       "      <th>3</th>\n",
       "      <td>4.6</td>\n",
       "      <td>3.1</td>\n",
       "      <td>1.5</td>\n",
       "      <td>0.2</td>\n",
       "      <td>0</td>\n",
       "    </tr>\n",
       "    <tr>\n",
       "      <th>4</th>\n",
       "      <td>5.0</td>\n",
       "      <td>3.6</td>\n",
       "      <td>1.4</td>\n",
       "      <td>0.2</td>\n",
       "      <td>0</td>\n",
       "    </tr>\n",
       "  </tbody>\n",
       "</table>\n",
       "</div>"
      ],
      "text/plain": [
       "   sepal length (cm)  sepal width (cm)  petal length (cm)  petal width (cm)  \\\n",
       "0                5.1               3.5                1.4               0.2   \n",
       "1                4.9               3.0                1.4               0.2   \n",
       "2                4.7               3.2                1.3               0.2   \n",
       "3                4.6               3.1                1.5               0.2   \n",
       "4                5.0               3.6                1.4               0.2   \n",
       "\n",
       "   target  \n",
       "0       0  \n",
       "1       0  \n",
       "2       0  \n",
       "3       0  \n",
       "4       0  "
      ]
     },
     "metadata": {},
     "output_type": "display_data"
    },
    {
     "name": "stdout",
     "output_type": "stream",
     "text": [
      "\n",
      "Названия классов: ['setosa' 'versicolor' 'virginica']\n",
      "Названия признаков: ['sepal length (cm)', 'sepal width (cm)', 'petal length (cm)', 'petal width (cm)']\n"
     ]
    }
   ],
   "source": [
    "import numpy as np \n",
    "import pandas as pd \n",
    "from sklearn.datasets import load_iris\n",
    "from sklearn.model_selection import train_test_split\n",
    "from sklearn.tree import DecisionTreeClassifier\n",
    "from sklearn.metrics import accuracy_score\n",
    "\n",
    "\n",
    "iris = load_iris()\n",
    "X = iris.data\n",
    "y = iris.target\n",
    "feature_names = iris.feature_names\n",
    "class_names = iris.target_names\n",
    "\n",
    "iris_df = pd.DataFrame(X, columns=feature_names)\n",
    "iris_df['target'] = y\n",
    "display(iris_df.head())\n",
    "print(f'\\nНазвания классов: {class_names}')\n",
    "print(f'Названия признаков: {feature_names}')"
   ]
  },
  {
   "cell_type": "code",
   "execution_count": 7,
   "metadata": {},
   "outputs": [
    {
     "name": "stdout",
     "output_type": "stream",
     "text": [
      "Размер обучающей выборки: (105, 4)\n",
      "Размер тестовой выборки: (45, 4)\n"
     ]
    }
   ],
   "source": [
    "X_train, X_test, y_train, y_test = train_test_split(X, y, train_size=0.7, random_state=42)\n",
    "\n",
    "print(f'Размер обучающей выборки: {X_train.shape}')\n",
    "print(f'Размер тестовой выборки: {X_test.shape}')"
   ]
  },
  {
   "cell_type": "code",
   "execution_count": 8,
   "metadata": {},
   "outputs": [
    {
     "name": "stdout",
     "output_type": "stream",
     "text": [
      "Точность на обучающей выборке (без ограничений): 1.0000\n",
      "Точность на тестовой выборке (без ограничений): 1.0000\n"
     ]
    }
   ],
   "source": [
    "tree_clf_unlim = DecisionTreeClassifier(random_state=42)\n",
    "tree_clf_unlim.fit(X_train, y_train)\n",
    "\n",
    "y_train_pred_unlim = tree_clf_unlim.predict(X_train)\n",
    "train_accuracy_unlimited = accuracy_score(y_train, y_train_pred_unlim)\n",
    "\n",
    "y_test_pred_unlim = tree_clf_unlim.predict(X_test)\n",
    "test_accuracy_unlimited = accuracy_score(y_test, y_test_pred_unlim)\n",
    "\n",
    "print(f'Точность на обучающей выборке (без ограничений): {train_accuracy_unlimited:.4f}')\n",
    "print(f'Точность на тестовой выборке (без ограничений): {test_accuracy_unlimited:.4f}')"
   ]
  },
  {
   "cell_type": "code",
   "execution_count": 9,
   "metadata": {},
   "outputs": [
    {
     "name": "stdout",
     "output_type": "stream",
     "text": [
      "Max depth: 2, Train Accuracy: 0.9429, Test Accuracy: 0.9778\n",
      "Max depth: 3, Train Accuracy: 0.9524, Test Accuracy: 1.0000\n",
      "Max depth: 4, Train Accuracy: 0.9714, Test Accuracy: 1.0000\n",
      "Max depth: 5, Train Accuracy: 0.9905, Test Accuracy: 1.0000\n",
      "Max depth: 6, Train Accuracy: 1.0000, Test Accuracy: 1.0000\n",
      "Max depth: 7, Train Accuracy: 1.0000, Test Accuracy: 1.0000\n",
      "Max depth: 8, Train Accuracy: 1.0000, Test Accuracy: 1.0000\n",
      "Max depth: None, Train Accuracy: 1.0000, Test Accuracy: 1.0000\n"
     ]
    }
   ],
   "source": [
    "max_depths = [2, 3, 4, 5, 6, 7, 8, None] # Разные значения max_depth для экспериментов\n",
    "train_accuracies_depth = []\n",
    "test_accuracies_depth = []\n",
    "\n",
    "for depth in max_depths:\n",
    "    tree_clf_depth_limited = DecisionTreeClassifier(max_depth=depth, random_state=42) # Задаем max_depth\n",
    "    tree_clf_depth_limited.fit(X_train, y_train)\n",
    "\n",
    "    y_train_pred_depth = tree_clf_depth_limited.predict(X_train)\n",
    "    train_accuracy_depth = accuracy_score(y_train, y_train_pred_depth)\n",
    "    train_accuracies_depth.append(train_accuracy_depth)\n",
    "\n",
    "    y_test_pred_depth = tree_clf_depth_limited.predict(X_test)\n",
    "    test_accuracy_depth = accuracy_score(y_test, y_test_pred_depth)\n",
    "    test_accuracies_depth.append(test_accuracy_depth)\n",
    "\n",
    "    print(f'Max depth: {depth}, Train Accuracy: {train_accuracy_depth:.4f}, Test Accuracy: {test_accuracy_depth:.4f}')"
   ]
  },
  {
   "cell_type": "code",
   "execution_count": 10,
   "metadata": {},
   "outputs": [
    {
     "data": {
      "image/png": "[encoded data removed]",
      "text/plain": [
       "<Figure size 1000x600 with 1 Axes>"
      ]
     },
     "metadata": {},
     "output_type": "display_data"
    }
   ],
   "source": [
    "import matplotlib.pyplot as plt\n",
    "\n",
    "plt.figure(figsize=(10, 6))\n",
    "plt.plot(max_depths[:-1], train_accuracies_depth[:-1], marker='o', label='Train Accuracy') # Исключаем None для оси X\n",
    "plt.plot(max_depths[:-1], test_accuracies_depth[:-1], marker='o', label='Test Accuracy')   # Исключаем None для оси X\n",
    "plt.xlabel('Max Depth')\n",
    "plt.ylabel('Accuracy')\n",
    "plt.title('Зависимость точности от максимальной глубины дерева')\n",
    "plt.legend()\n",
    "plt.grid(True)\n",
    "plt.xticks(max_depths[:-1]) # Метки по значениям max_depth\n",
    "plt.show()"
   ]
  }
 ],
 "metadata": {
  "kernelspec": {
   "display_name": "konspect",
   "language": "python",
   "name": "python3"
  },
  "language_info": {
   "codemirror_mode": {
    "name": "ipython",
    "version": 3
   },
   "file_extension": ".py",
   "mimetype": "text/x-python",
   "name": "python",
   "nbconvert_exporter": "python",
   "pygments_lexer": "ipython3",
   "version": "3.12.3"
  }
 },
 "nbformat": 4,
 "nbformat_minor": 2
}
