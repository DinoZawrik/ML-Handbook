{
 "cells": [
  {
   "cell_type": "markdown",
   "id": "8cde5a5d71f2b6dc",
   "metadata": {},
   "source": [
    "### NumPy"
   ]
  },
  {
   "cell_type": "markdown",
   "id": "af12ab0a",
   "metadata": {},
   "source": [
    "#### 1.1 Основы\n",
    "\n",
    "**Зачем нужен NumPy?**\n",
    "\n",
    "Основное преимущество NumPy заключается в его **высокой производительности**.  Библиотека NumPy написана на языке C, что обеспечивает **значительное ускорение** операций по сравнению с выполнением аналогичных действий с использованием стандартных циклов Python. В области машинного обучения **постоянно возникает необходимость работать с векторами и матрицами**, и NumPy предоставляет для этого **структуру данных `ndarray`**, которая идеально подходит для эффективного представления и обработки многомерных массивов.\n",
    "\n",
    "Массивы NumPy (`ndarray`) обладают важной особенностью: они могут хранить **только данные одного типа** (например, только целые числа `int` или только числа с плавающей точкой `float`).  Это ограничение компенсируется **существенным выигрышем в скорости выполнения операций**, поскольку NumPy может эффективно организовывать данные в памяти и использовать оптимизированные алгоритмы для их обработки.\n",
    "\n",
    "**Создание массива NumPy**\n",
    "\n",
    "Самый простой способ создать массив NumPy – это **преобразовать существующий список Python** в массив NumPy с помощью функции `np.array()`."
   ]
  },
  {
   "cell_type": "code",
   "execution_count": 2,
   "id": "5ce53e526cd8b41d",
   "metadata": {
    "ExecuteTime": {
     "end_time": "2025-02-05T11:32:33.969059Z",
     "start_time": "2025-02-05T11:32:33.964164Z"
    }
   },
   "outputs": [
    {
     "name": "stdout",
     "output_type": "stream",
     "text": [
      "[1, 2, 3, 4, 5]\n",
      "[1 2 3 4 5]\n",
      "<class 'numpy.ndarray'>\n"
     ]
    }
   ],
   "source": [
    "import numpy as np # NumPy принято сокращать как np для краткости\n",
    "python_list = [1, 2, 3, 4, 5]\n",
    "numpy_array = np.array(python_list)\n",
    "\n",
    "print(python_list)\n",
    "print(numpy_array)\n",
    "print(type(numpy_array))"
   ]
  },
  {
   "cell_type": "markdown",
   "id": "34c6915690d0a75b",
   "metadata": {},
   "source": [
    "Ключевые характеристика массивов Numpy:     \n",
    "1. __Однородность типа данных (dtype):__ Все элементы должны быть одного типа данных. Это может быть и __int__ и __float__ и __bool__ и многое другое. Проверть тип данных можно с помощью атрибута __.dtype__.\n",
    "```python\n",
    "        print(numpy_array.dtype)\n",
    "```\n",
    "2. __Размерность (ndim):__ Количество измерений массива. Вектор - одномерный массив (ndim = 1), матрица - двумерный (ndim = 2), и т.д. Размерность можно узнать с помощью атрибута **.ndim**.\n",
    "```python\n",
    "        print(numpy_arraay.ndim)\n",
    "```\n",
    "3. **Форма (shape):** Размер массива по каждому измерению. Форма возвращается в виде кортежа (tuple). Для одномерного массива форма - это количество элемнтов. Для двумерного - количество строк и столбцов. Форму можно узнать с помощью атрибута **.shape**.\n",
    "```python \n",
    "        print(numpy_array.shape)\n",
    "```"
   ]
  },
  {
   "cell_type": "code",
   "execution_count": null,
   "id": "6ba41829dda2e92e",
   "metadata": {},
   "outputs": [],
   "source": [
    "python_list_of_lists = [[1, 2, 3], [4, 5, 6]]\n",
    "\n",
    "numpy_matrix = np.array(python_list_of_lists)\n",
    "\n",
    "print(numpy_matrix, '\\n', type(numpy_matrix), '\\n', \n",
    "      numpy_matrix.dtype, '\\n', numpy_matrix.ndim, '\\n', numpy_matrix.shape)\n"
   ]
  },
  {
   "cell_type": "markdown",
   "id": "19c1c8e6",
   "metadata": {},
   "source": [
    "----"
   ]
  },
  {
   "cell_type": "markdown",
   "id": "6a1fbc86",
   "metadata": {},
   "source": [
    "#### 1.2 Базовые операции c векторами и матрицами"
   ]
  },
  {
   "cell_type": "markdown",
   "id": "649dec18",
   "metadata": {},
   "source": [
    "* **Поэлементные операции:**\n",
    "\n",
    "   Операции NumPy применяются к каждому элементу массива **независимо**.  При сложении двух массивов **одинаковой формы**, элементы на **соответствующих позициях** складываются поэлементно."
   ]
  },
  {
   "cell_type": "code",
   "execution_count": null,
   "id": "c27cbec5",
   "metadata": {},
   "outputs": [],
   "source": [
    "array1 = np.array([1, 2, 3])\n",
    "array2 = np.array([4, 5, 6])\n",
    "\n",
    "print('Сумма:', array1 + array2)\n",
    "print('Разность', array2 - array1)\n",
    "print('Произведение', array1 * array2)\n",
    "print('Деление', array2 / array1) # при делении тип данных автоматически меняется на float"
   ]
  },
  {
   "cell_type": "markdown",
   "id": "99895f82",
   "metadata": {},
   "source": [
    "##### Векторы\n",
    "\n",
    "1. **Векторные операции:**  Векторные операции – это операции, которые выполняются над массивами NumPy как над векторами.  Векторы, по сути, являются **одномерными массивами чисел**, над которыми можно производить различные базовые операции, включая вычисление **скалярного произведения**."
   ]
  },
  {
   "cell_type": "code",
   "execution_count": null,
   "id": "04c53b23",
   "metadata": {},
   "outputs": [],
   "source": [
    "vector = np.array([1, 2, 3])\n",
    "scalar = 2\n",
    "\n",
    "scaled_vector = vector * scalar\n",
    "print('Исходный вектор:', vector)\n",
    "print('Скаляр:', scalar)\n",
    "print('Вектор, умноженный на скаялр:', scaled_vector)"
   ]
  },
  {
   "cell_type": "markdown",
   "id": "38babafe",
   "metadata": {},
   "source": [
    "2. **Сложение и вычитание векторов:**  Сложение и вычитание векторов **возможно только** для векторов **одинаковой длины**."
   ]
  },
  {
   "cell_type": "code",
   "execution_count": null,
   "id": "94cf0a1f",
   "metadata": {},
   "outputs": [],
   "source": [
    "vector1 = np.array([1, 2, 3])\n",
    "vector2 = np.array([4, 5, 6])\n",
    "\n",
    "print('Вектор 1:', vector1)\n",
    "print('Вектор 2:', vector2)\n",
    "print('Сумма векторов:', vector1 + vector2)\n",
    "print('Разность векторов:', vector2 - vector1)"
   ]
  },
  {
   "cell_type": "markdown",
   "id": "29fb8d0d",
   "metadata": {},
   "source": [
    "3. **Скалярное произведение векторов (dot product):** Скалярное произведение двух векторов **одинаковой длины** – это **сумма произведений их соответствующих элементов**.\n",
    "\n",
    "    * Способ первый: функция **`np.dot()`**\n",
    "    * Способ второй: оператор **`@`**"
   ]
  },
  {
   "cell_type": "code",
   "execution_count": null,
   "id": "ba1c8860",
   "metadata": {},
   "outputs": [],
   "source": [
    "vector3 = np.array([1, 2, 3])\n",
    "vector4 = np.array([4, 5, 6])\n",
    "\n",
    "print('Вектор 3:', vector3)\n",
    "print('Вектор 4:', vector4)\n",
    "print('Скаллярное произведение (np.dot):', np.dot(vector3, vector4))\n",
    "print('Скалярное произведение (@):', vector3 @ vector4, ' - приоритетный вариант')"
   ]
  },
  {
   "cell_type": "markdown",
   "id": "7744bc5d",
   "metadata": {},
   "source": [
    "---"
   ]
  },
  {
   "cell_type": "markdown",
   "id": "8297d130",
   "metadata": {},
   "source": [
    "#### Матрицы\n",
    "Матрицы в NumPy **представлены** как двумерные массивы (`ndarray` с `ndim=2`).\n",
    "\n",
    "1. **Создание матриц:**"
   ]
  },
  {
   "cell_type": "code",
   "execution_count": null,
   "id": "18c38e3b",
   "metadata": {},
   "outputs": [],
   "source": [
    "matrix1 = np.array([[1, 2, 3], [4, 5, 6]])\n",
    "print('Матрица 1:\\n', matrix1)"
   ]
  },
  {
   "cell_type": "markdown",
   "id": "8a8fc930",
   "metadata": {},
   "source": [
    "2. **Поэлементальные операции с матрицами:**"
   ]
  },
  {
   "cell_type": "code",
   "execution_count": null,
   "id": "e4fb7821",
   "metadata": {},
   "outputs": [],
   "source": [
    "matrix2 = np.array([[7, 8, 9], [10, 11, 12]])\n",
    "\n",
    "print('\\nМатрица 1:\\n', matrix1)\n",
    "print('\\nМатрица 2:\\n', matrix2)\n",
    "print('\\nПоэлементальная сумма матриц:\\n', matrix1 + matrix2)\n",
    "print('\\nПоэлементальная разность матриц:\\n', matrix2 - matrix1)\n",
    "print('\\nПоэлементальное произведение матриц:\\n', matrix1 * matrix2)\n",
    "print('\\nПоэлементальная деление матриц:\\n', matrix2 / matrix1)"
   ]
  },
  {
   "cell_type": "markdown",
   "id": "391cbeb8",
   "metadata": {},
   "source": [
    "3. **Матричное умножение:**\n",
    "\n",
    "   **Важно:** Матричное умножение – это **не** поэлементное умножение! Это принципиально иная операция, которая определяется правилами линейной алгебры.\n",
    "\n",
    "   * **Правило матричного умножения:**  Для того чтобы матрицу A можно было умножить на матрицу B, **количество столбцов матрицы A должно быть равно количеству строк матрицы B**.  Если матрица A имеет размерность (m x n), а матрица B имеет размерность (n x p), то результатом матричного умножения будет матрица C размерности (m x p).\n",
    "\n",
    "   * Элемент C[i, j] результирующей матрицы C вычисляется как **скалярное произведение i-й строки матрицы A и j-го столбца матрицы B**.\n",
    "\n",
    "   * В NumPy для выполнения матричного умножения используются функция **`np.dot()`** и оператор **`@`**."
   ]
  },
  {
   "cell_type": "code",
   "execution_count": null,
   "id": "4a3e3e7d",
   "metadata": {},
   "outputs": [],
   "source": [
    "matrix3 = np.array([[1, 2], [3, 4]])\n",
    "matrix4 = np.array([[5, 6, 7], [8, 9, 10]])\n",
    "\n",
    "matrix_product = matrix3 @ matrix4\n",
    "\n",
    "print('\\nМатрица 1:\\n', matrix3)\n",
    "print('\\nМатрица 2:\\n', matrix4)\n",
    "print('\\nМатричное произведение:\\n', matrix_product)\n"
   ]
  },
  {
   "cell_type": "markdown",
   "id": "0c80ddef",
   "metadata": {},
   "source": [
    "4. **Транспонирование матрицы:**\n",
    "\n",
    "   Транспонирование – это операция, которая **меняет местами** строки и столбцы матрицы.  В NumPy транспонированную матрицу можно получить, используя **атрибут `.T`**."
   ]
  },
  {
   "cell_type": "code",
   "execution_count": null,
   "id": "62b673c6",
   "metadata": {},
   "outputs": [],
   "source": [
    "matrix5 = np.array([[1, 2, 3], [4, 5, 6]])\n",
    "matrix5_transposed = matrix5.T\n",
    "print('\\nМатрица 5:\\n', matrix5)\n",
    "print('\\nТранспонированная матрица:\\n', matrix5_transposed)"
   ]
  },
  {
   "cell_type": "markdown",
   "id": "fceeab83",
   "metadata": {},
   "source": [
    "___"
   ]
  },
  {
   "cell_type": "markdown",
   "id": "227ebcc5",
   "metadata": {},
   "source": [
    "#### **Индексация и срезы**\n"
   ]
  },
  {
   "cell_type": "markdown",
   "id": "17197593",
   "metadata": {},
   "source": [
    "1. **Индексация одномерных массивов:**"
   ]
  },
  {
   "cell_type": "code",
   "execution_count": null,
   "id": "c5b33d01",
   "metadata": {},
   "outputs": [],
   "source": [
    "vector = np.array([10, 20, 30, 40, 50])\n",
    " \n",
    "first_element = vector[0] # Первый элемент\n",
    "second_element = vector[1] # Второй элемент\n",
    "last_element = vector[-1] # Последний элемент\n",
    "penultimate_element = vector[-2] # Предпоследний элемент \n",
    "\n",
    "print('Исходный вектор:', vector)   \n",
    "print('Первый элемент', first_element)\n",
    "print('Второй элемент', second_element)\n",
    "print('Последний элемент', last_element)\n",
    "print('Предпоследний элемент', penultimate_element)"
   ]
  },
  {
   "cell_type": "markdown",
   "id": "36b6e9f1",
   "metadata": {},
   "source": [
    "2. **Индексация двумерных массивов (матриц):**\n",
    "\n",
    "   В двумерных массивах, каждый элемент **определяется двумя индексами**: номером строки и номером столбца.  Индексация, как и в одномерных массивах, **начинается с 0**.\n",
    "\n",
    "   Для доступа к конкретному элементу матрицы, необходимо указать **оба индекса через запятую** внутри квадратных скобок, в следующем порядке: `matrix[номер_строки, номер_столбца]`."
   ]
  },
  {
   "cell_type": "code",
   "execution_count": null,
   "id": "637e7e4c",
   "metadata": {},
   "outputs": [],
   "source": [
    "matrix = np.array([[1, 2, 3], [4, 5, 6], [7, 8, 9]])\n",
    "\n",
    "element_0_0 = matrix[0, 0] # Элемент в 0-й строке и 0-м столбце\n",
    "element_1_2 = matrix[1, 2] # Элемент в 1-й строке и 2-м столбце\n",
    "element_2_1 = matrix[2, 1] # Элемент в 2-й строке и 1-и стобце\n",
    "element_last_row_last_col = matrix[-1, -1] # Последний элемент\n",
    "\n",
    "print(\"Исходная матрица:\\n\", matrix)\n",
    "print(\"Элемент [0, 0]:\", element_0_0)\n",
    "print(\"Элемент [1, 2]:\", element_1_2)\n",
    "print(\"Элемент [2, 1]:\", element_2_1)\n",
    "print(\"Последний элемент [-, -]:\", element_last_row_last_col)"
   ]
  },
  {
   "cell_type": "markdown",
   "id": "09affc1b",
   "metadata": {},
   "source": [
    "3. **Срезы (slicing) одномерных массивов:**\n",
    "\n",
    "   Срезы (slicing) позволяют **выделить диапазон элементов** из массива.  Для указания диапазона используется **синтаксис срезов**: `[start:stop:step]`."
   ]
  },
  {
   "cell_type": "code",
   "execution_count": null,
   "id": "d2f417f7",
   "metadata": {},
   "outputs": [],
   "source": [
    "vector_slice = np.array([10, 20, 30, 40, 50, 60, 70, 80, 90, 100])\n",
    "\n",
    "slice_1_to_4 = vector_slice[1:5]    # Элементы с индексами 1, 2, 3, 4 (до 5, не включая 5)\n",
    "slice_from_begin_to_3 = vector_slice[:4] # С начала до индекса 4 (не включая 4)\n",
    "slice_from_5_to_end = vector_slice[5:]   # С индекса 5 до конца\n",
    "slice_even_indices = vector_slice[::2]  # Каждый второй элемент (шаг 2)\n",
    "slice_reverse = vector_slice[::-1]     # В обратном порядке (шаг -1)\n",
    "\n",
    "print(\"Исходный вектор:\", vector_slice)\n",
    "print(\"Срез [1:5]:\", slice_1_to_4)\n",
    "print(\"Срез [:4]:\", slice_from_begin_to_3)\n",
    "print(\"Срез [5:]:\", slice_from_5_to_end)\n",
    "print(\"Срез [::2]:\", slice_even_indices)\n",
    "print(\"Срез [::-1]:\", slice_reverse)"
   ]
  },
  {
   "cell_type": "markdown",
   "id": "bff0926f",
   "metadata": {},
   "source": [
    "4. **Срезы матриц:**\n",
    "\n",
    "   Для двумерных массивов (матриц) срезы применяются **отдельно для строк и для столбцов**, и указываются **через запятую**.  Общий синтаксис среза матрицы выглядит следующим образом:\n",
    "   ```python\n",
    "   matrix[срез_строки, срез_столбца]\n",
    "   ```"
   ]
  },
  {
   "cell_type": "code",
   "execution_count": null,
   "id": "9253f389",
   "metadata": {},
   "outputs": [],
   "source": [
    "matrix_slice = np.array([[1, 2, 3, 4], [5, 6, 7, 8], [9, 10, 11, 12], [13, 14, 15, 16]])\n",
    "\n",
    "slice_rows_0_to_2 = matrix_slice[0:3, :]    # Строки с 0 по 2 (не включая 3), все столбцы (:)\n",
    "slice_cols_1_to_3 = matrix_slice[:, 1:4]    # Все строки (:), столбцы с 1 по 3 (не включая 4)\n",
    "slice_top_left_2x2 = matrix_slice[:2, :2]   # Верхний левый угол 2x2\n",
    "slice_bottom_right_2x2 = matrix_slice[2:, 2:] # Нижний правый угол 2x2\n",
    "slice_every_other_row_col = matrix_slice[::2, ::2] # Каждая вторая строка и каждый второй столбец\n",
    "\n",
    "print(\"Исходная матрица:\\n\", matrix_slice)\n",
    "print(\"\\nСрез строк [0:3, :]:\\n\", slice_rows_0_to_2)\n",
    "print(\"\\nСрез столбцов [:, 1:4]:\\n\", slice_cols_1_to_3)\n",
    "print(\"\\nСрез верхний левый 2x2:\\n\", slice_top_left_2x2)\n",
    "print(\"\\nСрез нижний правый 2x2:\\n\", slice_bottom_right_2x2)\n",
    "print(\"\\nСрез каждая вторая строка/столбец:\\n\", slice_every_other_row_col)"
   ]
  },
  {
   "cell_type": "markdown",
   "id": "7180b759",
   "metadata": {},
   "source": [
    "---"
   ]
  },
  {
   "cell_type": "markdown",
   "id": "cb1bd13f",
   "metadata": {},
   "source": [
    "#### Изменение формы массивов\n",
    "\n",
    "Для изменения формы массива используется метод `.reshape()`.\n",
    "**Важно помнить:** **Общее количество элементов массива должно оставаться неизменным!**\n",
    "*   При изменении формы, произведение размеров измерений (например, строк и столбцов) должно быть равно исходному количеству элементов.\n",
    "1. **Преобразование одномерного массива в двумерный:**"
   ]
  },
  {
   "cell_type": "code",
   "execution_count": null,
   "id": "84109f1f",
   "metadata": {},
   "outputs": [],
   "source": [
    "vector_reshape = np.array([1, 2, 3, 4, 5, 6, 7, 8, 9, 10, 11, 12])\n",
    "print(\"Исходный вектор:\\n\", vector_reshape)\n",
    "print(\"Форма исходного вектора:\", vector_reshape.shape) # (12,)\n",
    "\n",
    "# Мы можем преобразовать его в матрицу 3x4 (3 строки, 4 столбца), потому что 3 * 4 = 12:\n",
    "\n",
    "matrix_reshaped_3x4 = vector_reshape.reshape((3, 4)) # Обрати внимание на двойные скобки!\n",
    "print(\"\\nМатрица 3x4:\\n\", matrix_reshaped_3x4)\n",
    "print(\"Форма матрицы 3x4:\", matrix_reshaped_3x4.shape) # (3, 4)"
   ]
  },
  {
   "cell_type": "markdown",
   "id": "0de7b91c",
   "metadata": {},
   "source": [
    "2. **Преобразование двумерного массива в одномерный:**\n",
    "\n",
    "   Возможно и обратное действие – \"развернуть\" матрицу (двумерный массив) в вектор (одномерный массив).  Рассмотрим, например, матрицу 3x4, созданную ранее:"
   ]
  },
  {
   "cell_type": "code",
   "execution_count": null,
   "id": "d8ffaf92",
   "metadata": {},
   "outputs": [],
   "source": [
    "print(\"\\nИсходная матрица 3x4:\\n\", matrix_reshaped_3x4)\n",
    "print(\"Форма исходной матрицы:\", matrix_reshaped_3x4.shape) # (3, 4)\n",
    "\n",
    "vector_reshaped_again = matrix_reshaped_3x4.reshape((12,)) # Или можно просто reshape(-1)\n",
    "print(\"\\nВектор из матрицы:\\n\", vector_reshaped_again)\n",
    "print(\"Форма вектора:\", vector_reshaped_again.shape) # (12,)"
   ]
  },
  {
   "cell_type": "markdown",
   "id": "5e1e4098",
   "metadata": {},
   "source": [
    "3. **Использование `-1` в `reshape()` для автоматического размера:**\n",
    "\n",
    "   В методе `.reshape()` можно указать `-1` для одного из размеров. NumPy **автоматически вычислит этот размер**, исходя из общего количества элементов и других размеров.\n",
    "\n",
    "   **Преимущества `-1`:**\n",
    "\n",
    "   *   **Автоматический расчет размера:**  NumPy сам определяет нужный размер.\n",
    "   *   **Удобство:**  Избавляет от ручных вычислений.\n",
    "   *   **Гибкость кода:**  Код работает с массивами разного размера (если это возможно для `reshape`)."
   ]
  },
  {
   "cell_type": "code",
   "execution_count": null,
   "id": "f08e75d6",
   "metadata": {},
   "outputs": [],
   "source": [
    "print(\"Исходная матрица 3x4:\\n\", matrix_reshaped_3x4)\n",
    "print(\"Форма исходной матрицы:\", matrix_reshaped_3x4.shape) # (3, 4)\n",
    "\n",
    "matrix_reshaped_auto_rows = matrix_reshaped_3x4.reshape((-1, 2)) # -1 для автоматического расчета строк, 2 столбца\n",
    "print(\"\\nМатрица с авто-строками и 2 столбцами:\\n\", matrix_reshaped_auto_rows)\n",
    "print(\"Форма матрицы:\", matrix_reshaped_auto_rows.shape) # (6, 2) - получилось 6 строк и 2 столбца"
   ]
  },
  {
   "cell_type": "markdown",
   "id": "6b224570",
   "metadata": {},
   "source": [
    "---"
   ]
  },
  {
   "cell_type": "markdown",
   "id": "f101d927",
   "metadata": {},
   "source": [
    "#### **Бродкастинг (транслирование)**\n",
    "\n",
    "Бродкастинг – это **мощный механизм NumPy**, позволяющий выполнять **арифметические операции** с массивами **разных форм** при условии их **совместимости**.  Хотя на первый взгляд это может показаться сложным, на практике бродкастинг – **интуитивно понятный и очень полезный** инструмент.\n",
    "\n",
    "**Правила транслирования:**\n",
    "\n",
    "1.  **Сравнение размерностей:** Размерности массивов сравниваются **справа налево**.\n",
    "2.  **Условия совместимости:** Размерности **совместимы**, если выполняется **хотя бы одно** из условий:\n",
    "    *   Размерности **равны**.\n",
    "    *   Одна из размерностей равна **1**.\n",
    "3.  **Выравнивание размерностей:** К массиву с **меньшим числом размерностей** **слева** добавляются \"единичные\" размерности для выравнивания размерности.\n",
    "1.  **Скаляр и массив:**"
   ]
  },
  {
   "cell_type": "code",
   "execution_count": null,
   "id": "98281b6f",
   "metadata": {},
   "outputs": [],
   "source": [
    "scalar_broadcast = 2\n",
    "vector_broadcast = np.array([1, 2, 3])\n",
    "matrix_broadcast = np.array([[1, 2], [3, 4]])\n",
    "\n",
    "vector_scaled_broadcast = vector_broadcast * scalar_broadcast\n",
    "matrix_scaled_broadcast = matrix_broadcast * scalar_broadcast\n",
    "\n",
    "print(\"Скаляр:\", scalar_broadcast)\n",
    "print(\"Вектор:\\n\", vector_broadcast)\n",
    "print(\"Матрица:\\n\", matrix_broadcast)\n",
    "print(\"\\nВектор, умноженный на скаляр (транслирование):\\n\", vector_scaled_broadcast)\n",
    "print(\"\\nМатрица, умноженная на скаляр (транслирование):\\n\", matrix_scaled_broadcast)"
   ]
  },
  {
   "cell_type": "markdown",
   "id": "1d60a36b",
   "metadata": {},
   "source": [
    "2. **Транслирование вектора и матрицы (транслирование по строкам):**\n",
    "\n",
    "   Для того чтобы транслировать вектор **по столбцам** матрицы, необходимо **преобразовать вектор в вектор-столбец** с помощью метода `.reshape()`."
   ]
  },
  {
   "cell_type": "code",
   "execution_count": null,
   "id": "4f34c19f",
   "metadata": {},
   "outputs": [],
   "source": [
    "matrix_broadcast_2 = np.array([[1, 2, 3], [4, 5, 6]]) # Матрица 2x3\n",
    "vector_col_broadcast = np.array([100, 200]).reshape((2, 1)) # Вектор-столбец (форма (2, 1))\n",
    "\n",
    "matrix_plus_col = matrix_broadcast_2 + vector_col_broadcast\n",
    "\n",
    "print(\"\\nМатрица:\\n\", matrix_broadcast_2)\n",
    "print(\"Вектор-столбец:\\n\", vector_col_broadcast)\n",
    "print(\"\\nМатрица + вектор-столбец (транслирование по столбцам):\\n\", matrix_plus_col)"
   ]
  },
  {
   "cell_type": "markdown",
   "id": "f441eab5",
   "metadata": {},
   "source": [
    "Здесь вектор-столбец `[[100], [200]]` **транслируется** и **\"растягивается\"** для соответствия столбцам матрицы.  Вектор-столбец **повторяется** для каждого столбца матрицы и **поэлементно прибавляется** к каждому столбцу.\n",
    "\n",
    "**Преимущества транслирования:**\n",
    "\n",
    "*   **Краткость кода:**  Транслирование позволяет **избежать циклов**, делая код **компактнее, выразительнее и легче для чтения**.\n",
    "*   **Эффективность:**  Операции транслирования в NumPy **выполняются очень эффективно**, часто **быстрее циклов Python**.  NumPy использует оптимизированный векторизованный код на C/Fortran для бродкастинга."
   ]
  },
  {
   "cell_type": "markdown",
   "id": "b072405a",
   "metadata": {},
   "source": [
    "---"
   ]
  },
  {
   "cell_type": "markdown",
   "id": "91fab906",
   "metadata": {},
   "source": [
    "#### Зачем нужны универсальные функции (ufuncs)?\n",
    "\n",
    "**Производительность:** Ufuncs в NumPy написаны на C, что обеспечивает **значительное ускорение** операций. Ufuncs **намного быстрее** циклов Python. В областях, где **скорость важна**, например, в машинном обучении, ufuncs **необходимы** для эффективности.\n",
    "\n",
    "**Удобство:** Ufuncs делают код NumPy **лаконичнее и читаемее**. Вместо циклов для обработки элементов, можно **вызвать ufunc для массива целиком**. Это упрощает код и уменьшает вероятность ошибок.\n",
    "\n",
    "**Векторизация:** Ufuncs **обеспечивают векторизацию вычислений**. **Векторизация** - это применение операций **к массивам целиком**, а не к элементам по отдельности. **Векторизованный код** с ufuncs **быстрее и эффективнее** кода на циклах Python.\n",
    "\n",
    "**Типы универсальных функций (ufuncs):**\n",
    "\n",
    "Ufuncs делятся на типы в зависимости от количества входных массивов:\n",
    "\n",
    "* **Унарные ufuncs:**  Работают **с одним массивом**. Примеры:\n",
    "    * **Математические:** `np.abs()`, `np.sqrt()`, `np.exp()`, `np.log()`, `np.sin()`, `np.cos()`, `np.tan()`, `np.floor()`, `np.ceil()`, `np.round()` и др.\n",
    "    * **Логические:** `np.logical_not()`.\n",
    "\n",
    "* **Бинарные ufuncs:** Работают **с двумя массивами (поэлементно)**. Примеры:\n",
    "    * **Арифметические:** `np.add()`, `np.subtract()`, `np.multiply()`, `np.divide()`, `np.power()`, `np.mod()`. **Важно:** **арифметические операторы Python** (`+`, `-`, `*`, `/`, `**`, `%`) **тоже ufuncs**, это \"синтаксический сахар\" для `np.add()`, `np.subtract()` и т.д.\n",
    "    * **Логические:** `np.logical_and()`, `np.logical_or()`, `np.logical_xor()`, `np.equal()`, `np.not_equal()`, `np.less()`, `np.greater()`, `np.less_equal()`, `np.greater_equal()`.\n",
    "    * **Битовые:** `np.bitwise_and()`, `np.bitwise_or()`, `np.bitwise_xor()`, `np.bitwise_not()`."
   ]
  },
  {
   "cell_type": "markdown",
   "id": "b60e31e9",
   "metadata": {},
   "source": [
    "1. **Унарные функици:**"
   ]
  },
  {
   "cell_type": "code",
   "execution_count": null,
   "id": "d5c2fd90",
   "metadata": {},
   "outputs": [],
   "source": [
    "array_ufunc = np.array([-1, 2, -3, 4, -5])\n",
    "\n",
    "abs_array = np.abs(array_ufunc) # Модуль каждого элемента\n",
    "sqrt_array = np.sqrt(abs_array) # Квадратный корень из модуля  \n",
    "exp_array = np.exp(array_ufunc) # Экспонента каждого элемента\n",
    "sin_array = np.sin(array_ufunc) # Синус каждого элемента\n",
    "rounded_array = np.round(array_ufunc, decimals=1) # Округление до 1 знака после запятой\n",
    "\n",
    "print(\"Исходный массив:\\n\", array_ufunc)\n",
    "print(\"\\nМодуль (np.abs):\\n\", abs_array)\n",
    "print(\"\\nКвадратный корень (np.sqrt):\\n\", sqrt_array)\n",
    "print(\"\\nЭкспонента (np.exp):\\n\", exp_array)\n",
    "print(\"\\nСинус (np.sin):\\n\", sin_array)\n",
    "print(\"\\nОкругление (np.round):\\n\", rounded_array)"
   ]
  },
  {
   "cell_type": "markdown",
   "id": "2b3612eb",
   "metadata": {},
   "source": [
    "2. **Бинарные ufuncs:**"
   ]
  },
  {
   "cell_type": "code",
   "execution_count": null,
   "id": "dcc65968",
   "metadata": {},
   "outputs": [],
   "source": [
    "array_ufunc_1 = np.array([1, 2, 3, 4, 5])\n",
    "array_ufunc_2 = np.array([6, 7, 8, 9, 10])\n",
    "\n",
    "sum_arrays = np.add(array_ufunc_1, array_ufunc_2) # Поэлементное сложение\n",
    "product_arrays = np.multiply(array_ufunc_1, array_ufunc_2) # Поэлементное умножение\n",
    "power_arrays = np.power(array_ufunc_1, 2) # Возведение в степень (здесь второй массив - скаляр 2, транслируется)\n",
    "greater_arrays = np.greater(array_ufunc_2, array_ufunc_1) # Поэлементное сравнение \"больше\" (возвращает массив boolean)\n",
    "\n",
    "print(\"\\nМассив 1:\\n\", array_ufunc_1)\n",
    "print(\"\\nМассив 2:\\n\", array_ufunc_2)\n",
    "print(\"\\nСумма (np.add):\\n\", sum_arrays)\n",
    "print(\"\\nПроизведение (np.multiply):\\n\", product_arrays)\n",
    "print(\"\\nСтепень (np.power):\\n\", power_arrays)\n",
    "print(\"\\nСравнение 'больше' (np.greater):\\n\", greater_arrays)"
   ]
  },
  {
   "cell_type": "markdown",
   "id": "83cd9f38",
   "metadata": {},
   "source": [
    "---"
   ]
  },
  {
   "cell_type": "markdown",
   "id": "50664d28",
   "metadata": {},
   "source": [
    "#### **Генерация случайных чисел**\n",
    "\n",
    "Случайные числа **исключительно важны** в машинном обучении. Они необходимы для множества задач и алгоритмов.  Вот несколько **ключевых примеров**:\n",
    "\n",
    "*   **Инициализация весов нейросетей:** Веса нейросетей **инициализируются случайными значениями** в начале обучения. **Правильная случайная инициализация критически важна** для обучения.\n",
    "*   **Разделение данных на выборки:** Для **оценки качества модели**, данные **случайно разделяют** на обучающую и тестовую выборки.\n",
    "*   **Перемешивание данных (shuffling):** Данные часто **перемешивают в случайном порядке** перед обучением, чтобы **избежать смещений** и **улучшить обучение**.\n",
    "*   **Алгоритмы случайного поиска:** Для **оптимизации гиперпараметров** используют **алгоритмы случайного поиска**, которые **случайно перебирают комбинации** параметров.\n",
    "*   **Моделирование случайных процессов:** В задачах машинного обучения нужно **моделировать случайные процессы**, например, генерировать случайные траектории или создавать случайные выборки.\n",
    "\n",
    "NumPy предоставляет **мощный подмодуль `numpy.random`** с **большим набором инструментов** для генерации **разнообразных случайных чисел** и **выборок** из разных распределений."
   ]
  },
  {
   "cell_type": "markdown",
   "id": "14aa22c3",
   "metadata": {},
   "source": [
    "1. `np.random.rand(d0, d1, ..., dn)`:  Генерирует массив случайных **чисел** с **равномерным** распределением в **диапазоне** `[0, 1)`."
   ]
  },
  {
   "cell_type": "code",
   "execution_count": null,
   "id": "fd8f2800",
   "metadata": {},
   "outputs": [],
   "source": [
    "random_array_rand = np.random.rand(3, 2) # Матрица 3x2 случайных чиесл от 0 до 1\n",
    "print('Массив rand (3x2):\\n', random_array_rand)"
   ]
  },
  {
   "cell_type": "markdown",
   "id": "8cb8d48a",
   "metadata": {},
   "source": [
    "2. `np.random.randn(d0, d1, ..., dn)`:  Генерирует массив случайных чисел из **стандартного нормального распределения** (среднее **0**, стандартное отклонение **1**)."
   ]
  },
  {
   "cell_type": "code",
   "execution_count": null,
   "id": "0d6a79e9",
   "metadata": {},
   "outputs": [],
   "source": [
    "random_array_randn = np.random.randn(2, 4) # Матрица 2x4 случанйх чисел из нормального распределения\n",
    "print('Массив randn (2x4):\\n', random_array_randn)"
   ]
  },
  {
   "cell_type": "markdown",
   "id": "6f0bbfbb",
   "metadata": {},
   "source": [
    "3. `np.random.randint(low, high=None, size=None, dtype=int)`:  Генерирует массив **целых** случайных чисел, **равномерно распределенных** в дискретном диапазоне `[low, high)`.  **Если параметр `high` не указан**, диапазон генерируется как `[0, low)`.  Параметр `size` задает **форму** выходного массива."
   ]
  },
  {
   "cell_type": "code",
   "execution_count": null,
   "id": "71bbacd9",
   "metadata": {},
   "outputs": [],
   "source": [
    "random_integers_1_10 = np.random.randint(1, 11, size=5) # 5 случайных целых чисел от 1 до 10\n",
    "random_integers_0_5_matrix = np.random.randint(0, 6, size=(2,3)) # Матрица 2x3 случайных чисел от 0 до 5\n",
    "\n",
    "print(\"\\nЦелые числа randint [1, 11) (5):\\n\", random_integers_1_10)\n",
    "print(\"\\nЦелые числа randint [0, 6) (2x3):\\n\", random_integers_0_5_matrix)"
   ]
  },
  {
   "cell_type": "markdown",
   "id": "341ce4d6",
   "metadata": {},
   "source": [
    "4. `np.random.random(size=None)`:  **Аналогична** функции `np.random.rand()`, но **принимает размер массива** в виде **кортежа** в аргументе `size`, а **не** как отдельные аргументы размерностей.  **Если `size=None`**, функция **возвращает одно случайное число** (скаляр)."
   ]
  },
  {
   "cell_type": "code",
   "execution_count": null,
   "id": "de846514",
   "metadata": {},
   "outputs": [],
   "source": [
    "random_array_random = np.random.random((4, 2)) # Матрица 4x2 случайных чисел от 0 до 1\n",
    "single_random_number = np.random.random() # Одно случайное число от 0 до 1\n",
    "print(\"\\nМассив random (4x2):\\n\", random_array_random)\n",
    "print(\"\\nСлучайное число random (одно):\\n\", single_random_number)"
   ]
  },
  {
   "cell_type": "markdown",
   "id": "6bdeec1b",
   "metadata": {},
   "source": [
    "5. `np.random.choice(a, size=None, replace=True, p=None)`:  Генерирует **случайную выборку** из **заданного массива `a`**.\n",
    "\n",
    "    * `a` – **Исходный массив**, из которого производится выборка.  Может быть массивом NumPy или **целым числом**.  **Если `a` – целое число**, выборка будет производиться из массива, сгенерированного как `np.arange(a)` (последовательность целых чисел от 0 до `a-1`).\n",
    "\n",
    "    * `size` –  **Форма** (размерность) **выходного массива**.\n",
    "\n",
    "    * `replace=True` –  **Выборка с возвращением**.  Если `replace=True`, **один и тот же элемент** из массива `a` **может быть выбран несколько раз** в выходной выборке.  `replace=False` – **Выборка без возвращения**.  В этом случае, каждый элемент из `a` может быть выбран **не более одного раза**.\n",
    "\n",
    "    * `p` –  **Вероятности выбора** каждого элемента из массива `a`.  Должен быть **одномерный массив** той же длины, что и `a`, содержащий **вероятности** (от 0 до 1) для каждого элемента.  **Если параметр `p` не указан**, то **вероятности считаются равномерными** для всех элементов массива `a`."
   ]
  },
  {
   "cell_type": "code",
   "execution_count": null,
   "id": "32f35d0c",
   "metadata": {},
   "outputs": [],
   "source": [
    "data_for_choice = np.array(['a', 'b', 'c', 'd', 'e'])\n",
    "random_choice_1 = np.random.choice(data_for_choice) # Случайный выбор одного элемента из массива\n",
    "random_choice_5 = np.random.choice(data_for_choice, size=5) # 5 случайных выборок с возвращением\n",
    "random_choice_3_no_replace = np.random.choice(data_for_choice, size=3, replace=False) # 3 случайных выбора без возвращения\n",
    "probabilities = [0.1, 0.2, 0.3, 0.25, 0.15] # Вероятности для каждого элемента\n",
    "random_choice_weighted = np.random.choice(data_for_choice, size=5, p=probabilities) # Взвешенная случайная выборка\n",
    "\n",
    "print(\"\\nМассив для выбора:\\n\", data_for_choice)\n",
    "print(\"\\nСлучайный выбор (один):\\n\", random_choice_1)\n",
    "print(\"\\nСлучайный выбор (5 с возвращением):\\n\", random_choice_5)\n",
    "print(\"\\nСлучайный выбор (3 без возвращения):\\n\", random_choice_3_no_replace)\n",
    "print(\"\\nВзвешенный случайный выбор (5):\\n\", random_choice_weighted)"
   ]
  },
  {
   "cell_type": "markdown",
   "id": "b6c7ba1d",
   "metadata": {},
   "source": [
    "`np.random.seed(seed=None)`:\n",
    "\n",
    "   **Фиксация \"зерна\" генератора случайных чисел.**  Это **ключевой инструмент для обеспечения воспроизводимости результатов**, которые зависят от случайной генерации чисел.\n",
    "\n",
    "   **Важность воспроизводимости:**  В научных исследованиях, машинном обучении и многих других областях **воспроизводимость экспериментов и результатов является крайне важной**.  Когда вы используете случайные числа в своем коде, результаты могут меняться при каждом запуске, если не контролировать генерацию случайных чисел.  `np.random.seed()` позволяет **зафиксировать начальную точку (зерно)** для генератора псевдослучайных чисел, делая последовательность случайных чисел **детерминированной и воспроизводимой**.\n",
    "\n",
    "   **Как работает `np.random.seed()`:**  Если вы **установите одно и то же значение параметра `seed`** перед генерацией случайных чисел, NumPy будет **использовать это значение в качестве \"зерна\"**.  В результате, при каждом запуске кода с **одним и тем же значением `seed`**, вы будете получать **абсолютно идентичную последовательность случайных чисел**.\n",
    "\n",
    "   **Если `seed=None` (или параметр `seed` не указан)** при вызове `np.random.seed()`, NumPy будет **использовать \"системное время\" в качестве зерна**.  Поскольку \"системное время\" меняется при каждом запуске программы, **последовательность случайных чисел будет разной при каждом запуске кода** в этом случае, что подходит для ситуаций, когда воспроизводимость не требуется, и нужна именно случайность."
   ]
  },
  {
   "cell_type": "code",
   "execution_count": null,
   "id": "47b41e79",
   "metadata": {},
   "outputs": [],
   "source": [
    "np.random.seed(42) # Фиксируем зерно 42\n",
    "random_array_seed_1 = np.random.rand(2, 2)\n",
    "np.random.seed(42) # Снова фиксируем зерно 42 (перед второй генерацией)\n",
    "random_array_seed_2 = np.random.rand(2, 2)\n",
    "\n",
    "print(\"\\nМассив 1 с seed=42:\\n\", random_array_seed_1)\n",
    "print(\"\\nМассив 2 с seed=42:\\n\", random_array_seed_2) # Массивы будут идентичны!\n",
    "\n",
    "np.random.seed(None) # Снимаем фиксацию зерна (или можно просто не вызывать seed())\n",
    "random_array_no_seed = np.random.rand(2, 2)\n",
    "print(\"\\nМассив без seed (каждый раз разный):\\n\", random_array_no_seed) # Массив будет меняться при каждом запуске"
   ]
  }
 ],
 "metadata": {
  "kernelspec": {
   "display_name": "ml_base",
   "language": "python",
   "name": "python3"
  },
  "language_info": {
   "codemirror_mode": {
    "name": "ipython",
    "version": 3
   },
   "file_extension": ".py",
   "mimetype": "text/x-python",
   "name": "python",
   "nbconvert_exporter": "python",
   "pygments_lexer": "ipython3",
   "version": "3.9.21"
  }
 },
 "nbformat": 4,
 "nbformat_minor": 5
}
