{
 "cells": [
  {
   "cell_type": "markdown",
   "metadata": {},
   "source": [
    "# Pandas"
   ]
  },
  {
   "cell_type": "markdown",
   "metadata": {},
   "source": [
    "### Создание DataFrame\n",
    "\n",
    "1. **Из словаря Python (dictionary):**\n",
    "\n",
    "   Это один из самых наглядных способов создания DataFrame, особенно если ваши данные уже представлены в виде словаря Python.  Ключи словаря будут использованы в качестве названий столбцов, а значения (списки или массивы NumPy) станут данными для соответствующих столбцов.\n",
    "\n",
    "   **Важно:**  Все списки или массивы, выступающие в качестве значений словаря, должны иметь одинаковую длину.  Если в качестве значения указан скаляр, он будет автоматически \"размножен\" (повторен) до необходимой длины, чтобы заполнить весь столбец."
   ]
  },
  {
   "cell_type": "code",
   "execution_count": 417,
   "metadata": {},
   "outputs": [
    {
     "name": "stdout",
     "output_type": "stream",
     "text": [
      "<class 'pandas.core.frame.DataFrame'>\n"
     ]
    },
    {
     "data": {
      "text/html": [
       "<div>\n",
       "<style scoped>\n",
       "    .dataframe tbody tr th:only-of-type {\n",
       "        vertical-align: middle;\n",
       "    }\n",
       "\n",
       "    .dataframe tbody tr th {\n",
       "        vertical-align: top;\n",
       "    }\n",
       "\n",
       "    .dataframe thead th {\n",
       "        text-align: right;\n",
       "    }\n",
       "</style>\n",
       "<table border=\"1\" class=\"dataframe\">\n",
       "  <thead>\n",
       "    <tr style=\"text-align: right;\">\n",
       "      <th></th>\n",
       "      <th>Имя</th>\n",
       "      <th>Возраст</th>\n",
       "      <th>Город</th>\n",
       "    </tr>\n",
       "  </thead>\n",
       "  <tbody>\n",
       "    <tr>\n",
       "      <th>0</th>\n",
       "      <td>Анна</td>\n",
       "      <td>25</td>\n",
       "      <td>Москва</td>\n",
       "    </tr>\n",
       "    <tr>\n",
       "      <th>1</th>\n",
       "      <td>Борис</td>\n",
       "      <td>30</td>\n",
       "      <td>Петербург</td>\n",
       "    </tr>\n",
       "    <tr>\n",
       "      <th>2</th>\n",
       "      <td>Виктор</td>\n",
       "      <td>28</td>\n",
       "      <td>Казань</td>\n",
       "    </tr>\n",
       "    <tr>\n",
       "      <th>3</th>\n",
       "      <td>Григорий</td>\n",
       "      <td>35</td>\n",
       "      <td>Москва</td>\n",
       "    </tr>\n",
       "  </tbody>\n",
       "</table>\n",
       "</div>"
      ],
      "text/plain": [
       "        Имя  Возраст      Город\n",
       "0      Анна       25     Москва\n",
       "1     Борис       30  Петербург\n",
       "2    Виктор       28     Казань\n",
       "3  Григорий       35     Москва"
      ]
     },
     "execution_count": 417,
     "metadata": {},
     "output_type": "execute_result"
    }
   ],
   "source": [
    "import pandas as pd # Импортируем библиотеку pandas и присваиваем ей псевдоним pd для краткости\n",
    "import numpy as np\n",
    "\n",
    "data = {\n",
    "    'Имя': ['Анна', 'Борис', 'Виктор', 'Григорий'],\n",
    "    'Возраст': [25, 30, 28, 35],                    \n",
    "    'Город': ['Москва', 'Петербург', 'Казань', 'Москва']\n",
    "}\n",
    "\n",
    "# Создаем DataFrame pandas под названием 'df' из словаря 'data'\n",
    "df = pd.DataFrame(data)\n",
    "\n",
    "print(type(df))\n",
    "df"
   ]
  },
  {
   "cell_type": "markdown",
   "metadata": {},
   "source": [
    "2. **Из списка списков Python:**"
   ]
  },
  {
   "cell_type": "code",
   "execution_count": 418,
   "metadata": {},
   "outputs": [
    {
     "data": {
      "text/html": [
       "<div>\n",
       "<style scoped>\n",
       "    .dataframe tbody tr th:only-of-type {\n",
       "        vertical-align: middle;\n",
       "    }\n",
       "\n",
       "    .dataframe tbody tr th {\n",
       "        vertical-align: top;\n",
       "    }\n",
       "\n",
       "    .dataframe thead th {\n",
       "        text-align: right;\n",
       "    }\n",
       "</style>\n",
       "<table border=\"1\" class=\"dataframe\">\n",
       "  <thead>\n",
       "    <tr style=\"text-align: right;\">\n",
       "      <th></th>\n",
       "      <th>Имя</th>\n",
       "      <th>Возраст</th>\n",
       "      <th>Город</th>\n",
       "    </tr>\n",
       "  </thead>\n",
       "  <tbody>\n",
       "    <tr>\n",
       "      <th>0</th>\n",
       "      <td>Елена</td>\n",
       "      <td>22</td>\n",
       "      <td>Самара</td>\n",
       "    </tr>\n",
       "    <tr>\n",
       "      <th>1</th>\n",
       "      <td>Иван</td>\n",
       "      <td>31</td>\n",
       "      <td>Владивосток</td>\n",
       "    </tr>\n",
       "    <tr>\n",
       "      <th>2</th>\n",
       "      <td>Мария</td>\n",
       "      <td>27</td>\n",
       "      <td>Екатеринбург</td>\n",
       "    </tr>\n",
       "  </tbody>\n",
       "</table>\n",
       "</div>"
      ],
      "text/plain": [
       "     Имя  Возраст         Город\n",
       "0  Елена       22        Самара\n",
       "1   Иван       31   Владивосток\n",
       "2  Мария       27  Екатеринбург"
      ]
     },
     "execution_count": 418,
     "metadata": {},
     "output_type": "execute_result"
    }
   ],
   "source": [
    "# Каждый внутренний список представляет собой строку данных для DataFrame.\n",
    "data_list = [\n",
    "    ['Елена', 22, 'Самара'],\n",
    "    ['Иван', 31, 'Владивосток'],\n",
    "    ['Мария', 27, 'Екатеринбург']\n",
    "]\n",
    "\n",
    "# Создаем список 'columns' с названиями столбцов для DataFrame.\n",
    "# Количество названий столбцов должно соответствовать количеству элементов во внутренних списках 'data_list'.\n",
    "columns = ['Имя', 'Возраст', 'Город']\n",
    "\n",
    "# Используем параметр 'columns' для задания названий столбцов.\n",
    "df_list = pd.DataFrame(data_list, columns=columns)\n",
    "\n",
    "df_list"
   ]
  },
  {
   "cell_type": "markdown",
   "metadata": {},
   "source": [
    "3. **Из массива NumPy:**"
   ]
  },
  {
   "cell_type": "code",
   "execution_count": 419,
   "metadata": {},
   "outputs": [
    {
     "data": {
      "text/html": [
       "<div>\n",
       "<style scoped>\n",
       "    .dataframe tbody tr th:only-of-type {\n",
       "        vertical-align: middle;\n",
       "    }\n",
       "\n",
       "    .dataframe tbody tr th {\n",
       "        vertical-align: top;\n",
       "    }\n",
       "\n",
       "    .dataframe thead th {\n",
       "        text-align: right;\n",
       "    }\n",
       "</style>\n",
       "<table border=\"1\" class=\"dataframe\">\n",
       "  <thead>\n",
       "    <tr style=\"text-align: right;\">\n",
       "      <th></th>\n",
       "      <th>Столбец 1</th>\n",
       "      <th>Столбец 2</th>\n",
       "      <th>Столбец 3</th>\n",
       "    </tr>\n",
       "  </thead>\n",
       "  <tbody>\n",
       "    <tr>\n",
       "      <th>0</th>\n",
       "      <td>1</td>\n",
       "      <td>2</td>\n",
       "      <td>3</td>\n",
       "    </tr>\n",
       "    <tr>\n",
       "      <th>1</th>\n",
       "      <td>4</td>\n",
       "      <td>5</td>\n",
       "      <td>6</td>\n",
       "    </tr>\n",
       "    <tr>\n",
       "      <th>2</th>\n",
       "      <td>7</td>\n",
       "      <td>8</td>\n",
       "      <td>9</td>\n",
       "    </tr>\n",
       "  </tbody>\n",
       "</table>\n",
       "</div>"
      ],
      "text/plain": [
       "   Столбец 1  Столбец 2  Столбец 3\n",
       "0          1          2          3\n",
       "1          4          5          6\n",
       "2          7          8          9"
      ]
     },
     "execution_count": 419,
     "metadata": {},
     "output_type": "execute_result"
    }
   ],
   "source": [
    "numpy_array_data = np.array([[1, 2, 3], [4, 5, 6], [7, 8, 9]])\n",
    "column_names = ['Столбец 1', 'Столбец 2', 'Столбец 3']\n",
    "\n",
    "df_numpy = pd.DataFrame(numpy_array_data, columns=column_names)\n",
    "\n",
    "df_numpy"
   ]
  },
  {
   "cell_type": "markdown",
   "metadata": {},
   "source": [
    "___"
   ]
  },
  {
   "cell_type": "markdown",
   "metadata": {},
   "source": [
    "### Операции с DataFrame\n",
    "\n",
    "1. **Просмотр начала и конца DataFrame:**\n",
    "\n",
    "   Для быстрого ознакомления с содержимым DataFrame и понимания структуры данных, pandas предоставляет удобные методы для просмотра первых и последних строк таблицы.\n",
    "\n",
    "   * **`.head(n)`: Просмотр первых строк.**  Этот метод отображает первые `n` строк DataFrame. Если значение `n` не указано, по умолчанию отображается 5 первых строк.\n",
    "\n",
    "   * **`.tail(n)`: Просмотр последних строк.**  Метод `.tail(n)` аналогичен `.head()`, но отображает последние `n` строк DataFrame.  Также, как и в `.head()`, если `n` не указано, отображается 5 последних строк.  "
   ]
  },
  {
   "cell_type": "code",
   "execution_count": 420,
   "metadata": {},
   "outputs": [
    {
     "name": "stdout",
     "output_type": "stream",
     "text": [
      "Первые 5 строк (head()):\n"
     ]
    },
    {
     "data": {
      "text/html": [
       "<div>\n",
       "<style scoped>\n",
       "    .dataframe tbody tr th:only-of-type {\n",
       "        vertical-align: middle;\n",
       "    }\n",
       "\n",
       "    .dataframe tbody tr th {\n",
       "        vertical-align: top;\n",
       "    }\n",
       "\n",
       "    .dataframe thead th {\n",
       "        text-align: right;\n",
       "    }\n",
       "</style>\n",
       "<table border=\"1\" class=\"dataframe\">\n",
       "  <thead>\n",
       "    <tr style=\"text-align: right;\">\n",
       "      <th></th>\n",
       "      <th>Имя</th>\n",
       "      <th>Возраст</th>\n",
       "      <th>Город</th>\n",
       "    </tr>\n",
       "  </thead>\n",
       "  <tbody>\n",
       "    <tr>\n",
       "      <th>0</th>\n",
       "      <td>Анна</td>\n",
       "      <td>25</td>\n",
       "      <td>Москва</td>\n",
       "    </tr>\n",
       "    <tr>\n",
       "      <th>1</th>\n",
       "      <td>Борис</td>\n",
       "      <td>30</td>\n",
       "      <td>Петербург</td>\n",
       "    </tr>\n",
       "    <tr>\n",
       "      <th>2</th>\n",
       "      <td>Виктор</td>\n",
       "      <td>28</td>\n",
       "      <td>Казань</td>\n",
       "    </tr>\n",
       "    <tr>\n",
       "      <th>3</th>\n",
       "      <td>Григорий</td>\n",
       "      <td>35</td>\n",
       "      <td>Москва</td>\n",
       "    </tr>\n",
       "  </tbody>\n",
       "</table>\n",
       "</div>"
      ],
      "text/plain": [
       "        Имя  Возраст      Город\n",
       "0      Анна       25     Москва\n",
       "1     Борис       30  Петербург\n",
       "2    Виктор       28     Казань\n",
       "3  Григорий       35     Москва"
      ]
     },
     "metadata": {},
     "output_type": "display_data"
    },
    {
     "name": "stdout",
     "output_type": "stream",
     "text": [
      "\n",
      "Первые 3 строки (head(3)):\n"
     ]
    },
    {
     "data": {
      "text/html": [
       "<div>\n",
       "<style scoped>\n",
       "    .dataframe tbody tr th:only-of-type {\n",
       "        vertical-align: middle;\n",
       "    }\n",
       "\n",
       "    .dataframe tbody tr th {\n",
       "        vertical-align: top;\n",
       "    }\n",
       "\n",
       "    .dataframe thead th {\n",
       "        text-align: right;\n",
       "    }\n",
       "</style>\n",
       "<table border=\"1\" class=\"dataframe\">\n",
       "  <thead>\n",
       "    <tr style=\"text-align: right;\">\n",
       "      <th></th>\n",
       "      <th>Имя</th>\n",
       "      <th>Возраст</th>\n",
       "      <th>Город</th>\n",
       "    </tr>\n",
       "  </thead>\n",
       "  <tbody>\n",
       "    <tr>\n",
       "      <th>0</th>\n",
       "      <td>Анна</td>\n",
       "      <td>25</td>\n",
       "      <td>Москва</td>\n",
       "    </tr>\n",
       "    <tr>\n",
       "      <th>1</th>\n",
       "      <td>Борис</td>\n",
       "      <td>30</td>\n",
       "      <td>Петербург</td>\n",
       "    </tr>\n",
       "    <tr>\n",
       "      <th>2</th>\n",
       "      <td>Виктор</td>\n",
       "      <td>28</td>\n",
       "      <td>Казань</td>\n",
       "    </tr>\n",
       "  </tbody>\n",
       "</table>\n",
       "</div>"
      ],
      "text/plain": [
       "      Имя  Возраст      Город\n",
       "0    Анна       25     Москва\n",
       "1   Борис       30  Петербург\n",
       "2  Виктор       28     Казань"
      ]
     },
     "metadata": {},
     "output_type": "display_data"
    },
    {
     "name": "stdout",
     "output_type": "stream",
     "text": [
      "\n",
      "Последние 5 строк (tail()):\n"
     ]
    },
    {
     "data": {
      "text/html": [
       "<div>\n",
       "<style scoped>\n",
       "    .dataframe tbody tr th:only-of-type {\n",
       "        vertical-align: middle;\n",
       "    }\n",
       "\n",
       "    .dataframe tbody tr th {\n",
       "        vertical-align: top;\n",
       "    }\n",
       "\n",
       "    .dataframe thead th {\n",
       "        text-align: right;\n",
       "    }\n",
       "</style>\n",
       "<table border=\"1\" class=\"dataframe\">\n",
       "  <thead>\n",
       "    <tr style=\"text-align: right;\">\n",
       "      <th></th>\n",
       "      <th>Имя</th>\n",
       "      <th>Возраст</th>\n",
       "      <th>Город</th>\n",
       "    </tr>\n",
       "  </thead>\n",
       "  <tbody>\n",
       "    <tr>\n",
       "      <th>0</th>\n",
       "      <td>Анна</td>\n",
       "      <td>25</td>\n",
       "      <td>Москва</td>\n",
       "    </tr>\n",
       "    <tr>\n",
       "      <th>1</th>\n",
       "      <td>Борис</td>\n",
       "      <td>30</td>\n",
       "      <td>Петербург</td>\n",
       "    </tr>\n",
       "    <tr>\n",
       "      <th>2</th>\n",
       "      <td>Виктор</td>\n",
       "      <td>28</td>\n",
       "      <td>Казань</td>\n",
       "    </tr>\n",
       "    <tr>\n",
       "      <th>3</th>\n",
       "      <td>Григорий</td>\n",
       "      <td>35</td>\n",
       "      <td>Москва</td>\n",
       "    </tr>\n",
       "  </tbody>\n",
       "</table>\n",
       "</div>"
      ],
      "text/plain": [
       "        Имя  Возраст      Город\n",
       "0      Анна       25     Москва\n",
       "1     Борис       30  Петербург\n",
       "2    Виктор       28     Казань\n",
       "3  Григорий       35     Москва"
      ]
     },
     "metadata": {},
     "output_type": "display_data"
    },
    {
     "name": "stdout",
     "output_type": "stream",
     "text": [
      "\n",
      "Последние 2 строки (tail(2)):\n"
     ]
    },
    {
     "data": {
      "text/html": [
       "<div>\n",
       "<style scoped>\n",
       "    .dataframe tbody tr th:only-of-type {\n",
       "        vertical-align: middle;\n",
       "    }\n",
       "\n",
       "    .dataframe tbody tr th {\n",
       "        vertical-align: top;\n",
       "    }\n",
       "\n",
       "    .dataframe thead th {\n",
       "        text-align: right;\n",
       "    }\n",
       "</style>\n",
       "<table border=\"1\" class=\"dataframe\">\n",
       "  <thead>\n",
       "    <tr style=\"text-align: right;\">\n",
       "      <th></th>\n",
       "      <th>Имя</th>\n",
       "      <th>Возраст</th>\n",
       "      <th>Город</th>\n",
       "    </tr>\n",
       "  </thead>\n",
       "  <tbody>\n",
       "    <tr>\n",
       "      <th>2</th>\n",
       "      <td>Виктор</td>\n",
       "      <td>28</td>\n",
       "      <td>Казань</td>\n",
       "    </tr>\n",
       "    <tr>\n",
       "      <th>3</th>\n",
       "      <td>Григорий</td>\n",
       "      <td>35</td>\n",
       "      <td>Москва</td>\n",
       "    </tr>\n",
       "  </tbody>\n",
       "</table>\n",
       "</div>"
      ],
      "text/plain": [
       "        Имя  Возраст   Город\n",
       "2    Виктор       28  Казань\n",
       "3  Григорий       35  Москва"
      ]
     },
     "metadata": {},
     "output_type": "display_data"
    }
   ],
   "source": [
    "print(\"Первые 5 строк (head()):\")\n",
    "display(df.head()) # По умолчанию первые 5 строк\n",
    "\n",
    "print(\"\\nПервые 3 строки (head(3)):\")\n",
    "display(df.head(3)) # Первые 3 строки\n",
    "\n",
    "print(\"\\nПоследние 5 строк (tail()):\")\n",
    "display(df.tail()) # По умолчанию последние 5 строк\n",
    "\n",
    "print(\"\\nПоследние 2 строки (tail(2)):\")\n",
    "display(df.tail(2)) # Последние 2 строки"
   ]
  },
  {
   "cell_type": "markdown",
   "metadata": {},
   "source": [
    "2. **Получение общей информации о DataFrame:**\n",
    "\n",
    "   Метод `.info()` является одним из ключевых инструментов для первичного анализа DataFrame. Он предоставляет сводную информацию о структуре и содержимом таблицы, что помогает быстро оценить общие характеристики данных и выявить потенциальные проблемы.\n",
    "\n",
    "   * **`.info()`: Вывод сводной информации о DataFrame.** При вызове метода `.info()` для DataFrame, вы получаете следующую важную информацию:\n",
    "\n",
    "     * **Общая информация о DataFrame:**\n",
    "         * **Количество строк и столбцов:**  Показывает размерность DataFrame, что позволяет понять объем данных.\n",
    "     * **Информация о столбцах:**\n",
    "         * **Названия столбцов (Column names):**  Список всех названий столбцов в DataFrame.\n",
    "         * **Типы данных столбцов (Data types - dtype):**  Указывает тип данных, хранящихся в каждом столбце (например, `int64`, `float64`, `object`, `datetime64[ns]` и т.д.).\n",
    "         * **Количество непустых значений (Non-Null Count):**  Для каждого столбца отображается количество не-пустых значений.\n",
    "     * **Использование памяти (Memory Usage):**\n",
    "         * **Объем памяти, занимаемый DataFrame:**  Показывает, сколько оперативной памяти использует DataFrame.  "
   ]
  },
  {
   "cell_type": "code",
   "execution_count": 421,
   "metadata": {},
   "outputs": [
    {
     "name": "stdout",
     "output_type": "stream",
     "text": [
      "Информация о DataFrame (info()):\n",
      "\n",
      "<class 'pandas.core.frame.DataFrame'>\n",
      "RangeIndex: 4 entries, 0 to 3\n",
      "Data columns (total 3 columns):\n",
      " #   Column   Non-Null Count  Dtype \n",
      "---  ------   --------------  ----- \n",
      " 0   Имя      4 non-null      object\n",
      " 1   Возраст  4 non-null      int64 \n",
      " 2   Город    4 non-null      object\n",
      "dtypes: int64(1), object(2)\n",
      "memory usage: 228.0+ bytes\n"
     ]
    }
   ],
   "source": [
    "print('Информация о DataFrame (info()):\\n')\n",
    "df.info()"
   ]
  },
  {
   "cell_type": "markdown",
   "metadata": {},
   "source": [
    "3. **Получение описательной статистики:**\n",
    "\n",
    "   Метод `.describe()` является мощным инструментом для получения сводной описательной статистики о DataFrame. По умолчанию, `.describe()` применяется к **числовым столбцам** и выводит основные статистические показатели, которые помогают понять распределение и диапазон значений в данных.\n",
    "\n",
    "   * **`.describe()`: Вывод описательных статистик.** При вызове метода `.describe()` без дополнительных параметров, вы получите следующие статистики для каждого числового столбца:\n",
    "\n",
    "     * **`count` (Количество):**  Количество непустых (не-NaN) значений в столбце. Показывает, сколько наблюдений есть в данных для данного столбца.\n",
    "     * **`mean` (Среднее значение):**  Среднее арифметическое значение столбца. Характеризует \"центр\" распределения данных.\n",
    "     * **`std` (Стандартное отклонение):**  Стандартное отклонение значений в столбце.  Мера разброса данных относительно среднего значения.\n",
    "     * **`min` (Минимум):**  Минимальное значение в столбце.\n",
    "     * **`25%` (25-й процентиль, или первый квартиль):**  Значение, ниже которого находится 25% данных.\n",
    "     * **`50%` (50-й процентиль, или медиана, второй квартиль):**  Значение, разделяющее данные пополам.  Медиана менее чувствительна к выбросам, чем среднее значение.\n",
    "     * **`75%` (75-й процентиль, или третий квартиль):**  Значение, ниже которого находится 75% данных.\n",
    "     * **`max` (Максимум):**  Максимальное значение в столбце.\n",
    "\n",
    "   **Расширенное использование с `include='all'`:**\n",
    "\n",
    "   Если вызвать `.describe(include='all')`, метод `.describe()` будет применен ко **всем столбцам DataFrame**, включая нечисловые (например, столбцы с типом данных `object` для строк или `category` для категориальных данных).  Для нечисловых столбцов набор выводимых статистик будет другим и включать, например:\n",
    "\n",
    "     * **`unique` (Уникальные значения):**  Количество уникальных значений в столбце.\n",
    "     * **`top` (Самое частое значение):**  Наиболее часто встречающееся значение в столбце.\n",
    "     * **`freq` (Частота самого частого значения):**  Частота, с которой встречается самое частое значение."
   ]
  },
  {
   "cell_type": "code",
   "execution_count": 422,
   "metadata": {},
   "outputs": [
    {
     "name": "stdout",
     "output_type": "stream",
     "text": [
      "\n",
      "Описательные статистики (describe()):\n"
     ]
    },
    {
     "data": {
      "text/html": [
       "<div>\n",
       "<style scoped>\n",
       "    .dataframe tbody tr th:only-of-type {\n",
       "        vertical-align: middle;\n",
       "    }\n",
       "\n",
       "    .dataframe tbody tr th {\n",
       "        vertical-align: top;\n",
       "    }\n",
       "\n",
       "    .dataframe thead th {\n",
       "        text-align: right;\n",
       "    }\n",
       "</style>\n",
       "<table border=\"1\" class=\"dataframe\">\n",
       "  <thead>\n",
       "    <tr style=\"text-align: right;\">\n",
       "      <th></th>\n",
       "      <th>Возраст</th>\n",
       "    </tr>\n",
       "  </thead>\n",
       "  <tbody>\n",
       "    <tr>\n",
       "      <th>count</th>\n",
       "      <td>4.000000</td>\n",
       "    </tr>\n",
       "    <tr>\n",
       "      <th>mean</th>\n",
       "      <td>29.500000</td>\n",
       "    </tr>\n",
       "    <tr>\n",
       "      <th>std</th>\n",
       "      <td>4.203173</td>\n",
       "    </tr>\n",
       "    <tr>\n",
       "      <th>min</th>\n",
       "      <td>25.000000</td>\n",
       "    </tr>\n",
       "    <tr>\n",
       "      <th>25%</th>\n",
       "      <td>27.250000</td>\n",
       "    </tr>\n",
       "    <tr>\n",
       "      <th>50%</th>\n",
       "      <td>29.000000</td>\n",
       "    </tr>\n",
       "    <tr>\n",
       "      <th>75%</th>\n",
       "      <td>31.250000</td>\n",
       "    </tr>\n",
       "    <tr>\n",
       "      <th>max</th>\n",
       "      <td>35.000000</td>\n",
       "    </tr>\n",
       "  </tbody>\n",
       "</table>\n",
       "</div>"
      ],
      "text/plain": [
       "         Возраст\n",
       "count   4.000000\n",
       "mean   29.500000\n",
       "std     4.203173\n",
       "min    25.000000\n",
       "25%    27.250000\n",
       "50%    29.000000\n",
       "75%    31.250000\n",
       "max    35.000000"
      ]
     },
     "metadata": {},
     "output_type": "display_data"
    },
    {
     "name": "stdout",
     "output_type": "stream",
     "text": [
      "\n",
      "Описательные статистики для всех столбцов (describe(include='all')):\n"
     ]
    },
    {
     "data": {
      "text/html": [
       "<div>\n",
       "<style scoped>\n",
       "    .dataframe tbody tr th:only-of-type {\n",
       "        vertical-align: middle;\n",
       "    }\n",
       "\n",
       "    .dataframe tbody tr th {\n",
       "        vertical-align: top;\n",
       "    }\n",
       "\n",
       "    .dataframe thead th {\n",
       "        text-align: right;\n",
       "    }\n",
       "</style>\n",
       "<table border=\"1\" class=\"dataframe\">\n",
       "  <thead>\n",
       "    <tr style=\"text-align: right;\">\n",
       "      <th></th>\n",
       "      <th>Имя</th>\n",
       "      <th>Возраст</th>\n",
       "      <th>Город</th>\n",
       "    </tr>\n",
       "  </thead>\n",
       "  <tbody>\n",
       "    <tr>\n",
       "      <th>count</th>\n",
       "      <td>4</td>\n",
       "      <td>4.000000</td>\n",
       "      <td>4</td>\n",
       "    </tr>\n",
       "    <tr>\n",
       "      <th>unique</th>\n",
       "      <td>4</td>\n",
       "      <td>NaN</td>\n",
       "      <td>3</td>\n",
       "    </tr>\n",
       "    <tr>\n",
       "      <th>top</th>\n",
       "      <td>Анна</td>\n",
       "      <td>NaN</td>\n",
       "      <td>Москва</td>\n",
       "    </tr>\n",
       "    <tr>\n",
       "      <th>freq</th>\n",
       "      <td>1</td>\n",
       "      <td>NaN</td>\n",
       "      <td>2</td>\n",
       "    </tr>\n",
       "    <tr>\n",
       "      <th>mean</th>\n",
       "      <td>NaN</td>\n",
       "      <td>29.500000</td>\n",
       "      <td>NaN</td>\n",
       "    </tr>\n",
       "    <tr>\n",
       "      <th>std</th>\n",
       "      <td>NaN</td>\n",
       "      <td>4.203173</td>\n",
       "      <td>NaN</td>\n",
       "    </tr>\n",
       "    <tr>\n",
       "      <th>min</th>\n",
       "      <td>NaN</td>\n",
       "      <td>25.000000</td>\n",
       "      <td>NaN</td>\n",
       "    </tr>\n",
       "    <tr>\n",
       "      <th>25%</th>\n",
       "      <td>NaN</td>\n",
       "      <td>27.250000</td>\n",
       "      <td>NaN</td>\n",
       "    </tr>\n",
       "    <tr>\n",
       "      <th>50%</th>\n",
       "      <td>NaN</td>\n",
       "      <td>29.000000</td>\n",
       "      <td>NaN</td>\n",
       "    </tr>\n",
       "    <tr>\n",
       "      <th>75%</th>\n",
       "      <td>NaN</td>\n",
       "      <td>31.250000</td>\n",
       "      <td>NaN</td>\n",
       "    </tr>\n",
       "    <tr>\n",
       "      <th>max</th>\n",
       "      <td>NaN</td>\n",
       "      <td>35.000000</td>\n",
       "      <td>NaN</td>\n",
       "    </tr>\n",
       "  </tbody>\n",
       "</table>\n",
       "</div>"
      ],
      "text/plain": [
       "         Имя    Возраст   Город\n",
       "count      4   4.000000       4\n",
       "unique     4        NaN       3\n",
       "top     Анна        NaN  Москва\n",
       "freq       1        NaN       2\n",
       "mean     NaN  29.500000     NaN\n",
       "std      NaN   4.203173     NaN\n",
       "min      NaN  25.000000     NaN\n",
       "25%      NaN  27.250000     NaN\n",
       "50%      NaN  29.000000     NaN\n",
       "75%      NaN  31.250000     NaN\n",
       "max      NaN  35.000000     NaN"
      ]
     },
     "metadata": {},
     "output_type": "display_data"
    }
   ],
   "source": [
    "print(\"\\nОписательные статистики (describe()):\")\n",
    "display(df.describe()) # Статистики только для числового столбца 'Возраст'\n",
    "\n",
    "print(\"\\nОписательные статистики для всех столбцов (describe(include='all')):\")\n",
    "display(df.describe(include='all')) # Статистики для всех столбцов"
   ]
  },
  {
   "cell_type": "markdown",
   "metadata": {},
   "source": [
    "---"
   ]
  },
  {
   "cell_type": "markdown",
   "metadata": {},
   "source": [
    "### Выбор столбцов и строк"
   ]
  },
  {
   "cell_type": "markdown",
   "metadata": {},
   "source": [
    "1. **Выбор столбцов:**\n",
    "\n",
    "   DataFrame предоставляет различные способы для выбора одного или нескольких столбцов.  Самый простой способ выбрать один столбец - это использовать его имя.\n",
    "\n",
    "   * **Выбор одного столбца по имени:**  Для выбора одного столбца из DataFrame, используйте имя столбца, заключенное в квадратные скобки `[]`, после имени DataFrame.  Этот способ аналогичен доступу к значению в словаре Python по ключу.\n",
    "\n",
    "     **Результатом операции выбора одного столбца является объект Pandas Series.**  Pandas Series представляет собой одномерный помеченный массив данных.  По сути, это столбец из DataFrame."
   ]
  },
  {
   "cell_type": "code",
   "execution_count": 423,
   "metadata": {},
   "outputs": [
    {
     "name": "stdout",
     "output_type": "stream",
     "text": [
      "Столбец 'Имя':\n"
     ]
    },
    {
     "data": {
      "text/plain": [
       "0        Анна\n",
       "1       Борис\n",
       "2      Виктор\n",
       "3    Григорий\n",
       "Name: Имя, dtype: object"
      ]
     },
     "metadata": {},
     "output_type": "display_data"
    },
    {
     "name": "stdout",
     "output_type": "stream",
     "text": [
      "<class 'pandas.core.series.Series'>\n",
      "\n",
      "Столбец 'Возраст':\n"
     ]
    },
    {
     "data": {
      "text/plain": [
       "0    25\n",
       "1    30\n",
       "2    28\n",
       "3    35\n",
       "Name: Возраст, dtype: int64"
      ]
     },
     "metadata": {},
     "output_type": "display_data"
    }
   ],
   "source": [
    "column_name = df['Имя'] # Выбираем столбец 'Имя'\n",
    "column_age = df['Возраст'] # Выбираем столбец 'Возраст'\n",
    "\n",
    "print(\"Столбец 'Имя':\")\n",
    "display(column_name)\n",
    "print(type(column_name)) # Проверяем тип - это Pandas Series\n",
    "\n",
    "print(\"\\nСтолбец 'Возраст':\")\n",
    "display(column_age)"
   ]
  },
  {
   "cell_type": "markdown",
   "metadata": {},
   "source": [
    "2. **Выбор нескольких столбцов:**\n",
    "\n",
    "   Для выбора **нескольких** столбцов из DataFrame одновременно, потребуется передать **список** с именами нужных столбцов в квадратных скобках `[]` после имени DataFrame.\n",
    "\n",
    "   **Результатом этой операции будет создан новый DataFrame**, который будет содержать только те столбцы, имена которых были указаны в списке.  Исходный DataFrame при этом остается неизменным."
   ]
  },
  {
   "cell_type": "code",
   "execution_count": 424,
   "metadata": {},
   "outputs": [
    {
     "name": "stdout",
     "output_type": "stream",
     "text": [
      "\n",
      "DataFrame с выбранными столбцами ('Имя', 'Город'):\n"
     ]
    },
    {
     "data": {
      "text/html": [
       "<div>\n",
       "<style scoped>\n",
       "    .dataframe tbody tr th:only-of-type {\n",
       "        vertical-align: middle;\n",
       "    }\n",
       "\n",
       "    .dataframe tbody tr th {\n",
       "        vertical-align: top;\n",
       "    }\n",
       "\n",
       "    .dataframe thead th {\n",
       "        text-align: right;\n",
       "    }\n",
       "</style>\n",
       "<table border=\"1\" class=\"dataframe\">\n",
       "  <thead>\n",
       "    <tr style=\"text-align: right;\">\n",
       "      <th></th>\n",
       "      <th>Имя</th>\n",
       "      <th>Город</th>\n",
       "    </tr>\n",
       "  </thead>\n",
       "  <tbody>\n",
       "    <tr>\n",
       "      <th>0</th>\n",
       "      <td>Анна</td>\n",
       "      <td>Москва</td>\n",
       "    </tr>\n",
       "    <tr>\n",
       "      <th>1</th>\n",
       "      <td>Борис</td>\n",
       "      <td>Петербург</td>\n",
       "    </tr>\n",
       "    <tr>\n",
       "      <th>2</th>\n",
       "      <td>Виктор</td>\n",
       "      <td>Казань</td>\n",
       "    </tr>\n",
       "    <tr>\n",
       "      <th>3</th>\n",
       "      <td>Григорий</td>\n",
       "      <td>Москва</td>\n",
       "    </tr>\n",
       "  </tbody>\n",
       "</table>\n",
       "</div>"
      ],
      "text/plain": [
       "        Имя      Город\n",
       "0      Анна     Москва\n",
       "1     Борис  Петербург\n",
       "2    Виктор     Казань\n",
       "3  Григорий     Москва"
      ]
     },
     "metadata": {},
     "output_type": "display_data"
    },
    {
     "name": "stdout",
     "output_type": "stream",
     "text": [
      "<class 'pandas.core.frame.DataFrame'>\n"
     ]
    }
   ],
   "source": [
    "selected_columns_df = df[['Имя', 'Город']]\n",
    "\n",
    "print(\"\\nDataFrame с выбранными столбцами ('Имя', 'Город'):\")\n",
    "display(selected_columns_df)\n",
    "print(type(selected_columns_df)) # Проверяем тип - это DataFrame"
   ]
  },
  {
   "cell_type": "markdown",
   "metadata": {},
   "source": [
    "3. **Выбор строк:**\n",
    "\n",
    "   Выбор строк в DataFrame отличается от выбора столбцов и осуществляется преимущественно с использованием **индексации**.  Основными методами для выбора строк являются индексация по **индексу** (метке строки) или **логическая индексация** (фильтрация строк на основе условий).\n",
    "\n",
    "   * **Выбор строк по индексу (`.loc[]` и `.iloc[]`):**\n",
    "\n",
    "     Pandas предоставляет два основных метода для выбора строк по индексу, отличающихся способом указания индекса:\n",
    "\n",
    "     * **`.loc[]` (индексация по метке, label-based indexing):**  Метод `.loc[]` используется для выбора строк на основе **метки индекса** (label).  Метка индекса - это значение, которое идентифицирует каждую строку DataFrame.  По умолчанию, метками индекса являются целые числа, начинающиеся с 0, но индекс DataFrame может быть изменен на другие значения (например, строки, даты и т.д.).  При использовании `.loc[]` вы обращаетесь к строкам, используя именно эти метки.\n",
    "\n",
    "     * **`.iloc[]` (индексация по целочисленной позиции, integer-location based indexing):** Метод `.iloc[]` используется для выбора строк на основе их **целочисленной позиции** (integer location).  В отличие от `.loc[]`, `.iloc[]` всегда использует **порядковый номер строки**, начиная с 0 для первой строки, 1 для второй и так далее, независимо от фактических меток индекса.  `.iloc[]` работает аналогично индексации в списках и массивах Python по числовому индексу."
   ]
  },
  {
   "cell_type": "code",
   "execution_count": 425,
   "metadata": {},
   "outputs": [
    {
     "data": {
      "text/html": [
       "<div>\n",
       "<style scoped>\n",
       "    .dataframe tbody tr th:only-of-type {\n",
       "        vertical-align: middle;\n",
       "    }\n",
       "\n",
       "    .dataframe tbody tr th {\n",
       "        vertical-align: top;\n",
       "    }\n",
       "\n",
       "    .dataframe thead th {\n",
       "        text-align: right;\n",
       "    }\n",
       "</style>\n",
       "<table border=\"1\" class=\"dataframe\">\n",
       "  <thead>\n",
       "    <tr style=\"text-align: right;\">\n",
       "      <th></th>\n",
       "      <th>Имя</th>\n",
       "      <th>Возраст</th>\n",
       "      <th>Город</th>\n",
       "    </tr>\n",
       "  </thead>\n",
       "  <tbody>\n",
       "    <tr>\n",
       "      <th>0</th>\n",
       "      <td>Анна</td>\n",
       "      <td>25</td>\n",
       "      <td>Москва</td>\n",
       "    </tr>\n",
       "    <tr>\n",
       "      <th>1</th>\n",
       "      <td>Борис</td>\n",
       "      <td>30</td>\n",
       "      <td>Петербург</td>\n",
       "    </tr>\n",
       "    <tr>\n",
       "      <th>2</th>\n",
       "      <td>Виктор</td>\n",
       "      <td>28</td>\n",
       "      <td>Казань</td>\n",
       "    </tr>\n",
       "    <tr>\n",
       "      <th>3</th>\n",
       "      <td>Григорий</td>\n",
       "      <td>35</td>\n",
       "      <td>Москва</td>\n",
       "    </tr>\n",
       "  </tbody>\n",
       "</table>\n",
       "</div>"
      ],
      "text/plain": [
       "        Имя  Возраст      Город\n",
       "0      Анна       25     Москва\n",
       "1     Борис       30  Петербург\n",
       "2    Виктор       28     Казань\n",
       "3  Григорий       35     Москва"
      ]
     },
     "metadata": {},
     "output_type": "display_data"
    },
    {
     "name": "stdout",
     "output_type": "stream",
     "text": [
      "\n",
      "Строка с индексом 2 (loc[2]):\n"
     ]
    },
    {
     "data": {
      "text/plain": [
       "Имя        Виктор\n",
       "Возраст        28\n",
       "Город      Казань\n",
       "Name: 2, dtype: object"
      ]
     },
     "metadata": {},
     "output_type": "display_data"
    },
    {
     "name": "stdout",
     "output_type": "stream",
     "text": [
      "<class 'pandas.core.series.Series'>\n",
      "\n",
      "Строка на позиции 1 (iloc[1]):\n"
     ]
    },
    {
     "data": {
      "text/plain": [
       "Имя            Борис\n",
       "Возраст           30\n",
       "Город      Петербург\n",
       "Name: 1, dtype: object"
      ]
     },
     "metadata": {},
     "output_type": "display_data"
    }
   ],
   "source": [
    "row_index_2_loc = df.loc[2] # Выбираем строку с индексом 2\n",
    "row_index_1_iloc = df.iloc[1] # Выбираем строку на позиции 1\n",
    "\n",
    "display(df)\n",
    "\n",
    "print(\"\\nСтрока с индексом 2 (loc[2]):\")\n",
    "display(row_index_2_loc)\n",
    "print(type(row_index_2_loc)) # Pandas Series (строка DataFrame - это тоже Series)\n",
    "\n",
    "print(\"\\nСтрока на позиции 1 (iloc[1]):\")\n",
    "display(row_index_1_iloc)"
   ]
  },
  {
   "cell_type": "markdown",
   "metadata": {},
   "source": [
    "4. **Выбор нескольких строк по срезу индекса:**\n",
    "\n",
    "   Для выбора диапазона строк (среза строк) из DataFrame, вы можете использовать **срезы индексов** с методами `.loc[]` и `.iloc[]`.  Срезы позволяют выбрать последовательность строк, основываясь на их метках индекса (для `.loc[]`) или целочисленных позициях (для `.iloc[]`).\n",
    "\n",
    "   * **Срезы с `.loc[]` (label-based slicing):**  При использовании `.loc[]` для срезов, вы указываете **метки начального и конечного индекса среза**.  Важно отметить, что при использовании `.loc[]` **конечная метка индекса включается в срез**.  Срез с `.loc[]` вернет все строки, метки индекса которых находятся в диапазоне от начальной до конечной (включительно).\n",
    "\n",
    "   * **Срезы с `.iloc[]` (integer-location based slicing):**  При использовании `.iloc[]` для срезов, вы указываете **целочисленные позиции начального и конечного индекса среза**.  В отличие от `.loc[]`, при использовании `.iloc[]` **конечная позиция индекса не включается в срез**.  Срез с `.iloc[]` вернет строки, чьи целочисленные позиции находятся в диапазоне от начальной до конечной (не включая конечную).  Это поведение аналогично стандартным срезам в Python для списков и строк."
   ]
  },
  {
   "cell_type": "code",
   "execution_count": 426,
   "metadata": {},
   "outputs": [
    {
     "name": "stdout",
     "output_type": "stream",
     "text": [
      "\n",
      "Строки с индексами 1:3 (loc[1:3]):\n"
     ]
    },
    {
     "data": {
      "text/html": [
       "<div>\n",
       "<style scoped>\n",
       "    .dataframe tbody tr th:only-of-type {\n",
       "        vertical-align: middle;\n",
       "    }\n",
       "\n",
       "    .dataframe tbody tr th {\n",
       "        vertical-align: top;\n",
       "    }\n",
       "\n",
       "    .dataframe thead th {\n",
       "        text-align: right;\n",
       "    }\n",
       "</style>\n",
       "<table border=\"1\" class=\"dataframe\">\n",
       "  <thead>\n",
       "    <tr style=\"text-align: right;\">\n",
       "      <th></th>\n",
       "      <th>Имя</th>\n",
       "      <th>Возраст</th>\n",
       "      <th>Город</th>\n",
       "    </tr>\n",
       "  </thead>\n",
       "  <tbody>\n",
       "    <tr>\n",
       "      <th>1</th>\n",
       "      <td>Борис</td>\n",
       "      <td>30</td>\n",
       "      <td>Петербург</td>\n",
       "    </tr>\n",
       "    <tr>\n",
       "      <th>2</th>\n",
       "      <td>Виктор</td>\n",
       "      <td>28</td>\n",
       "      <td>Казань</td>\n",
       "    </tr>\n",
       "    <tr>\n",
       "      <th>3</th>\n",
       "      <td>Григорий</td>\n",
       "      <td>35</td>\n",
       "      <td>Москва</td>\n",
       "    </tr>\n",
       "  </tbody>\n",
       "</table>\n",
       "</div>"
      ],
      "text/plain": [
       "        Имя  Возраст      Город\n",
       "1     Борис       30  Петербург\n",
       "2    Виктор       28     Казань\n",
       "3  Григорий       35     Москва"
      ]
     },
     "metadata": {},
     "output_type": "display_data"
    },
    {
     "name": "stdout",
     "output_type": "stream",
     "text": [
      "\n",
      "Строки с позициями 0:2 (iloc[0:3]):\n"
     ]
    },
    {
     "data": {
      "text/html": [
       "<div>\n",
       "<style scoped>\n",
       "    .dataframe tbody tr th:only-of-type {\n",
       "        vertical-align: middle;\n",
       "    }\n",
       "\n",
       "    .dataframe tbody tr th {\n",
       "        vertical-align: top;\n",
       "    }\n",
       "\n",
       "    .dataframe thead th {\n",
       "        text-align: right;\n",
       "    }\n",
       "</style>\n",
       "<table border=\"1\" class=\"dataframe\">\n",
       "  <thead>\n",
       "    <tr style=\"text-align: right;\">\n",
       "      <th></th>\n",
       "      <th>Имя</th>\n",
       "      <th>Возраст</th>\n",
       "      <th>Город</th>\n",
       "    </tr>\n",
       "  </thead>\n",
       "  <tbody>\n",
       "    <tr>\n",
       "      <th>0</th>\n",
       "      <td>Анна</td>\n",
       "      <td>25</td>\n",
       "      <td>Москва</td>\n",
       "    </tr>\n",
       "    <tr>\n",
       "      <th>1</th>\n",
       "      <td>Борис</td>\n",
       "      <td>30</td>\n",
       "      <td>Петербург</td>\n",
       "    </tr>\n",
       "    <tr>\n",
       "      <th>2</th>\n",
       "      <td>Виктор</td>\n",
       "      <td>28</td>\n",
       "      <td>Казань</td>\n",
       "    </tr>\n",
       "  </tbody>\n",
       "</table>\n",
       "</div>"
      ],
      "text/plain": [
       "      Имя  Возраст      Город\n",
       "0    Анна       25     Москва\n",
       "1   Борис       30  Петербург\n",
       "2  Виктор       28     Казань"
      ]
     },
     "metadata": {},
     "output_type": "display_data"
    }
   ],
   "source": [
    "rows_indices_1_to_3_loc = df.loc[1:3] # Срез строк с индексами от 1 до 3 (включительно! для .loc!)\n",
    "rows_positions_0_to_2_iloc = df.iloc[0:3] # Срез строк с позициями от 0 до 2 (не включая 3! для .iloc!)\n",
    "\n",
    "print(\"\\nСтроки с индексами 1:3 (loc[1:3]):\")\n",
    "display(rows_indices_1_to_3_loc) # Обрати внимание, что строка с индексом 3 ВКЛЮЧЕНА\n",
    "\n",
    "print(\"\\nСтроки с позициями 0:2 (iloc[0:3]):\")\n",
    "display(rows_positions_0_to_2_iloc) # Обрати внимание, что строка на позиции 3 НЕ ВКЛЮЧЕНА"
   ]
  },
  {
   "cell_type": "markdown",
   "metadata": {},
   "source": [
    "___"
   ]
  },
  {
   "cell_type": "markdown",
   "metadata": {},
   "source": [
    "### Фильтрация данных\n",
    "\n",
    "Основным и мощным механизмом фильтрации данных в Pandas является **логическая индексация** (или **булева индексация**, boolean indexing).  Этот метод позволяет отбирать строки DataFrame, соответствующие определенным условиям, на основе создания так называемой \"булевой маски\".\n",
    "\n",
    "**Принцип работы логической индексации:**\n",
    "\n",
    "1. **Создание \"булевой маски\" (boolean mask):**\n",
    "   На первом шаге формируется **булева маска** – объект Pandas Series (или NumPy массив) той же длины, что и количество строк в DataFrame.  Каждый элемент этой Series представляет собой булево значение: `True` или `False`. Значение `True` в маске указывает на то, что соответствующая строка в DataFrame удовлетворяет заданному условию, а `False` – не удовлетворяет.\n",
    "\n",
    "2. **Использование булевой маски для индексации DataFrame:**\n",
    "   На втором шаге, созданная булева маска используется для индексации DataFrame.  Маска передается в квадратных скобках `[]` после имени DataFrame. В результате Pandas возвращает **новый DataFrame**, содержащий только те строки, для которых в булевой маске установлено значение `True`.  Строки, которым соответствуют значения `False` в маске, исключаются из результирующего DataFrame.\n",
    "\n",
    "**Как создать булеву маску?**\n",
    "\n",
    "Булевы маски, как правило, создаются путем применения **операторов сравнения** и **логических операторов** к столбцам DataFrame.  Результатом таких операций является Pandas Series булевых значений, которая и служит булевой маской.\n",
    "\n",
    "**Операторы сравнения (comparison operators):**\n",
    "\n",
    "* `>`  (больше)\n",
    "* `<`  (меньше)\n",
    "* `>=` (больше или равно)\n",
    "* `<=` (меньше или равно)\n",
    "* `==` (равно)\n",
    "* `!=` (не равно)\n",
    "\n",
    "**Логические операторы (logical operators):**\n",
    "\n",
    "* `&`  (логическое \"И\" - **AND**) - для объединения нескольких условий, которые должны выполняться **одновременно**.\n",
    "* `|`  (логическое \"ИЛИ\" - **OR**)  - для объединения нескольких условий, когда достаточно выполнения **хотя бы одного** из них.\n",
    "* `~`  (логическое \"НЕ\" - **NOT**, инверсия) - для **инвертирования** булевой маски, то есть замены `True` на `False` и наоборот."
   ]
  },
  {
   "cell_type": "code",
   "execution_count": 427,
   "metadata": {},
   "outputs": [],
   "source": [
    "df = pd.DataFrame(data)"
   ]
  },
  {
   "cell_type": "markdown",
   "metadata": {},
   "source": [
    "1. **Фильтрация по возрасту:**\n",
    "\n",
    "   Рассмотрим пример фильтрации DataFrame по значениям столбца 'Возраст'.  Наша задача - отобрать из DataFrame только те строки, в которых значение в столбце 'Возраст' превышает 30 лет.  Для этого мы создадим булеву маску, основанную на условии `df['Возраст'] > 30`, и применим ее для фильтрации DataFrame."
   ]
  },
  {
   "cell_type": "code",
   "execution_count": 428,
   "metadata": {},
   "outputs": [
    {
     "name": "stdout",
     "output_type": "stream",
     "text": [
      "Отфильтрованный DataFrame (возраст > 30):\n",
      "\n"
     ]
    },
    {
     "data": {
      "text/html": [
       "<div>\n",
       "<style scoped>\n",
       "    .dataframe tbody tr th:only-of-type {\n",
       "        vertical-align: middle;\n",
       "    }\n",
       "\n",
       "    .dataframe tbody tr th {\n",
       "        vertical-align: top;\n",
       "    }\n",
       "\n",
       "    .dataframe thead th {\n",
       "        text-align: right;\n",
       "    }\n",
       "</style>\n",
       "<table border=\"1\" class=\"dataframe\">\n",
       "  <thead>\n",
       "    <tr style=\"text-align: right;\">\n",
       "      <th></th>\n",
       "      <th>Имя</th>\n",
       "      <th>Возраст</th>\n",
       "      <th>Город</th>\n",
       "    </tr>\n",
       "  </thead>\n",
       "  <tbody>\n",
       "    <tr>\n",
       "      <th>3</th>\n",
       "      <td>Григорий</td>\n",
       "      <td>35</td>\n",
       "      <td>Москва</td>\n",
       "    </tr>\n",
       "  </tbody>\n",
       "</table>\n",
       "</div>"
      ],
      "text/plain": [
       "        Имя  Возраст   Город\n",
       "3  Григорий       35  Москва"
      ]
     },
     "metadata": {},
     "output_type": "display_data"
    },
    {
     "name": "stdout",
     "output_type": "stream",
     "text": [
      "<class 'pandas.core.series.Series'>\n"
     ]
    }
   ],
   "source": [
    "age_filter = df['Возраст'] > 30 # Создаем булеву маску: True для строк, где 'Возраст' > 30, False - иначе\n",
    "filtered_df_age = df[age_filter] # Применяем маску к DataFrame, получаем отфильтрованный DataFrame\n",
    "\n",
    "print(\"Отфильтрованный DataFrame (возраст > 30):\\n\")\n",
    "display(filtered_df_age)\n",
    "print(type(age_filter)) # Проверяем тип age_filter - это Pandas Series (булева маска)"
   ]
  },
  {
   "cell_type": "markdown",
   "metadata": {},
   "source": [
    "2. **Фильтрация по городу:**\n",
    "\n",
    "   Рассмотрим другой пример фильтрации, на этот раз по текстовому столбцу 'Город'.  Предположим, мы хотим выбрать из DataFrame только строки, соответствующие жителям Москвы.  Для этого мы создадим булеву маску, проверяющую равенство значения в столбце 'Город' строке 'Москва', и применим эту маску для фильтрации."
   ]
  },
  {
   "cell_type": "code",
   "execution_count": 429,
   "metadata": {},
   "outputs": [
    {
     "name": "stdout",
     "output_type": "stream",
     "text": [
      "Отфильтрованный DataFrame (город == 'Москва'):\n",
      "\n"
     ]
    },
    {
     "data": {
      "text/html": [
       "<div>\n",
       "<style scoped>\n",
       "    .dataframe tbody tr th:only-of-type {\n",
       "        vertical-align: middle;\n",
       "    }\n",
       "\n",
       "    .dataframe tbody tr th {\n",
       "        vertical-align: top;\n",
       "    }\n",
       "\n",
       "    .dataframe thead th {\n",
       "        text-align: right;\n",
       "    }\n",
       "</style>\n",
       "<table border=\"1\" class=\"dataframe\">\n",
       "  <thead>\n",
       "    <tr style=\"text-align: right;\">\n",
       "      <th></th>\n",
       "      <th>Имя</th>\n",
       "      <th>Возраст</th>\n",
       "      <th>Город</th>\n",
       "    </tr>\n",
       "  </thead>\n",
       "  <tbody>\n",
       "    <tr>\n",
       "      <th>0</th>\n",
       "      <td>Анна</td>\n",
       "      <td>25</td>\n",
       "      <td>Москва</td>\n",
       "    </tr>\n",
       "    <tr>\n",
       "      <th>3</th>\n",
       "      <td>Григорий</td>\n",
       "      <td>35</td>\n",
       "      <td>Москва</td>\n",
       "    </tr>\n",
       "  </tbody>\n",
       "</table>\n",
       "</div>"
      ],
      "text/plain": [
       "        Имя  Возраст   Город\n",
       "0      Анна       25  Москва\n",
       "3  Григорий       35  Москва"
      ]
     },
     "metadata": {},
     "output_type": "display_data"
    }
   ],
   "source": [
    "city_filter = df['Город'] == 'Москва' # Булева маска: True для 'Город' == 'Москва'\n",
    "filtered_df_city = df[city_filter] # Фильтруем DataFrame\n",
    "\n",
    "print(\"Отфильтрованный DataFrame (город == 'Москва'):\\n\")\n",
    "display(filtered_df_city)"
   ]
  },
  {
   "cell_type": "markdown",
   "metadata": {},
   "source": [
    "3. **Фильтрация по двум условиям (логическое \"И\"):**\n",
    "\n",
    "   В более сложных сценариях анализа данных часто возникает необходимость фильтровать DataFrame по **нескольким условиям одновременно**.  Например, мы можем захотеть отобрать строки, которые удовлетворяют **и одному, и другому условию**.  Для объединения нескольких условий фильтрации в Pandas используется **логический оператор \"И\" (`&`)**.\n",
    "\n",
    "   **Важно!** При использовании логических операторов (`&`, `|`, `~`) для объединения условий фильтрации, **каждое отдельное условие необходимо заключать в круглые скобки `()`**.  Это связано с приоритетом операций в Python и необходимо для корректной работы логической индексации."
   ]
  },
  {
   "cell_type": "code",
   "execution_count": 430,
   "metadata": {},
   "outputs": [
    {
     "name": "stdout",
     "output_type": "stream",
     "text": [
      "Отфильтрованный DataFrame (возраст > 30 И город == 'Москва'):\n",
      "\n"
     ]
    },
    {
     "data": {
      "text/html": [
       "<div>\n",
       "<style scoped>\n",
       "    .dataframe tbody tr th:only-of-type {\n",
       "        vertical-align: middle;\n",
       "    }\n",
       "\n",
       "    .dataframe tbody tr th {\n",
       "        vertical-align: top;\n",
       "    }\n",
       "\n",
       "    .dataframe thead th {\n",
       "        text-align: right;\n",
       "    }\n",
       "</style>\n",
       "<table border=\"1\" class=\"dataframe\">\n",
       "  <thead>\n",
       "    <tr style=\"text-align: right;\">\n",
       "      <th></th>\n",
       "      <th>Имя</th>\n",
       "      <th>Возраст</th>\n",
       "      <th>Город</th>\n",
       "    </tr>\n",
       "  </thead>\n",
       "  <tbody>\n",
       "    <tr>\n",
       "      <th>3</th>\n",
       "      <td>Григорий</td>\n",
       "      <td>35</td>\n",
       "      <td>Москва</td>\n",
       "    </tr>\n",
       "  </tbody>\n",
       "</table>\n",
       "</div>"
      ],
      "text/plain": [
       "        Имя  Возраст   Город\n",
       "3  Григорий       35  Москва"
      ]
     },
     "metadata": {},
     "output_type": "display_data"
    }
   ],
   "source": [
    "complex_filter = (df['Возраст'] > 30) & (df['Город'] == 'Москва') # Комбинируем два условия с помощью &\n",
    "filtered_df_complex = df[complex_filter] # Фильтруем DataFrame\n",
    "\n",
    "print(\"Отфильтрованный DataFrame (возраст > 30 И город == 'Москва'):\\n\")\n",
    "display(filtered_df_complex)"
   ]
  },
  {
   "cell_type": "markdown",
   "metadata": {},
   "source": [
    "4. **Фильтрация по условию \"ИЛИ\" (возраст < 25 ИЛИ город == 'Петербург'):**\n",
    "\n",
    "   В дополнение к логическому \"И\", для фильтрации данных часто требуется использовать **логическое \"ИЛИ\" (`|`)**.  Оператор \"ИЛИ\" позволяет отобрать строки DataFrame, которые удовлетворяют **хотя бы одному из нескольких заданных условий**.  В данном примере мы рассмотрим фильтрацию строк, где значение столбца 'Возраст' **меньше 25 лет ИЛИ** значение столбца 'Город' равно 'Петербург'.\n",
    "\n",
    "   Как и в случае с оператором \"И\", при использовании логического \"ИЛИ\" (`|`), **каждое отдельное условие также необходимо заключать в круглые скобки `()`** для обеспечения корректной интерпретации и выполнения фильтрации."
   ]
  },
  {
   "cell_type": "code",
   "execution_count": 431,
   "metadata": {},
   "outputs": [
    {
     "name": "stdout",
     "output_type": "stream",
     "text": [
      "\n",
      "Отфильтрованный DataFrame (возраст < 25 ИЛИ город == 'Петербург'):\n",
      "\n"
     ]
    },
    {
     "data": {
      "text/html": [
       "<div>\n",
       "<style scoped>\n",
       "    .dataframe tbody tr th:only-of-type {\n",
       "        vertical-align: middle;\n",
       "    }\n",
       "\n",
       "    .dataframe tbody tr th {\n",
       "        vertical-align: top;\n",
       "    }\n",
       "\n",
       "    .dataframe thead th {\n",
       "        text-align: right;\n",
       "    }\n",
       "</style>\n",
       "<table border=\"1\" class=\"dataframe\">\n",
       "  <thead>\n",
       "    <tr style=\"text-align: right;\">\n",
       "      <th></th>\n",
       "      <th>Имя</th>\n",
       "      <th>Возраст</th>\n",
       "      <th>Город</th>\n",
       "    </tr>\n",
       "  </thead>\n",
       "  <tbody>\n",
       "    <tr>\n",
       "      <th>1</th>\n",
       "      <td>Борис</td>\n",
       "      <td>30</td>\n",
       "      <td>Петербург</td>\n",
       "    </tr>\n",
       "  </tbody>\n",
       "</table>\n",
       "</div>"
      ],
      "text/plain": [
       "     Имя  Возраст      Город\n",
       "1  Борис       30  Петербург"
      ]
     },
     "metadata": {},
     "output_type": "display_data"
    }
   ],
   "source": [
    "complex_filter_or = (df['Возраст'] < 25) | (df['Город'] == 'Петербург') # Комбинируем условия с помощью |\n",
    "filtered_df_complex_or = df[complex_filter_or] # Фильтруем DataFrame\n",
    "\n",
    "print(\"\\nОтфильтрованный DataFrame (возраст < 25 ИЛИ город == 'Петербург'):\\n\")\n",
    "display(filtered_df_complex_or)"
   ]
  },
  {
   "cell_type": "markdown",
   "metadata": {},
   "source": [
    "5. **Фильтрация с отрицанием (НЕ город == 'Казань'):**\n",
    "\n",
    "   В Pandas также доступна операция **отрицания**, которая позволяет инвертировать логическое условие.  Для реализации отрицания в логической индексации используется **логический оператор \"НЕ\" (`~`)**.  Этот оператор позволяет выбрать строки DataFrame, **НЕ** соответствующие заданному условию.  В данном примере мы отфильтруем DataFrame, исключив из него все строки, где значение столбца 'Город' равно 'Казань'.\n",
    "\n",
    "   Оператор отрицания `~` применяется **перед** условием, которое нужно инвертировать.  Как и в случаях с операторами \"И\" и \"ИЛИ\", если условие, к которому применяется отрицание, является сложным (состоит из нескольких частей), его **также рекомендуется заключать в круглые скобки `()`** для явного указания приоритета операций и избежания ошибок."
   ]
  },
  {
   "cell_type": "code",
   "execution_count": 432,
   "metadata": {},
   "outputs": [
    {
     "name": "stdout",
     "output_type": "stream",
     "text": [
      "\n",
      "Отфильтрованный DataFrame (НЕ город == 'Казань'):\n"
     ]
    },
    {
     "data": {
      "text/html": [
       "<div>\n",
       "<style scoped>\n",
       "    .dataframe tbody tr th:only-of-type {\n",
       "        vertical-align: middle;\n",
       "    }\n",
       "\n",
       "    .dataframe tbody tr th {\n",
       "        vertical-align: top;\n",
       "    }\n",
       "\n",
       "    .dataframe thead th {\n",
       "        text-align: right;\n",
       "    }\n",
       "</style>\n",
       "<table border=\"1\" class=\"dataframe\">\n",
       "  <thead>\n",
       "    <tr style=\"text-align: right;\">\n",
       "      <th></th>\n",
       "      <th>Имя</th>\n",
       "      <th>Возраст</th>\n",
       "      <th>Город</th>\n",
       "    </tr>\n",
       "  </thead>\n",
       "  <tbody>\n",
       "    <tr>\n",
       "      <th>0</th>\n",
       "      <td>Анна</td>\n",
       "      <td>25</td>\n",
       "      <td>Москва</td>\n",
       "    </tr>\n",
       "    <tr>\n",
       "      <th>1</th>\n",
       "      <td>Борис</td>\n",
       "      <td>30</td>\n",
       "      <td>Петербург</td>\n",
       "    </tr>\n",
       "    <tr>\n",
       "      <th>3</th>\n",
       "      <td>Григорий</td>\n",
       "      <td>35</td>\n",
       "      <td>Москва</td>\n",
       "    </tr>\n",
       "  </tbody>\n",
       "</table>\n",
       "</div>"
      ],
      "text/plain": [
       "        Имя  Возраст      Город\n",
       "0      Анна       25     Москва\n",
       "1     Борис       30  Петербург\n",
       "3  Григорий       35     Москва"
      ]
     },
     "metadata": {},
     "output_type": "display_data"
    }
   ],
   "source": [
    "not_kazan_filter = ~(df['Город'] == 'Казань') # Инвертируем условие \"город == 'Казань'\"\n",
    "filtered_df_not_kazan = df[not_kazan_filter] # Фильтруем DataFrame\n",
    "\n",
    "print(\"\\nОтфильтрованный DataFrame (НЕ город == 'Казань'):\")\n",
    "display(filtered_df_not_kazan)"
   ]
  },
  {
   "cell_type": "markdown",
   "metadata": {},
   "source": [
    "Метод `.isin()`\n",
    "\n",
    "Метод `.isin(values)` в Pandas является удобным и эффективным инструментом для фильтрации данных по **принадлежности к набору значений**.  Этот метод применяется к объекту Pandas Series (то есть, к столбцу DataFrame) и принимает в качестве аргумента список (или любой другой итерируемый объект, например, кортеж или множество) значений.\n",
    "\n",
    "**Принцип работы `.isin()`:**\n",
    "\n",
    "Метод `.isin(values)` проверяет **для каждого элемента** в Series, содержится ли это значение в переданном списке `values`.  В результате, он возвращает **булеву Series** той же длины, что и исходная Series.  В возвращенной Series значение `True` будет стоять на тех позициях, где значение в исходной Series **найдено в списке `values`**, и `False` – в противном случае.\n",
    "\n",
    "**Преимущества использования `.isin()` для фильтрации:**\n",
    "\n",
    "Метод `.isin()` особенно полезен, когда необходимо выполнить фильтрацию по **нескольким значениям одновременно**, что часто встречается на практике.  Использование `.isin()` делает код более **читабельным, лаконичным и эффективным**, по сравнению с использованием множественных условий, объединенных логическим оператором \"ИЛИ\" (`|`).\n",
    "\n",
    "**Пример:**\n",
    "\n",
    "```python\n",
    "city_filter_isin = df['Город'].isin(['Москва', 'Казань'])\n",
    "```"
   ]
  },
  {
   "cell_type": "markdown",
   "metadata": {},
   "source": [
    "___"
   ]
  },
  {
   "cell_type": "markdown",
   "metadata": {},
   "source": [
    "### Добавление новых столбцов"
   ]
  },
  {
   "cell_type": "markdown",
   "metadata": {},
   "source": [
    "1. **Добавление нового столбца на основе существующих данных:**\n",
    "\n",
    "   DataFrame в Pandas является изменяемой структурой данных, что означает, что вы можете легко добавлять новые столбцы к существующему DataFrame после его создания.  Добавление новых столбцов часто необходимо для расширения набора данных, вычисления новых признаков на основе имеющихся данных или для проведения дальнейшего анализа.\n",
    "\n",
    "   Существует несколько способов добавить новый столбец в DataFrame.  Один из наиболее распространенных и интуитивно понятных методов - это **присваивание нового столбца по имени**, аналогично тому, как добавляются новые ключи в словарь Python."
   ]
  },
  {
   "cell_type": "code",
   "execution_count": 433,
   "metadata": {},
   "outputs": [
    {
     "name": "stdout",
     "output_type": "stream",
     "text": [
      "Исхродный DataFrame:\n"
     ]
    },
    {
     "data": {
      "text/html": [
       "<div>\n",
       "<style scoped>\n",
       "    .dataframe tbody tr th:only-of-type {\n",
       "        vertical-align: middle;\n",
       "    }\n",
       "\n",
       "    .dataframe tbody tr th {\n",
       "        vertical-align: top;\n",
       "    }\n",
       "\n",
       "    .dataframe thead th {\n",
       "        text-align: right;\n",
       "    }\n",
       "</style>\n",
       "<table border=\"1\" class=\"dataframe\">\n",
       "  <thead>\n",
       "    <tr style=\"text-align: right;\">\n",
       "      <th></th>\n",
       "      <th>Имя</th>\n",
       "      <th>Возраст</th>\n",
       "      <th>Город</th>\n",
       "    </tr>\n",
       "  </thead>\n",
       "  <tbody>\n",
       "    <tr>\n",
       "      <th>0</th>\n",
       "      <td>Анна</td>\n",
       "      <td>25</td>\n",
       "      <td>Москва</td>\n",
       "    </tr>\n",
       "    <tr>\n",
       "      <th>1</th>\n",
       "      <td>Борис</td>\n",
       "      <td>30</td>\n",
       "      <td>Петербург</td>\n",
       "    </tr>\n",
       "    <tr>\n",
       "      <th>2</th>\n",
       "      <td>Виктор</td>\n",
       "      <td>28</td>\n",
       "      <td>Казань</td>\n",
       "    </tr>\n",
       "    <tr>\n",
       "      <th>3</th>\n",
       "      <td>Григорий</td>\n",
       "      <td>35</td>\n",
       "      <td>Москва</td>\n",
       "    </tr>\n",
       "  </tbody>\n",
       "</table>\n",
       "</div>"
      ],
      "text/plain": [
       "        Имя  Возраст      Город\n",
       "0      Анна       25     Москва\n",
       "1     Борис       30  Петербург\n",
       "2    Виктор       28     Казань\n",
       "3  Григорий       35     Москва"
      ]
     },
     "metadata": {},
     "output_type": "display_data"
    },
    {
     "name": "stdout",
     "output_type": "stream",
     "text": [
      "\n",
      "DataFrame с новым столбцом \"Приветствие\":\n"
     ]
    },
    {
     "data": {
      "text/html": [
       "<div>\n",
       "<style scoped>\n",
       "    .dataframe tbody tr th:only-of-type {\n",
       "        vertical-align: middle;\n",
       "    }\n",
       "\n",
       "    .dataframe tbody tr th {\n",
       "        vertical-align: top;\n",
       "    }\n",
       "\n",
       "    .dataframe thead th {\n",
       "        text-align: right;\n",
       "    }\n",
       "</style>\n",
       "<table border=\"1\" class=\"dataframe\">\n",
       "  <thead>\n",
       "    <tr style=\"text-align: right;\">\n",
       "      <th></th>\n",
       "      <th>Имя</th>\n",
       "      <th>Возраст</th>\n",
       "      <th>Город</th>\n",
       "      <th>Приветствие</th>\n",
       "    </tr>\n",
       "  </thead>\n",
       "  <tbody>\n",
       "    <tr>\n",
       "      <th>0</th>\n",
       "      <td>Анна</td>\n",
       "      <td>25</td>\n",
       "      <td>Москва</td>\n",
       "      <td>Привет, Анна ! Добро пожаловать в Москва!</td>\n",
       "    </tr>\n",
       "    <tr>\n",
       "      <th>1</th>\n",
       "      <td>Борис</td>\n",
       "      <td>30</td>\n",
       "      <td>Петербург</td>\n",
       "      <td>Привет, Борис ! Добро пожаловать в Петербург!</td>\n",
       "    </tr>\n",
       "    <tr>\n",
       "      <th>2</th>\n",
       "      <td>Виктор</td>\n",
       "      <td>28</td>\n",
       "      <td>Казань</td>\n",
       "      <td>Привет, Виктор ! Добро пожаловать в Казань!</td>\n",
       "    </tr>\n",
       "    <tr>\n",
       "      <th>3</th>\n",
       "      <td>Григорий</td>\n",
       "      <td>35</td>\n",
       "      <td>Москва</td>\n",
       "      <td>Привет, Григорий ! Добро пожаловать в Москва!</td>\n",
       "    </tr>\n",
       "  </tbody>\n",
       "</table>\n",
       "</div>"
      ],
      "text/plain": [
       "        Имя  Возраст      Город                                    Приветствие\n",
       "0      Анна       25     Москва      Привет, Анна ! Добро пожаловать в Москва!\n",
       "1     Борис       30  Петербург  Привет, Борис ! Добро пожаловать в Петербург!\n",
       "2    Виктор       28     Казань    Привет, Виктор ! Добро пожаловать в Казань!\n",
       "3  Григорий       35     Москва  Привет, Григорий ! Добро пожаловать в Москва!"
      ]
     },
     "metadata": {},
     "output_type": "display_data"
    }
   ],
   "source": [
    "print('Исхродный DataFrame:')\n",
    "display(df)\n",
    "\n",
    "df['Приветствие'] = 'Привет, ' + df['Имя'] + ' ! Добро пожаловать в ' + df['Город'] + '!'\n",
    "\n",
    "print('\\nDataFrame с новым столбцом \"Приветствие\":')\n",
    "display(df)"
   ]
  },
  {
   "cell_type": "markdown",
   "metadata": {},
   "source": [
    "2. **Добавление столбца с константным значением:**\n",
    "\n",
    "   В Pandas DataFrame можно легко добавить новый столбец, заполнив его **одним и тем же константным значением** для всех строк.  Этот способ полезен, когда необходимо добавить в DataFrame столбец-флаг, столбец по умолчанию или столбец-категорию, значение которого не зависит от других столбцов и является одинаковым для всех записей на начальном этапе.\n",
    "\n",
    "   Для добавления столбца с константным значением, вы также используете **присваивание по имени столбца**, как и в предыдущем примере.  Однако, в качестве значения, которое присваивается новому столбцу, вы указываете **непосредственно константу**.  Pandas автоматически \"размножит\" это константное значение на количество строк в DataFrame и заполнит им весь новый столбец."
   ]
  },
  {
   "cell_type": "code",
   "execution_count": 434,
   "metadata": {},
   "outputs": [
    {
     "name": "stdout",
     "output_type": "stream",
     "text": [
      "Dataframe с новым столбцом \"Страна\"\n"
     ]
    },
    {
     "data": {
      "text/html": [
       "<div>\n",
       "<style scoped>\n",
       "    .dataframe tbody tr th:only-of-type {\n",
       "        vertical-align: middle;\n",
       "    }\n",
       "\n",
       "    .dataframe tbody tr th {\n",
       "        vertical-align: top;\n",
       "    }\n",
       "\n",
       "    .dataframe thead th {\n",
       "        text-align: right;\n",
       "    }\n",
       "</style>\n",
       "<table border=\"1\" class=\"dataframe\">\n",
       "  <thead>\n",
       "    <tr style=\"text-align: right;\">\n",
       "      <th></th>\n",
       "      <th>Имя</th>\n",
       "      <th>Возраст</th>\n",
       "      <th>Город</th>\n",
       "      <th>Приветствие</th>\n",
       "      <th>Страна</th>\n",
       "    </tr>\n",
       "  </thead>\n",
       "  <tbody>\n",
       "    <tr>\n",
       "      <th>0</th>\n",
       "      <td>Анна</td>\n",
       "      <td>25</td>\n",
       "      <td>Москва</td>\n",
       "      <td>Привет, Анна ! Добро пожаловать в Москва!</td>\n",
       "      <td>Россия</td>\n",
       "    </tr>\n",
       "    <tr>\n",
       "      <th>1</th>\n",
       "      <td>Борис</td>\n",
       "      <td>30</td>\n",
       "      <td>Петербург</td>\n",
       "      <td>Привет, Борис ! Добро пожаловать в Петербург!</td>\n",
       "      <td>Россия</td>\n",
       "    </tr>\n",
       "    <tr>\n",
       "      <th>2</th>\n",
       "      <td>Виктор</td>\n",
       "      <td>28</td>\n",
       "      <td>Казань</td>\n",
       "      <td>Привет, Виктор ! Добро пожаловать в Казань!</td>\n",
       "      <td>Россия</td>\n",
       "    </tr>\n",
       "    <tr>\n",
       "      <th>3</th>\n",
       "      <td>Григорий</td>\n",
       "      <td>35</td>\n",
       "      <td>Москва</td>\n",
       "      <td>Привет, Григорий ! Добро пожаловать в Москва!</td>\n",
       "      <td>Россия</td>\n",
       "    </tr>\n",
       "  </tbody>\n",
       "</table>\n",
       "</div>"
      ],
      "text/plain": [
       "        Имя  Возраст      Город  \\\n",
       "0      Анна       25     Москва   \n",
       "1     Борис       30  Петербург   \n",
       "2    Виктор       28     Казань   \n",
       "3  Григорий       35     Москва   \n",
       "\n",
       "                                     Приветствие  Страна  \n",
       "0      Привет, Анна ! Добро пожаловать в Москва!  Россия  \n",
       "1  Привет, Борис ! Добро пожаловать в Петербург!  Россия  \n",
       "2    Привет, Виктор ! Добро пожаловать в Казань!  Россия  \n",
       "3  Привет, Григорий ! Добро пожаловать в Москва!  Россия  "
      ]
     },
     "metadata": {},
     "output_type": "display_data"
    }
   ],
   "source": [
    "df['Страна'] = 'Россия'\n",
    "print('Dataframe с новым столбцом \"Страна\"')\n",
    "display(df)"
   ]
  },
  {
   "cell_type": "markdown",
   "metadata": {},
   "source": [
    "3. **Использование `.assign()` для добавления столбцов:**\n",
    "\n",
    "   Метод `.assign()` в Pandas предоставляет **альтернативный и часто более удобный способ добавления новых столбцов** в DataFrame.  В отличие от прямого присваивания, `.assign()` **не изменяет исходный DataFrame напрямую**. Вместо этого, он **возвращает новый DataFrame** с добавленными или измененными столбцами.  Исходный DataFrame при этом остается нетронутым.  Такой подход делает код более **читабельным и предотвращает побочные эффекты**, особенно при работе с цепочками операций.\n",
    "\n",
    "   Метод `.assign()` принимает в качестве аргументов **имена новых столбцов в виде ключевых слов**, а в качестве значений - **выражения, которые определяют значения для этих столбцов**.  Эти выражения могут быть константами, Series, функциями или комбинацией столбцов из исходного DataFrame.\n",
    "\n",
    "   **Основные преимущества использования `.assign()`:**\n",
    "\n",
    "   * **Не изменяет исходный DataFrame:**  `.assign()` создает и возвращает новый DataFrame, оставляя исходный DataFrame без изменений. Это способствует более безопасному и предсказуемому коду.\n",
    "   * **Цепочки операций:**  `.assign()` удобно использовать в цепочках методов Pandas (method chaining), так как он возвращает DataFrame, который можно сразу же использовать для дальнейших операций.\n",
    "   * **Читабельность:**  Синтаксис `.assign()` может быть более читабельным, особенно при добавлении нескольких столбцов одновременно, или при использовании сложных выражений для их вычисления."
   ]
  },
  {
   "cell_type": "code",
   "execution_count": 435,
   "metadata": {},
   "outputs": [
    {
     "name": "stdout",
     "output_type": "stream",
     "text": [
      "DataFrame, созданный с помощью .assign() с новым столбцом 'Пол':\n"
     ]
    },
    {
     "data": {
      "text/html": [
       "<div>\n",
       "<style scoped>\n",
       "    .dataframe tbody tr th:only-of-type {\n",
       "        vertical-align: middle;\n",
       "    }\n",
       "\n",
       "    .dataframe tbody tr th {\n",
       "        vertical-align: top;\n",
       "    }\n",
       "\n",
       "    .dataframe thead th {\n",
       "        text-align: right;\n",
       "    }\n",
       "</style>\n",
       "<table border=\"1\" class=\"dataframe\">\n",
       "  <thead>\n",
       "    <tr style=\"text-align: right;\">\n",
       "      <th></th>\n",
       "      <th>Имя</th>\n",
       "      <th>Возраст</th>\n",
       "      <th>Город</th>\n",
       "      <th>Приветствие</th>\n",
       "      <th>Страна</th>\n",
       "      <th>Пол</th>\n",
       "    </tr>\n",
       "  </thead>\n",
       "  <tbody>\n",
       "    <tr>\n",
       "      <th>0</th>\n",
       "      <td>Анна</td>\n",
       "      <td>25</td>\n",
       "      <td>Москва</td>\n",
       "      <td>Привет, Анна ! Добро пожаловать в Москва!</td>\n",
       "      <td>Россия</td>\n",
       "      <td>Жен</td>\n",
       "    </tr>\n",
       "    <tr>\n",
       "      <th>1</th>\n",
       "      <td>Борис</td>\n",
       "      <td>30</td>\n",
       "      <td>Петербург</td>\n",
       "      <td>Привет, Борис ! Добро пожаловать в Петербург!</td>\n",
       "      <td>Россия</td>\n",
       "      <td>Муж</td>\n",
       "    </tr>\n",
       "    <tr>\n",
       "      <th>2</th>\n",
       "      <td>Виктор</td>\n",
       "      <td>28</td>\n",
       "      <td>Казань</td>\n",
       "      <td>Привет, Виктор ! Добро пожаловать в Казань!</td>\n",
       "      <td>Россия</td>\n",
       "      <td>Муж</td>\n",
       "    </tr>\n",
       "    <tr>\n",
       "      <th>3</th>\n",
       "      <td>Григорий</td>\n",
       "      <td>35</td>\n",
       "      <td>Москва</td>\n",
       "      <td>Привет, Григорий ! Добро пожаловать в Москва!</td>\n",
       "      <td>Россия</td>\n",
       "      <td>Муж</td>\n",
       "    </tr>\n",
       "  </tbody>\n",
       "</table>\n",
       "</div>"
      ],
      "text/plain": [
       "        Имя  Возраст      Город  \\\n",
       "0      Анна       25     Москва   \n",
       "1     Борис       30  Петербург   \n",
       "2    Виктор       28     Казань   \n",
       "3  Григорий       35     Москва   \n",
       "\n",
       "                                     Приветствие  Страна  Пол  \n",
       "0      Привет, Анна ! Добро пожаловать в Москва!  Россия  Жен  \n",
       "1  Привет, Борис ! Добро пожаловать в Петербург!  Россия  Муж  \n",
       "2    Привет, Виктор ! Добро пожаловать в Казань!  Россия  Муж  \n",
       "3  Привет, Григорий ! Добро пожаловать в Москва!  Россия  Муж  "
      ]
     },
     "metadata": {},
     "output_type": "display_data"
    },
    {
     "name": "stdout",
     "output_type": "stream",
     "text": [
      "\n",
      "Исходный DataFrame (df) - не изменился:\n"
     ]
    },
    {
     "data": {
      "text/html": [
       "<div>\n",
       "<style scoped>\n",
       "    .dataframe tbody tr th:only-of-type {\n",
       "        vertical-align: middle;\n",
       "    }\n",
       "\n",
       "    .dataframe tbody tr th {\n",
       "        vertical-align: top;\n",
       "    }\n",
       "\n",
       "    .dataframe thead th {\n",
       "        text-align: right;\n",
       "    }\n",
       "</style>\n",
       "<table border=\"1\" class=\"dataframe\">\n",
       "  <thead>\n",
       "    <tr style=\"text-align: right;\">\n",
       "      <th></th>\n",
       "      <th>Имя</th>\n",
       "      <th>Возраст</th>\n",
       "      <th>Город</th>\n",
       "      <th>Приветствие</th>\n",
       "      <th>Страна</th>\n",
       "    </tr>\n",
       "  </thead>\n",
       "  <tbody>\n",
       "    <tr>\n",
       "      <th>0</th>\n",
       "      <td>Анна</td>\n",
       "      <td>25</td>\n",
       "      <td>Москва</td>\n",
       "      <td>Привет, Анна ! Добро пожаловать в Москва!</td>\n",
       "      <td>Россия</td>\n",
       "    </tr>\n",
       "    <tr>\n",
       "      <th>1</th>\n",
       "      <td>Борис</td>\n",
       "      <td>30</td>\n",
       "      <td>Петербург</td>\n",
       "      <td>Привет, Борис ! Добро пожаловать в Петербург!</td>\n",
       "      <td>Россия</td>\n",
       "    </tr>\n",
       "    <tr>\n",
       "      <th>2</th>\n",
       "      <td>Виктор</td>\n",
       "      <td>28</td>\n",
       "      <td>Казань</td>\n",
       "      <td>Привет, Виктор ! Добро пожаловать в Казань!</td>\n",
       "      <td>Россия</td>\n",
       "    </tr>\n",
       "    <tr>\n",
       "      <th>3</th>\n",
       "      <td>Григорий</td>\n",
       "      <td>35</td>\n",
       "      <td>Москва</td>\n",
       "      <td>Привет, Григорий ! Добро пожаловать в Москва!</td>\n",
       "      <td>Россия</td>\n",
       "    </tr>\n",
       "  </tbody>\n",
       "</table>\n",
       "</div>"
      ],
      "text/plain": [
       "        Имя  Возраст      Город  \\\n",
       "0      Анна       25     Москва   \n",
       "1     Борис       30  Петербург   \n",
       "2    Виктор       28     Казань   \n",
       "3  Григорий       35     Москва   \n",
       "\n",
       "                                     Приветствие  Страна  \n",
       "0      Привет, Анна ! Добро пожаловать в Москва!  Россия  \n",
       "1  Привет, Борис ! Добро пожаловать в Петербург!  Россия  \n",
       "2    Привет, Виктор ! Добро пожаловать в Казань!  Россия  \n",
       "3  Привет, Григорий ! Добро пожаловать в Москва!  Россия  "
      ]
     },
     "metadata": {},
     "output_type": "display_data"
    }
   ],
   "source": [
    "df_assigned = df.assign(\n",
    "    Пол = ['Жен', 'Муж', 'Муж', 'Муж']\n",
    ")\n",
    "\n",
    "print(\"DataFrame, созданный с помощью .assign() с новым столбцом 'Пол':\")\n",
    "display(df_assigned)\n",
    "print(\"\\nИсходный DataFrame (df) - не изменился:\") \n",
    "display(df)# Исходный DataFrame df остался без изменений"
   ]
  },
  {
   "cell_type": "markdown",
   "metadata": {},
   "source": [
    "---"
   ]
  },
  {
   "cell_type": "markdown",
   "metadata": {},
   "source": [
    "### Изменение значений в столбцах DataFrame"
   ]
  },
  {
   "cell_type": "markdown",
   "metadata": {},
   "source": [
    "1. **Изменение значений столбца целиком (присваивание новых значений столбцу):**\n",
    "\n",
    "   Один из самых простых и распространенных способов изменить значения в **целом столбце** DataFrame - это **присвоить этому столбцу новые значения**.  Этот подход аналогичен созданию новых столбцов, но в данном случае, вы используете **имя уже существующего столбца** в левой части операции присваивания.\n",
    "\n",
    "   Когда вы присваиваете новые значения существующему столбцу, **все предыдущие значения в этом столбце заменяются** на новые.  Новые значения должны быть представлены в виде **Pandas Series, списка Python или массива NumPy**, длина которых должна соответствовать количеству строк в DataFrame.  Если вы присваиваете одно скалярное значение, оно будет автоматически **\"размножено\"** и применено ко всем строкам столбца, как мы уже видели при добавлении столбца с константным значением.\n",
    "\n",
    "   **Важно отметить**, что присваивание новых значений столбцу **изменяет исходный DataFrame напрямую**.  Если вам нужно сохранить исходный DataFrame и получить DataFrame с измененным столбцом, рассмотрите использование метода `.assign()` или создание копии DataFrame перед изменением столбца."
   ]
  },
  {
   "cell_type": "code",
   "execution_count": 436,
   "metadata": {},
   "outputs": [],
   "source": [
    "df = pd.DataFrame(data)"
   ]
  },
  {
   "cell_type": "markdown",
   "metadata": {},
   "source": [
    "Допустим, мы хотим увеличить возраст всех людей на 1 год. Мы можем сделать это так:"
   ]
  },
  {
   "cell_type": "code",
   "execution_count": 437,
   "metadata": {},
   "outputs": [
    {
     "name": "stdout",
     "output_type": "stream",
     "text": [
      "\n",
      "DataFrame с измененным столбцом 'Возраст':\n"
     ]
    },
    {
     "data": {
      "text/html": [
       "<div>\n",
       "<style scoped>\n",
       "    .dataframe tbody tr th:only-of-type {\n",
       "        vertical-align: middle;\n",
       "    }\n",
       "\n",
       "    .dataframe tbody tr th {\n",
       "        vertical-align: top;\n",
       "    }\n",
       "\n",
       "    .dataframe thead th {\n",
       "        text-align: right;\n",
       "    }\n",
       "</style>\n",
       "<table border=\"1\" class=\"dataframe\">\n",
       "  <thead>\n",
       "    <tr style=\"text-align: right;\">\n",
       "      <th></th>\n",
       "      <th>Имя</th>\n",
       "      <th>Возраст</th>\n",
       "      <th>Город</th>\n",
       "    </tr>\n",
       "  </thead>\n",
       "  <tbody>\n",
       "    <tr>\n",
       "      <th>0</th>\n",
       "      <td>Анна</td>\n",
       "      <td>26</td>\n",
       "      <td>Москва</td>\n",
       "    </tr>\n",
       "    <tr>\n",
       "      <th>1</th>\n",
       "      <td>Борис</td>\n",
       "      <td>31</td>\n",
       "      <td>Петербург</td>\n",
       "    </tr>\n",
       "    <tr>\n",
       "      <th>2</th>\n",
       "      <td>Виктор</td>\n",
       "      <td>29</td>\n",
       "      <td>Казань</td>\n",
       "    </tr>\n",
       "    <tr>\n",
       "      <th>3</th>\n",
       "      <td>Григорий</td>\n",
       "      <td>36</td>\n",
       "      <td>Москва</td>\n",
       "    </tr>\n",
       "  </tbody>\n",
       "</table>\n",
       "</div>"
      ],
      "text/plain": [
       "        Имя  Возраст      Город\n",
       "0      Анна       26     Москва\n",
       "1     Борис       31  Петербург\n",
       "2    Виктор       29     Казань\n",
       "3  Григорий       36     Москва"
      ]
     },
     "metadata": {},
     "output_type": "display_data"
    }
   ],
   "source": [
    "df['Возраст'] = df['Возраст'] + 1\n",
    "\n",
    "print(\"\\nDataFrame с измененным столбцом 'Возраст':\")\n",
    "display(df)"
   ]
  },
  {
   "cell_type": "markdown",
   "metadata": {},
   "source": [
    "2. **Изменение значений на основе условий (условное изменение значений):**\n",
    "\n",
    "   В реальных задачах анализа данных часто возникает необходимость изменять значения в столбце **не для всех строк подряд, а только для тех строк, которые удовлетворяют определенному условию**.  Такой подход называется **условным изменением значений**.\n",
    "\n",
    "   Например, типичной задачей может быть корректировка данных, заполнение пропусков на основе определенных правил, или категоризация значений.  В приведенном вами примере, целью является **установить значение возраста равным 0 для всех людей, чей возраст в DataFrame указан как менее 25 лет**.\n",
    "\n",
    "   Для реализации условного изменения значений в Pandas, наиболее распространенным и гибким способом является **использование логической индексации совместно с методом `.loc[]`**.  Этот подход позволяет сначала **выбрать строки, соответствующие условию** (с помощью булевой маски), а затем **присвоить новые значения** выбранным строкам в указанном столбце.\n",
    "\n",
    "   **Основные шаги для условного изменения значений с использованием `.loc[]` и логической индексации:**\n",
    "\n",
    "   1. **Создание булевой маски (условия):**  Сформируйте булеву маску, которая будет `True` для тех строк, для которых условие выполняется, и `False` для строк, для которых условие не выполняется.  Например, для условия \"возраст меньше 25 лет\", булева маска будет выглядеть как `df['Возраст'] < 25`.\n",
    "\n",
    "   2. **Использование `.loc[]` с булевой маской для выбора строк:**  Примените созданную булеву маску в методе `.loc[]` для выбора строк DataFrame, которые соответствуют условию.  Например, `df.loc[df['Возраст'] < 25, 'Возраст']` выберет все строки, где 'Возраст' < 25, и *только* столбец 'Возраст' в этих строках.\n",
    "\n",
    "   3. **Присваивание новых значений выбранным элементам:**  После выбора нужных элементов с помощью `.loc[]` и булевой маски, присвойте им новое значение, используя оператор присваивания `=`.  Например, `df.loc[df['Возраст'] < 25, 'Возраст'] = 0` установит значение 0 для столбца 'Возраст' во всех строках, где исходное значение 'Возраст' было меньше 25."
   ]
  },
  {
   "cell_type": "code",
   "execution_count": null,
   "metadata": {},
   "outputs": [
    {
     "name": "stdout",
     "output_type": "stream",
     "text": [
      "\n",
      "DataFrame с измененным 'Возраст' (для возраста < 30 установлено 0):\n"
     ]
    },
    {
     "data": {
      "text/html": [
       "<div>\n",
       "<style scoped>\n",
       "    .dataframe tbody tr th:only-of-type {\n",
       "        vertical-align: middle;\n",
       "    }\n",
       "\n",
       "    .dataframe tbody tr th {\n",
       "        vertical-align: top;\n",
       "    }\n",
       "\n",
       "    .dataframe thead th {\n",
       "        text-align: right;\n",
       "    }\n",
       "</style>\n",
       "<table border=\"1\" class=\"dataframe\">\n",
       "  <thead>\n",
       "    <tr style=\"text-align: right;\">\n",
       "      <th></th>\n",
       "      <th>Имя</th>\n",
       "      <th>Возраст</th>\n",
       "      <th>Город</th>\n",
       "    </tr>\n",
       "  </thead>\n",
       "  <tbody>\n",
       "    <tr>\n",
       "      <th>0</th>\n",
       "      <td>Анна</td>\n",
       "      <td>0</td>\n",
       "      <td>Москва</td>\n",
       "    </tr>\n",
       "    <tr>\n",
       "      <th>1</th>\n",
       "      <td>Борис</td>\n",
       "      <td>31</td>\n",
       "      <td>Петербург</td>\n",
       "    </tr>\n",
       "    <tr>\n",
       "      <th>2</th>\n",
       "      <td>Виктор</td>\n",
       "      <td>0</td>\n",
       "      <td>Казань</td>\n",
       "    </tr>\n",
       "    <tr>\n",
       "      <th>3</th>\n",
       "      <td>Григорий</td>\n",
       "      <td>36</td>\n",
       "      <td>Москва</td>\n",
       "    </tr>\n",
       "  </tbody>\n",
       "</table>\n",
       "</div>"
      ],
      "text/plain": [
       "        Имя  Возраст      Город\n",
       "0      Анна        0     Москва\n",
       "1     Борис       31  Петербург\n",
       "2    Виктор        0     Казань\n",
       "3  Григорий       36     Москва"
      ]
     },
     "metadata": {},
     "output_type": "display_data"
    },
    {
     "name": "stdout",
     "output_type": "stream",
     "text": [
      "\n",
      "DataFrame с измененным 'Возраст' (для возраста < 30 установлено 0):\n"
     ]
    },
    {
     "data": {
      "text/html": [
       "<div>\n",
       "<style scoped>\n",
       "    .dataframe tbody tr th:only-of-type {\n",
       "        vertical-align: middle;\n",
       "    }\n",
       "\n",
       "    .dataframe tbody tr th {\n",
       "        vertical-align: top;\n",
       "    }\n",
       "\n",
       "    .dataframe thead th {\n",
       "        text-align: right;\n",
       "    }\n",
       "</style>\n",
       "<table border=\"1\" class=\"dataframe\">\n",
       "  <thead>\n",
       "    <tr style=\"text-align: right;\">\n",
       "      <th></th>\n",
       "      <th>Имя</th>\n",
       "      <th>Возраст</th>\n",
       "      <th>Город</th>\n",
       "    </tr>\n",
       "  </thead>\n",
       "  <tbody>\n",
       "    <tr>\n",
       "      <th>0</th>\n",
       "      <td>Анна</td>\n",
       "      <td>0</td>\n",
       "      <td>Москва</td>\n",
       "    </tr>\n",
       "    <tr>\n",
       "      <th>1</th>\n",
       "      <td>Борис</td>\n",
       "      <td>31</td>\n",
       "      <td>Петербург</td>\n",
       "    </tr>\n",
       "    <tr>\n",
       "      <th>2</th>\n",
       "      <td>Виктор</td>\n",
       "      <td>0</td>\n",
       "      <td>Казань</td>\n",
       "    </tr>\n",
       "    <tr>\n",
       "      <th>3</th>\n",
       "      <td>Григорий</td>\n",
       "      <td>36</td>\n",
       "      <td>Москва</td>\n",
       "    </tr>\n",
       "  </tbody>\n",
       "</table>\n",
       "</div>"
      ],
      "text/plain": [
       "        Имя  Возраст      Город\n",
       "0      Анна        0     Москва\n",
       "1     Борис       31  Петербург\n",
       "2    Виктор        0     Казань\n",
       "3  Григорий       36     Москва"
      ]
     },
     "metadata": {},
     "output_type": "display_data"
    }
   ],
   "source": [
    "condition = df['Возраст'] < 30 # Создаём булеву маску, где возраст < 30\n",
    "\n",
    "df.loc[condition, 'Возраст'] = 0 # Изменяем 'Возраст' на 0 только для строк, где condition == True\n",
    "\n",
    "print(\"\\nDataFrame с измененным 'Возраст' (для возраста < 30 установлено 0):\")\n",
    "display(df)"
   ]
  },
  {
   "cell_type": "markdown",
   "metadata": {},
   "source": [
    "3. **Переименование столбцов DataFrame:**\n",
    "\n",
    "   В процессе работы с данными в Pandas DataFrame часто возникает необходимость **переименовать столбцы**.  Это может быть обусловлено различными причинами, включая:\n",
    "\n",
    "   * **Улучшение читабельности:**  Исходные названия столбцов могут быть неинформативными, сокращенными или техническими. Переименование столбцов в более **описательные и понятные имена** делает DataFrame более легким для восприятия и понимания, особенно при совместной работе или при повторном обращении к коду через некоторое время.\n",
    "   * **Удобство использования:**  Некоторые имена столбцов могут быть неудобными для набора (слишком длинные, содержащие специальные символы или пробелы).  Переименование в более **короткие и простые имена** облегчает дальнейшую работу со столбцами, особенно при написании кода для анализа и обработки данных.\n",
    "   * **Соответствие стандартам:**  В определенных случаях, например, при интеграции данных из разных источников или при подготовке данных для определенных инструментов или библиотек, необходимо привести имена столбцов к **единому формату или стандарту**.  Переименование столбцов позволяет обеспечить такое соответствие.\n",
    "\n",
    "   Для переименования столбцов в Pandas DataFrame используется метод **`.rename()`**.  Этот метод предоставляет гибкий и удобный способ изменить имена одного или нескольких столбцов.\n",
    "\n",
    "   * **`.rename(columns=mapping)`: Переименование столбцов с использованием словаря.**  Основной способ использования `.rename()` для переименования столбцов заключается в передаче **словаря (dictionary) в качестве значения аргумента `columns`**.\n",
    "\n",
    "     * **Аргумент `columns`:**  Этот аргумент принимает словарь, который определяет **соответствие между старыми и новыми именами столбцов**.\n",
    "     * **Структура словаря `mapping`:**  В словаре `mapping`, **ключами являются старые имена столбцов (которые нужно переименовать)**, а **значениями – новые имена столбцов (на которые нужно переименовать)**.\n",
    "\n",
    "     Метод `.rename()` **возвращает новый DataFrame** с переименованными столбцами. **Исходный DataFrame при этом не изменяется**, если явно не указать параметр `inplace=True`."
   ]
  },
  {
   "cell_type": "code",
   "execution_count": null,
   "metadata": {},
   "outputs": [
    {
     "name": "stdout",
     "output_type": "stream",
     "text": [
      "DataFrame с переименованными столбцами:\n"
     ]
    },
    {
     "data": {
      "text/html": [
       "<div>\n",
       "<style scoped>\n",
       "    .dataframe tbody tr th:only-of-type {\n",
       "        vertical-align: middle;\n",
       "    }\n",
       "\n",
       "    .dataframe tbody tr th {\n",
       "        vertical-align: top;\n",
       "    }\n",
       "\n",
       "    .dataframe thead th {\n",
       "        text-align: right;\n",
       "    }\n",
       "</style>\n",
       "<table border=\"1\" class=\"dataframe\">\n",
       "  <thead>\n",
       "    <tr style=\"text-align: right;\">\n",
       "      <th></th>\n",
       "      <th>Имя</th>\n",
       "      <th>Лет</th>\n",
       "      <th>Населённый пункт</th>\n",
       "    </tr>\n",
       "  </thead>\n",
       "  <tbody>\n",
       "    <tr>\n",
       "      <th>0</th>\n",
       "      <td>Анна</td>\n",
       "      <td>0</td>\n",
       "      <td>Москва</td>\n",
       "    </tr>\n",
       "    <tr>\n",
       "      <th>1</th>\n",
       "      <td>Борис</td>\n",
       "      <td>31</td>\n",
       "      <td>Петербург</td>\n",
       "    </tr>\n",
       "    <tr>\n",
       "      <th>2</th>\n",
       "      <td>Виктор</td>\n",
       "      <td>0</td>\n",
       "      <td>Казань</td>\n",
       "    </tr>\n",
       "    <tr>\n",
       "      <th>3</th>\n",
       "      <td>Григорий</td>\n",
       "      <td>36</td>\n",
       "      <td>Москва</td>\n",
       "    </tr>\n",
       "  </tbody>\n",
       "</table>\n",
       "</div>"
      ],
      "text/plain": [
       "        Имя  Лет Населённый пункт\n",
       "0      Анна    0           Москва\n",
       "1     Борис   31        Петербург\n",
       "2    Виктор    0           Казань\n",
       "3  Григорий   36           Москва"
      ]
     },
     "metadata": {},
     "output_type": "display_data"
    },
    {
     "name": "stdout",
     "output_type": "stream",
     "text": [
      "\n",
      "Исходный DataFrame (df) - не изменился:\n"
     ]
    },
    {
     "data": {
      "text/html": [
       "<div>\n",
       "<style scoped>\n",
       "    .dataframe tbody tr th:only-of-type {\n",
       "        vertical-align: middle;\n",
       "    }\n",
       "\n",
       "    .dataframe tbody tr th {\n",
       "        vertical-align: top;\n",
       "    }\n",
       "\n",
       "    .dataframe thead th {\n",
       "        text-align: right;\n",
       "    }\n",
       "</style>\n",
       "<table border=\"1\" class=\"dataframe\">\n",
       "  <thead>\n",
       "    <tr style=\"text-align: right;\">\n",
       "      <th></th>\n",
       "      <th>Имя</th>\n",
       "      <th>Возраст</th>\n",
       "      <th>Город</th>\n",
       "    </tr>\n",
       "  </thead>\n",
       "  <tbody>\n",
       "    <tr>\n",
       "      <th>0</th>\n",
       "      <td>Анна</td>\n",
       "      <td>0</td>\n",
       "      <td>Москва</td>\n",
       "    </tr>\n",
       "    <tr>\n",
       "      <th>1</th>\n",
       "      <td>Борис</td>\n",
       "      <td>31</td>\n",
       "      <td>Петербург</td>\n",
       "    </tr>\n",
       "    <tr>\n",
       "      <th>2</th>\n",
       "      <td>Виктор</td>\n",
       "      <td>0</td>\n",
       "      <td>Казань</td>\n",
       "    </tr>\n",
       "    <tr>\n",
       "      <th>3</th>\n",
       "      <td>Григорий</td>\n",
       "      <td>36</td>\n",
       "      <td>Москва</td>\n",
       "    </tr>\n",
       "  </tbody>\n",
       "</table>\n",
       "</div>"
      ],
      "text/plain": [
       "        Имя  Возраст      Город\n",
       "0      Анна        0     Москва\n",
       "1     Борис       31  Петербург\n",
       "2    Виктор        0     Казань\n",
       "3  Григорий       36     Москва"
      ]
     },
     "metadata": {},
     "output_type": "display_data"
    }
   ],
   "source": [
    "df_renamed = df.rename(columns={'Возраст': 'Лет', 'Город': 'Населённый пункт'}) # переименовывам столбцы\n",
    "\n",
    "print(\"DataFrame с переименованными столбцами:\")\n",
    "display(df_renamed)\n",
    "print(\"\\nИсходный DataFrame (df) - не изменился:\") # Исходный DataFrame df остался с прежними именами столбцов\n",
    "display(df)\n"
   ]
  },
  {
   "cell_type": "markdown",
   "metadata": {},
   "source": [
    "   **Важно:** Метод `.rename()` **также не изменяет исходный DataFrame напрямую**, а **возвращает новый DataFrame** с переименованными столбцами.  Это поведение по умолчанию соответствует принципам функционального программирования и помогает избежать нежелательных побочных эффектов в коде.\n",
    "\n",
    "   **Изменение DataFrame \"на месте\" (inplace=True):**\n",
    "\n",
    "   Если вы хотите **изменить DataFrame непосредственно, без создания копии**, вы можете использовать параметр `inplace=True` в методе `.rename()`.  Установка `inplace=True` **модифицирует исходный DataFrame**, и метод `.rename()` в этом случае **не возвращает новый DataFrame (возвращает `None`)**."
   ]
  },
  {
   "cell_type": "markdown",
   "metadata": {},
   "source": [
    "---"
   ]
  },
  {
   "cell_type": "markdown",
   "metadata": {},
   "source": [
    "### Применение функций к DataFrame"
   ]
  },
  {
   "cell_type": "markdown",
   "metadata": {},
   "source": [
    "Зачем применять функции к столбцам DataFrame?\n",
    "\n",
    "Представьте себе множество ситуаций в анализе данных, когда стандартных операций Pandas недостаточно, и вам требуется более **гибкая и специализированная обработка данных в столбцах**.  Вот лишь несколько распространенных примеров, демонстрирующих необходимость применения функций к столбцам DataFrame:\n",
    "\n",
    "* **Очистка данных (Data Cleaning):**  Некачественные данные могут содержать различные несоответствия и \"шумы\".  Применение функций позволяет автоматизировать процесс очистки, например:\n",
    "    * **Удаление лишних пробелов** в начале и конце строк в текстовых столбцах, чтобы обеспечить консистентность данных.\n",
    "    * **Приведение всех строк к нижнему или верхнему регистру** для унификации текстовых данных и упрощения сравнения и анализа.\n",
    "    * **Замена определенных символов или подстрок** на другие значения, например, исправление опечаток или замена специальных символов на стандартные аналоги.\n",
    "\n",
    "* **Преобразование данных (Data Transformation):**  Часто данные поступают в формате, который неудобен для анализа, и требуют преобразования:\n",
    "    * **Преобразование дат из одного формата в другой**, чтобы привести все даты к единому стандарту, необходимому для анализа временных рядов или совместимости с другими системами.\n",
    "    * **Извлечение компонентов даты (год, месяц, день)** из столбца с датами для агрегации данных по периодам или создания новых признаков, связанных со временем.\n",
    "    * **Преобразование числовых значений в другие единицы измерения**, например, перевод температуры из градусов Фаренгейта в Цельсия или конвертация валют, для унификации измерений или соответствия требованиям анализа.\n",
    "\n",
    "* **Создание новых признаков (Feature Engineering):**  Новые признаки, полученные на основе существующих данных, могут значительно повысить качество моделей машинного обучения или углубить понимание данных:\n",
    "    * **Разделение столбца с полным именем на столбцы 'Имя' и 'Фамилия'**, чтобы получить более гранулярные признаки для анализа персональных данных.\n",
    "    * **Расчет длины строк** в текстовом столбце, что может быть полезно для анализа текстовых характеристик, например, длины описаний или комментариев.\n",
    "    * **Определение категорий на основе числовых значений**, например, разделение клиентов на категории \"низкий\", \"средний\", \"высокий\" доход на основе столбца с доходом, для сегментации и анализа по группам.\n",
    "\n",
    "* **Выполнение сложных вычислений и специализированной обработки:**  В некоторых случаях требуется применение нестандартных или ресурсоемких операций к данным в столбцах:\n",
    "    * **Применение сложных математических формул** к каждому значению в столбце, например, логарифмирование, возведение в степень или тригонометрические функции, для нелинейного преобразования данных или нормализации распределения.\n",
    "    * **Использование внешних функций или специализированных библиотек** для обработки данных в столбце, например, применение функций NLP (Natural Language Processing) для анализа текста, функций обработки изображений для анализа изображений, или функций геокодирования для обработки географических данных.\n",
    "\n",
    "Во всех этих и многих других ситуациях, **применение функций к столбцам DataFrame является незаменимым инструментом** в арсенале аналитика данных.  Pandas предоставляет для этих целей **мощный, гибкий и удобный метод – `.apply()`**.\n",
    "\n",
    "### Метод `.apply()`\n",
    "\n",
    "Метод `.apply()` в Pandas – это универсальный инструмент, который можно применять как к объектам **Series (столбцам DataFrame)**, так и к объектам **DataFrame целиком**.  Он обеспечивает механизм для применения произвольной функции к данным в Series или DataFrame, открывая широкие возможности для кастомизации обработки данных.\n",
    "\n",
    "**Применение `.apply()` к Series (`Series.apply(func)`):**\n",
    "\n",
    "* **Назначение:**  Метод `Series.apply(func)` применяется для **поэлементной обработки данных в Series**.  Функция `func` будет применена **к каждому отдельному значению** в Series.\n",
    "* **Аргумент `func`:**  Аргументом `func` должна быть **функция Python** (определенная пользователем или встроенная).  Эта функция должна принимать **один аргумент** – значение элемента Series.\n",
    "* **Возвращаемое значение:**  Метод `Series.apply(func)` **возвращает новый объект Series**, где **каждый элемент является результатом применения функции `func` к соответствующему элементу исходной Series**.  Индекс нового Series будет таким же, как у исходной Series.\n",
    "\n",
    "**Применение `.apply()` к DataFrame (`DataFrame.apply(func, axis=0 или axis=1)`):**\n",
    "\n",
    "* **Назначение:**  Метод `DataFrame.apply(func, axis=0 или axis=1)` применяется для **строчной или столбцовой обработки данных в DataFrame**.  Функция `func` будет применена либо к каждому столбцу, либо к каждой строке DataFrame, в зависимости от значения параметра `axis`.\n",
    "* **Аргумент `func`:**  Аргументом `func` также должна быть **функция Python**.  Однако, в случае DataFrame, функция `func` будет принимать в качестве аргумента **объект Series**, представляющий собой **либо столбец (если `axis=0`)**, либо **строку (если `axis=1`)** DataFrame.\n",
    "* **Параметр `axis`:**  Параметр `axis` определяет **направление применения функции**:\n",
    "    * **`axis=0` или `axis='index'` (по умолчанию):** Функция `func` применяется **к каждому столбцу** DataFrame.  В функцию `func` передается **Series, представляющий столбец**.  Метод `DataFrame.apply()` **возвращает Series**, где **индексами являются имена столбцов**, а **значениями – результаты применения функции `func` к каждому столбцу**.\n",
    "    * **`axis=1` или `axis='columns'`:** Функция `func` применяется **к каждой строке** DataFrame.  В функцию `func` передается **Series, представляющий строку**.  Метод `DataFrame.apply()` **возвращает Series**, где **индексами являются индексы строк**, а **значениями – результаты применения функции `func` к каждой строке**.\n",
    "\n",
    "В следующих разделах мы рассмотрим практические примеры применения метода `.apply()` для решения различных задач обработки данных в Pandas DataFrame."
   ]
  },
  {
   "cell_type": "markdown",
   "metadata": {},
   "source": [
    "1. **Применение `.apply()` к столбцу (Series):**\n",
    "\n",
    "   Наиболее распространенным сценарием использования метода `.apply()` является его применение **к отдельному столбцу DataFrame**, который в Pandas представлен объектом **Series**.  В этом случае, `.apply()` позволяет выполнить **поэлементную трансформацию** значений в столбце, применяя к каждому значению заданную вами функцию.\n",
    "\n",
    "   **Как это работает:**\n",
    "\n",
    "   1. **Выбор столбца:** Сначала вы выбираете столбец DataFrame, к которому хотите применить функцию.  Например, `df['Имя_столбца']` вернет объект Series, представляющий столбец с именем 'Имя_столбца'.\n",
    "\n",
    "   2. **Вызов `.apply()`:**  Затем вы вызываете метод `.apply()` **непосредственно для выбранного столбца (Series)**, передавая в качестве аргумента функцию, которую вы хотите применить.  Синтаксис будет выглядеть так: `df['Имя_столбца'].apply(func)`.\n",
    "\n",
    "   3. **Выполнение функции для каждого элемента:**  Pandas **итерируется по каждому значению** в выбранном столбце (Series) и **применяет функцию `func` к каждому значению по очереди**.  В функцию `func` на каждой итерации передается **одно значение из столбца**.\n",
    "\n",
    "   4. **Сборка результатов в новый Series:**  Функция `func` должна **возвращать некоторое значение** (преобразованное значение, результат вычисления и т.д.).  Pandas собирает все значения, возвращенные функцией `func` для каждого элемента столбца, и формирует из них **новый объект Series**.\n",
    "\n",
    "   5. **Возвращение нового Series:**  Метод `Series.apply(func)` **возвращает этот новый Series**, который содержит результаты применения функции `func` к каждому элементу исходного столбца.  Обычно, этот новый Series либо присваивается новой переменной, либо используется для замены исходного столбца, либо для создания нового столбца в DataFrame."
   ]
  },
  {
   "cell_type": "code",
   "execution_count": null,
   "metadata": {},
   "outputs": [],
   "source": [
    "data = {\n",
    "    'ФИО': ['Анна Иванова', 'Борис Петров', 'Виктор Смирнов', 'Григорий Соколов'],\n",
    "    'Возраст_в_годах': [26, 31, 29, 36],\n",
    "    'Населенный пункт': ['Москва', 'Петербург', 'Казань', 'Москва']\n",
    "}\n",
    "df = pd.DataFrame(data)"
   ]
  },
  {
   "cell_type": "markdown",
   "metadata": {},
   "source": [
    "Допустим, мы хотим посчитать длину строки в столбце 'ФИО' для каждого человека. Мы можем использовать функцию len() и метод .apply():"
   ]
  },
  {
   "cell_type": "code",
   "execution_count": null,
   "metadata": {},
   "outputs": [
    {
     "name": "stdout",
     "output_type": "stream",
     "text": [
      "\n",
      "Series с длиной ФИО:\n",
      " 0    12\n",
      "1    12\n",
      "2    14\n",
      "3    16\n",
      "Name: ФИО, dtype: int64\n",
      "<class 'pandas.core.series.Series'>\n"
     ]
    }
   ],
   "source": [
    "def get_name_length(fio):\n",
    "    return len(fio)\n",
    "\n",
    "name_length_series = df['ФИО'].apply(get_name_length)\n",
    "\n",
    "print(\"\\nSeries с длиной ФИО:\\n\", name_length_series)\n",
    "print(type(name_length_series)) # Результат - Pandas Series"
   ]
  },
  {
   "cell_type": "markdown",
   "metadata": {},
   "source": [
    "2. **Использование lambda-функций для краткости и удобства:**\n",
    "\n",
    "   При применении метода `.apply()` к столбцам DataFrame (Series), часто возникает ситуация, когда функция, которую вы хотите применить, является **достаточно простой и короткой**.  В таких случаях, определение отдельной именованной функции (как в предыдущем примере с `to_lower_case`) может показаться излишним и загромождать код.\n",
    "\n",
    "   Именно для таких ситуаций в Python существуют **lambda-функции (анонимные функции)**.  Lambda-функции позволяют **определять небольшие, однострочные функции прямо \"на месте\"**, без необходимости давать им имя и использовать ключевое слово `def`.  Это делает код более **компактным, лаконичным и читабельным**, особенно при простых преобразованиях данных.\n",
    "\n",
    "   **Преимущества использования lambda-функций с `.apply()`:**\n",
    "\n",
    "   * **Краткость кода:** Lambda-функции позволяют выразить простую логику преобразования в **одной строке кода**, что уменьшает объем кода и делает его более легким для восприятия.\n",
    "   * **Улучшенная читабельность (в простых случаях):**  Для несложных операций, lambda-функции могут сделать код **более читабельным**, так как логика преобразования находится непосредственно в месте применения `.apply()`, без необходимости переключаться на определение отдельной функции.\n",
    "   * **Удобство \"одноразового\" использования:**  Lambda-функции идеально подходят для функций, которые используются **только один раз** в `.apply()` и больше нигде в коде не применяются.  В этом случае, нет необходимости \"засорять\" пространство имен лишними именованными функциями."
   ]
  },
  {
   "cell_type": "code",
   "execution_count": null,
   "metadata": {},
   "outputs": [
    {
     "name": "stdout",
     "output_type": "stream",
     "text": [
      "\n",
      "Series с длиной ФИО (с lambda-функцией):\n",
      " 0    12\n",
      "1    12\n",
      "2    14\n",
      "3    16\n",
      "Name: ФИО, dtype: int64\n"
     ]
    }
   ],
   "source": [
    "name_length_series_lambda = df['ФИО'].apply(lambda fio: len(fio))\n",
    "\n",
    "print(\"\\nSeries с длиной ФИО (с lambda-функцией):\\n\", name_length_series_lambda) # Результат тот же"
   ]
  },
  {
   "cell_type": "markdown",
   "metadata": {},
   "source": [
    "3. **Применение `.apply()` к DataFrame (к столбцам, `axis=0`):**\n",
    "\n",
    "   Метод `.apply()` также может быть применен **непосредственно к объекту DataFrame** для выполнения операций **над целыми столбцами или строками**.  Когда вы применяете `.apply()` к DataFrame **с параметром `axis=0` (или `axis='index'`, что является значением по умолчанию)**, функция, которую вы передаете в `.apply()`, будет применена **к каждому столбцу DataFrame по отдельности**.\n",
    "\n",
    "   **Как это работает при `axis=0` (по столбцам):**\n",
    "\n",
    "   1. **Вызов `.apply()` для DataFrame:** Вы вызываете метод `.apply()` для DataFrame, указывая функцию, которую хотите применить, и устанавливая `axis=0` (или опуская параметр `axis`, так как 0 является значением по умолчанию). Синтаксис: `df.apply(func, axis=0)`.\n",
    "\n",
    "   2. **Итерация по столбцам:** Pandas **итерируется по каждому столбцу DataFrame**.  Для каждого столбца, Pandas **извлекает его в виде объекта Series** и **передает этот Series в качестве аргумента в функцию `func`**.\n",
    "\n",
    "   3. **Выполнение функции для каждого столбца:** Функция `func` **выполняется для каждого столбца** (Series), который был передан в качестве аргумента.  Функция `func` должна быть написана таким образом, чтобы **принимать на вход объект Series** и **возвращать некоторое скалярное значение или объект Series**.\n",
    "\n",
    "   4. **Сборка результатов в Series или DataFrame:**\n",
    "      * **Если функция `func` возвращает скалярное значение:**  Pandas собирает все скалярные значения, возвращенные функцией `func` для каждого столбца, и формирует из них **новый объект Series**.  В этом Series **индексами будут имена столбцов** исходного DataFrame, а **значениями – результаты применения функции `func` к каждому столбцу**.\n",
    "      * **Если функция `func` возвращает объект Series:** Pandas пытается **объединить** все Series, возвращенные функцией `func` для каждого столбца, в **новый DataFrame**.  В этом случае, каждая возвращенная Series рассматривается как **новый столбец** в результирующем DataFrame.  Однако, этот сценарий менее распространен при `axis=0` и чаще используется при `axis=1`.  Обычно, при `axis=0`, функция `func` возвращает скалярные значения.\n",
    "\n",
    "   5. **Возвращение результата:** Метод `DataFrame.apply(func, axis=0)` **возвращает полученный объект (обычно Series)**, содержащий результаты применения функции `func` к каждому столбцу."
   ]
  },
  {
   "cell_type": "markdown",
   "metadata": {},
   "source": [
    "Допустим, мы хотим найти максимальный возраст в каждом столбце (хотя в нашем DataFrame только один числовой столбец 'Возраст_в_годах', но для примера представим, что их несколько). Мы можем использовать метод .apply() к DataFrame с axis=0:"
   ]
  },
  {
   "cell_type": "code",
   "execution_count": null,
   "metadata": {},
   "outputs": [
    {
     "name": "stdout",
     "output_type": "stream",
     "text": [
      "\n",
      "Series с максимальным возрастом по столбцам:\n",
      " ФИО                 Григорий Соколов\n",
      "Возраст_в_годах                   36\n",
      "Населенный пункт           Петербург\n",
      "dtype: object\n"
     ]
    }
   ],
   "source": [
    "max_age_per_column_series = df.apply(max, axis=0) # Применяем функцию max к каждому столбцу (axis=0)\n",
    "\n",
    "print(\"\\nSeries с максимальным возрастом по столбцам:\\n\", max_age_per_column_series) # Результат - Series с максимальными значениями по столбцам"
   ]
  },
  {
   "cell_type": "markdown",
   "metadata": {},
   "source": [
    "4. **Применение `.apply()` к DataFrame (к строкам, `axis=1`):**\n",
    "\n",
    "   В противоположность применению `.apply()` к столбцам (`axis=0`), установка параметра `axis=1` при вызове `.apply()` для DataFrame приводит к тому, что **функция будет применяться к каждой строке DataFrame**.  Этот режим особенно полезен, когда вам нужно выполнить **операции, зависящие от значений из нескольких столбцов в пределах одной строки**, или когда логика обработки данных различается для разных строк.\n",
    "\n",
    "   **Как это работает при `axis=1` (по строкам):**\n",
    "\n",
    "   1. **Вызов `.apply()` для DataFrame с `axis=1`:** Вы вызываете метод `.apply()` для DataFrame, передавая функцию, которую хотите применить, и **обязательно указывая `axis=1`** (или `axis='columns'`). Синтаксис: `df.apply(func, axis=1)`.\n",
    "\n",
    "   2. **Итерация по строкам:** Pandas **итерируется по каждой строке DataFrame**.  Для каждой строки, Pandas **извлекает ее в виде объекта Series** и **передает этот Series в качестве аргумента в функцию `func`**.  **Важно:** В этом случае, **индексами в Series, представляющем строку, будут имена столбцов DataFrame**, а **значениями – значения соответствующих столбцов для данной строки**.\n",
    "\n",
    "   3. **Выполнение функции для каждой строки:** Функция `func` **выполняется для каждой строки** (Series), полученной на предыдущем шаге.  Функция `func` должна быть написана таким образом, чтобы **принимать на вход объект Series (представляющий строку)** и **возвращать некоторое скалярное значение или объект Series**.\n",
    "\n",
    "   4. **Сборка результатов в Series или DataFrame:**\n",
    "      * **Если функция `func` возвращает скалярное значение:** Pandas собирает все скалярные значения, возвращенные функцией `func` для каждой строки, и формирует из них **новый объект Series**.  В этом Series **индексами будут индексы строк** исходного DataFrame, а **значениями – результаты применения функции `func` к каждой строке**.\n",
    "      * **Если функция `func` возвращает объект Series:** Pandas пытается **объединить** все Series, возвращенные функцией `func` для каждой строки, в **новый DataFrame**.  В этом случае, каждая возвращенная Series рассматривается как **новая строка** в результирующем DataFrame.  Этот сценарий позволяет создавать DataFrame, где каждая строка формируется на основе обработки соответствующей строки исходного DataFrame.\n",
    "\n",
    "   5. **Возвращение результата:** Метод `DataFrame.apply(func, axis=1)` **возвращает полученный объект (обычно Series)**, содержащий результаты применения функции `func` к каждой строке."
   ]
  },
  {
   "cell_type": "code",
   "execution_count": null,
   "metadata": {},
   "outputs": [
    {
     "name": "stdout",
     "output_type": "stream",
     "text": [
      "DataFrame с новым столбцом 'Информация':\n"
     ]
    },
    {
     "data": {
      "text/html": [
       "<div>\n",
       "<style scoped>\n",
       "    .dataframe tbody tr th:only-of-type {\n",
       "        vertical-align: middle;\n",
       "    }\n",
       "\n",
       "    .dataframe tbody tr th {\n",
       "        vertical-align: top;\n",
       "    }\n",
       "\n",
       "    .dataframe thead th {\n",
       "        text-align: right;\n",
       "    }\n",
       "</style>\n",
       "<table border=\"1\" class=\"dataframe\">\n",
       "  <thead>\n",
       "    <tr style=\"text-align: right;\">\n",
       "      <th></th>\n",
       "      <th>ФИО</th>\n",
       "      <th>Возраст_в_годах</th>\n",
       "      <th>Населенный пункт</th>\n",
       "      <th>Информация</th>\n",
       "    </tr>\n",
       "  </thead>\n",
       "  <tbody>\n",
       "    <tr>\n",
       "      <th>0</th>\n",
       "      <td>Анна Иванова</td>\n",
       "      <td>26</td>\n",
       "      <td>Москва</td>\n",
       "      <td>ФИО: Анна Иванова, Возраст: 26</td>\n",
       "    </tr>\n",
       "    <tr>\n",
       "      <th>1</th>\n",
       "      <td>Борис Петров</td>\n",
       "      <td>31</td>\n",
       "      <td>Петербург</td>\n",
       "      <td>ФИО: Борис Петров, Возраст: 31</td>\n",
       "    </tr>\n",
       "    <tr>\n",
       "      <th>2</th>\n",
       "      <td>Виктор Смирнов</td>\n",
       "      <td>29</td>\n",
       "      <td>Казань</td>\n",
       "      <td>ФИО: Виктор Смирнов, Возраст: 29</td>\n",
       "    </tr>\n",
       "    <tr>\n",
       "      <th>3</th>\n",
       "      <td>Григорий Соколов</td>\n",
       "      <td>36</td>\n",
       "      <td>Москва</td>\n",
       "      <td>ФИО: Григорий Соколов, Возраст: 36</td>\n",
       "    </tr>\n",
       "  </tbody>\n",
       "</table>\n",
       "</div>"
      ],
      "text/plain": [
       "                ФИО  Возраст_в_годах Населенный пункт  \\\n",
       "0      Анна Иванова               26           Москва   \n",
       "1      Борис Петров               31        Петербург   \n",
       "2    Виктор Смирнов               29           Казань   \n",
       "3  Григорий Соколов               36           Москва   \n",
       "\n",
       "                           Информация  \n",
       "0      ФИО: Анна Иванова, Возраст: 26  \n",
       "1      ФИО: Борис Петров, Возраст: 31  \n",
       "2    ФИО: Виктор Смирнов, Возраст: 29  \n",
       "3  ФИО: Григорий Соколов, Возраст: 36  "
      ]
     },
     "metadata": {},
     "output_type": "display_data"
    }
   ],
   "source": [
    "def create_info_string(row):\n",
    "    return f'ФИО: {row['ФИО']}, Возраст: {row['Возраст_в_годах']}'\n",
    "\n",
    "info_column_series = df.apply(create_info_string, axis=1) # Применяем функцию create_info_string к каждой строке (axis=1)\n",
    "df['Информация'] = info_column_series # Добавляем полученную Series как новый столбец 'Информация' в DataFrame\n",
    "\n",
    "print(\"DataFrame с новым столбцом 'Информация':\")\n",
    "display(df)"
   ]
  },
  {
   "cell_type": "markdown",
   "metadata": {},
   "source": [
    "---"
   ]
  },
  {
   "cell_type": "markdown",
   "metadata": {},
   "source": [
    "### Сортировка DataFrame"
   ]
  },
  {
   "cell_type": "markdown",
   "metadata": {},
   "source": [
    "Сортировка DataFrame – это важная операция в Pandas, представляющая собой процесс **упорядочивания строк DataFrame** на основе значений **одного или нескольких столбцов**, или же **по значениям индекса**.  Сортировка данных является крайне полезным инструментом, когда вам необходимо:\n",
    "\n",
    "* **Организовать данные для лучшего визуального восприятия и понимания:**  Отсортированные данные становятся **более наглядными и легкими для анализа человеком**.  Например, отсортированный список клиентов по имени или дате регистрации позволяет быстрее ориентироваться в данных и находить нужную информацию.\n",
    "\n",
    "* **Упростить поиск минимальных и максимальных значений:**  После сортировки DataFrame по определенному столбцу, **нахождение строк с наименьшими или наибольшими значениями становится тривиальной задачей**.  Первые строки отсортированного DataFrame будут содержать минимальные значения, а последние строки – максимальные (при сортировке по возрастанию, и наоборот при сортировке по убыванию).\n",
    "\n",
    "* **Подготовить данные для последующего анализа или визуализации:**  **Многие аналитические и визуализационные методы требуют, чтобы данные были отсортированы** в определенном порядке.  Сортировка DataFrame обеспечивает необходимую подготовку данных для корректного применения таких методов и получения значимых результатов.\n",
    "\n",
    "### Основные методы сортировки в Pandas:\n",
    "\n",
    "Pandas предлагает два основных метода для сортировки DataFrame: `.sort_values()` и `.sort_index()`, каждый из которых предназначен для решения определенных задач.\n",
    "\n",
    "* **`.sort_values(by, axis=0, ascending=True, inplace=False, na_position='last', ignore_index=False, key=None)`: Сортировка DataFrame по значениям столбцов.**\n",
    "\n",
    "   Метод `.sort_values()` является **основным методом для сортировки DataFrame по значениям одного или нескольких столбцов**.  Он предоставляет широкий набор параметров для настройки процесса сортировки.\n",
    "\n",
    "   * **`by`**: **Столбец или список столбцов для сортировки.**  Этот параметр является **обязательным** и определяет, **по каким столбцам будет выполняться сортировка**.\n",
    "      * **Строка (имя столбца):**  Если `by` - это **строка**, то DataFrame будет отсортирован **по значениям указанного столбца**.\n",
    "      * **Список строк (список имен столбцов):**  Если `by` - это **список строк**, то DataFrame будет отсортирован **лексикографически (или многоуровнево)**.  Сортировка будет выполняться **сначала по первому столбцу в списке**, затем, **для строк с одинаковыми значениями в первом столбце, будет применяться сортировка по второму столбцу в списке**, и так далее.  Такой подход позволяет задать **приоритет столбцов** при сортировке.\n",
    "\n",
    "   * **`axis=0`**: **Ось сортировки.**  Этот параметр определяет, **что именно нужно сортировать**:\n",
    "      * **`axis=0` (или `axis='index'`):** **Сортировать строки** (по умолчанию).  В этом случае, порядок строк в DataFrame будет изменен в соответствии со значениями в указанных столбцах.\n",
    "      * **`axis=1` (или `axis='columns'`):** **Сортировать столбцы** (редко используется).  В этом случае, порядок столбцов в DataFrame будет изменен на основе значений в указанных строках (что обычно не имеет большого смысла для DataFrame с разнородными данными).\n",
    "\n",
    "   * **`ascending=True`**: **Направление сортировки.**  Этот параметр определяет, в каком порядке будут отсортированы значения:\n",
    "      * **`ascending=True` (по умолчанию):** **Сортировать по возрастанию** (от меньшего к большему).\n",
    "      * **`ascending=False`**: **Сортировать по убыванию** (от большего к меньшему).\n",
    "\n",
    "   * **`inplace=False`**: **Изменение исходного DataFrame.**  Этот параметр определяет, будет ли метод `.sort_values()` изменять исходный DataFrame или возвращать новый отсортированный DataFrame:\n",
    "      * **`inplace=False` (по умолчанию):** **Вернуть новый отсортированный DataFrame**.  Исходный DataFrame остается **неизменным**.\n",
    "      * **`inplace=True`**: **Изменить исходный DataFrame \"на месте\"** (без возвращения нового DataFrame).  **Рекомендуется избегать использования `inplace=True`** и работать с новыми DataFrame, чтобы **не изменять исходные данные случайно** и следовать принципам функционального программирования.\n",
    "\n",
    "   * **`na_position='last'`**: **Положение пропущенных значений (NaN).**  Этот параметр определяет, где будут располагаться строки с пропущенными значениями в столбцах сортировки:\n",
    "      * **`na_position='last'` (по умолчанию):** **Пропущенные значения (NaN) помещаются в конец** отсортированного DataFrame.\n",
    "      * **`na_position='first'`**: **Пропущенные значения (NaN) помещаются в начало** отсортированного DataFrame.\n",
    "\n",
    "   * **`ignore_index=False`**: **Сброс индекса после сортировки.**\n",
    "      * **`ignore_index=False` (по умолчанию):** **Сохранить исходный индекс**. После сортировки индекс DataFrame может стать не последовательным, отражая исходные позиции строк.\n",
    "      * **`ignore_index=True`**: **Пересоздать индекс, сделав его последовательным от 0 до n-1**.  Это может быть полезно, если после сортировки вам нужен DataFrame с \"чистым\" числовым индексом.\n",
    "\n",
    "   * **`key=None`**: **Функция для применения к значениям перед сортировкой.**\n",
    "      * **`key=None` (по умолчанию):** **Сортировать напрямую по значениям столбцов**.\n",
    "      * **`key=callable` (функция):**  Позволяет **применить пользовательскую функцию к значениям столбца перед сортировкой**.  Например, можно использовать `key=str.lower` для сортировки строк без учета регистра.  Функция `key` должна быть векторизованной и применяться к Series.\n",
    "\n",
    "* **`.sort_index(axis=0, ascending=True, inplace=False, na_position='last', ignore_index=False, sort_remaining=True)`: Сортировка DataFrame по индексу.**\n",
    "\n",
    "   Метод `.sort_index()` предназначен для **сортировки DataFrame по значениям его индекса (меток строк)**.  Этот метод полезен, когда индекс DataFrame имеет какой-то логический порядок (например, даты, временные метки, алфавитный порядок) и вы хотите упорядочить DataFrame в соответствии с этим порядком индекса.\n",
    "\n",
    "   * **Параметры `axis`, `ascending`, `inplace`, `na_position`, `ignore_index`:**  **Работают аналогично параметрам метода `.sort_values()`**, но в контексте **сортировки по значениям индекса**, а не по значениям столбцов.  Например, `axis=0` означает сортировку строк (что является единственным осмысленным вариантом для `.sort_index()`), `ascending=True` - сортировку индекса по возрастанию, `inplace=True` - изменение DataFrame \"на месте\", и `na_position` - положение пропущенных значений в индексе (если таковые имеются, хотя пропущенные значения в индексе встречаются редко).\n",
    "\n",
    "   * **`sort_remaining=True`**: **Сортировка по столбцам при многоуровневом индексе.**  Этот параметр актуален **только для DataFrame с MultiIndex (многоуровневым индексом)**.  Если `sort_remaining=True` (по умолчанию), то при сортировке по уровням индекса, **строки также будут отсортированы по значениям столбцов в пределах каждого уровня индекса**.  Если `sort_remaining=False`, то сортировка будет выполняться только по уровням индекса, а порядок строк внутри каждого уровня индекса может быть произвольным.\n",
    "\n",
    "   **Важно:  Рекомендации по использованию `inplace=True` при сортировке:**\n",
    "\n",
    "   Как и в случае с методом `.rename()`, метод `.sort_values()` и `.sort_index()` **по умолчанию не изменяют исходный DataFrame**, а **возвращают новый отсортированный DataFrame**.  Использование параметра `inplace=True` для изменения DataFrame \"на месте\" **не рекомендуется в большинстве случаев**, по тем же причинам, что и для `.rename()`:\n",
    "\n",
    "   * **Риск случайного изменения данных:**  `inplace=True` **модифицирует исходный DataFrame**, что может привести к нежелательным последствиям, особенно в сложных скриптах или интерактивных сессиях, если вы случайно перезапишете DataFrame, который хотели сохранить в исходном виде.\n",
    "   * **Нарушение принципов функционального стиля:**  Функциональный стиль программирования, которого рекомендуется придерживаться при работе с Pandas, предполагает, что функции должны **возвращать новые объекты, не изменяя исходные данные**.  Использование `inplace=True` **противоречит этому принципу**.\n",
    "   * **Осложнение отладки и отмены изменений:**  При использовании `inplace=True`, **отследить изменения DataFrame и отменить их становится сложнее**.  Работа с новыми DataFrame, напротив, позволяет **легко вернуться к предыдущему состоянию данных**, если это необходимо.\n",
    "\n",
    "   **Поэтому, в большинстве ситуаций, лучше использовать методы `.sort_values()` и `.sort_index()` без параметра `inplace=True` и присваивать результат сортировки новой переменной**, чтобы сохранить исходный DataFrame и сделать код более безопасным, предсказуемым и читабельным."
   ]
  },
  {
   "cell_type": "code",
   "execution_count": null,
   "metadata": {},
   "outputs": [],
   "source": [
    "df = pd.DataFrame(data)"
   ]
  },
  {
   "cell_type": "markdown",
   "metadata": {},
   "source": [
    "1. **Сортировка по одному столбцу:**\n",
    "\n",
    "   Самый простой и распространенный вариант сортировки – это **упорядочивание DataFrame по значениям только одного столбца**.  Для этого вам потребуется использовать метод `.sort_values()` и указать **имя столбца в качестве значения параметра `by`**.\n",
    "\n",
    "   **Как это работает:**\n",
    "\n",
    "   1. **Выбор столбца для сортировки:**  Вы определяете, **какой столбец** будет использоваться в качестве **основы для сортировки**.  Например, если вы хотите отсортировать DataFrame по возрасту, то столбцом для сортировки будет 'Возраст'.\n",
    "\n",
    "   2. **Вызов `.sort_values()` с параметром `by`:**  Вы вызываете метод `.sort_values()` для вашего DataFrame и **передаете имя выбранного столбца в качестве строки аргументу `by`**.  Например, `df.sort_values(by='Возраст')` отсортирует DataFrame `df` по значениям столбца 'Возраст'.\n",
    "\n",
    "   3. **Сортировка строк на основе значений столбца:** Pandas **упорядочивает строки DataFrame**, **основываясь на значениях в указанном столбце**.  По умолчанию, метод `.sort_values()` выполняет **сортировку по возрастанию** (от меньшего к большему значению).\n",
    "\n",
    "   4. **Возвращение нового отсортированного DataFrame:** Метод `.sort_values()` **возвращает новый DataFrame**, в котором строки отсортированы в соответствии со значениями в указанном столбце. **Исходный DataFrame при этом остается неизменным**."
   ]
  },
  {
   "cell_type": "code",
   "execution_count": null,
   "metadata": {},
   "outputs": [
    {
     "name": "stdout",
     "output_type": "stream",
     "text": [
      "\n",
      "DataFrame, отсортированный по 'ФИО' (по возрастанию):\n"
     ]
    },
    {
     "data": {
      "text/html": [
       "<div>\n",
       "<style scoped>\n",
       "    .dataframe tbody tr th:only-of-type {\n",
       "        vertical-align: middle;\n",
       "    }\n",
       "\n",
       "    .dataframe tbody tr th {\n",
       "        vertical-align: top;\n",
       "    }\n",
       "\n",
       "    .dataframe thead th {\n",
       "        text-align: right;\n",
       "    }\n",
       "</style>\n",
       "<table border=\"1\" class=\"dataframe\">\n",
       "  <thead>\n",
       "    <tr style=\"text-align: right;\">\n",
       "      <th></th>\n",
       "      <th>ФИО</th>\n",
       "      <th>Возраст_в_годах</th>\n",
       "      <th>Населенный пункт</th>\n",
       "    </tr>\n",
       "  </thead>\n",
       "  <tbody>\n",
       "    <tr>\n",
       "      <th>0</th>\n",
       "      <td>Анна Иванова</td>\n",
       "      <td>26</td>\n",
       "      <td>Москва</td>\n",
       "    </tr>\n",
       "    <tr>\n",
       "      <th>1</th>\n",
       "      <td>Борис Петров</td>\n",
       "      <td>31</td>\n",
       "      <td>Петербург</td>\n",
       "    </tr>\n",
       "    <tr>\n",
       "      <th>2</th>\n",
       "      <td>Виктор Смирнов</td>\n",
       "      <td>29</td>\n",
       "      <td>Казань</td>\n",
       "    </tr>\n",
       "    <tr>\n",
       "      <th>3</th>\n",
       "      <td>Григорий Соколов</td>\n",
       "      <td>36</td>\n",
       "      <td>Москва</td>\n",
       "    </tr>\n",
       "  </tbody>\n",
       "</table>\n",
       "</div>"
      ],
      "text/plain": [
       "                ФИО  Возраст_в_годах Населенный пункт\n",
       "0      Анна Иванова               26           Москва\n",
       "1      Борис Петров               31        Петербург\n",
       "2    Виктор Смирнов               29           Казань\n",
       "3  Григорий Соколов               36           Москва"
      ]
     },
     "metadata": {},
     "output_type": "display_data"
    },
    {
     "name": "stdout",
     "output_type": "stream",
     "text": [
      "\n",
      "Исходный DataFrame (df) - не изменился:\n"
     ]
    },
    {
     "data": {
      "text/html": [
       "<div>\n",
       "<style scoped>\n",
       "    .dataframe tbody tr th:only-of-type {\n",
       "        vertical-align: middle;\n",
       "    }\n",
       "\n",
       "    .dataframe tbody tr th {\n",
       "        vertical-align: top;\n",
       "    }\n",
       "\n",
       "    .dataframe thead th {\n",
       "        text-align: right;\n",
       "    }\n",
       "</style>\n",
       "<table border=\"1\" class=\"dataframe\">\n",
       "  <thead>\n",
       "    <tr style=\"text-align: right;\">\n",
       "      <th></th>\n",
       "      <th>ФИО</th>\n",
       "      <th>Возраст_в_годах</th>\n",
       "      <th>Населенный пункт</th>\n",
       "    </tr>\n",
       "  </thead>\n",
       "  <tbody>\n",
       "    <tr>\n",
       "      <th>0</th>\n",
       "      <td>Анна Иванова</td>\n",
       "      <td>26</td>\n",
       "      <td>Москва</td>\n",
       "    </tr>\n",
       "    <tr>\n",
       "      <th>1</th>\n",
       "      <td>Борис Петров</td>\n",
       "      <td>31</td>\n",
       "      <td>Петербург</td>\n",
       "    </tr>\n",
       "    <tr>\n",
       "      <th>2</th>\n",
       "      <td>Виктор Смирнов</td>\n",
       "      <td>29</td>\n",
       "      <td>Казань</td>\n",
       "    </tr>\n",
       "    <tr>\n",
       "      <th>3</th>\n",
       "      <td>Григорий Соколов</td>\n",
       "      <td>36</td>\n",
       "      <td>Москва</td>\n",
       "    </tr>\n",
       "  </tbody>\n",
       "</table>\n",
       "</div>"
      ],
      "text/plain": [
       "                ФИО  Возраст_в_годах Населенный пункт\n",
       "0      Анна Иванова               26           Москва\n",
       "1      Борис Петров               31        Петербург\n",
       "2    Виктор Смирнов               29           Казань\n",
       "3  Григорий Соколов               36           Москва"
      ]
     },
     "metadata": {},
     "output_type": "display_data"
    }
   ],
   "source": [
    "df_sorted_by_fio = df.sort_values(by='ФИО') # Сортируем по столбцу 'ФИО' (по умолчанию ascending=True)\n",
    "\n",
    "print(\"\\nDataFrame, отсортированный по 'ФИО' (по возрастанию):\")\n",
    "display(df_sorted_by_fio)\n",
    "print(\"\\nИсходный DataFrame (df) - не изменился:\") # Исходный DataFrame df остался в исходном порядке\n",
    "display(df)"
   ]
  },
  {
   "cell_type": "markdown",
   "metadata": {},
   "source": [
    "2. **Сортировка по нескольким столбцам (многоуровневая сортировка):**\n",
    "\n",
    "   Часто возникает необходимость в более сложной сортировке, когда **упорядочивание данных по одному столбцу недостаточно**, и требуется учитывать значения **нескольких столбцов одновременно**.  В таких случаях, Pandas позволяет выполнить **сортировку по нескольким столбцам**, задавая **приоритет столбцов** при упорядочивании.\n",
    "\n",
    "   **Принцип многоуровневой сортировки:**\n",
    "\n",
    "   При сортировке по нескольким столбцам, Pandas применяет **лексикографический порядок сортировки**.  Это означает, что строки DataFrame упорядочиваются следующим образом:\n",
    "\n",
    "   1. **Первичная сортировка по первому указанному столбцу:** DataFrame сначала сортируется **по значениям первого столбца**, указанного в списке `by`.\n",
    "\n",
    "   2. **Вторичная сортировка по второму указанному столбцу (для строк с одинаковыми значениями в первом столбце):**  Для тех строк, которые имеют **одинаковые значения в первом столбце**, применяется **вторичная сортировка по значениям второго столбца**, указанного в списке `by`.\n",
    "\n",
    "   3. **Дальнейшая сортировка по последующим столбцам (при необходимости):**  Этот процесс **продолжается для всех последующих столбцов в списке `by`**.  Если строки имеют одинаковые значения во всех предыдущих столбцах из списка `by`, то порядок этих строк определяется на основе значений следующего столбца в списке, и так далее.\n",
    "\n",
    "   **Как выполнить сортировку по нескольким столбцам:**\n",
    "\n",
    "   Для сортировки DataFrame по нескольким столбцам, вам необходимо **передать список имен столбцов в качестве значения параметра `by`** метода `.sort_values()`.  **Порядок имен столбцов в списке `by` определяет приоритет сортировки**: первый столбец в списке имеет наивысший приоритет, второй – следующий по приоритету, и так далее."
   ]
  },
  {
   "cell_type": "code",
   "execution_count": null,
   "metadata": {},
   "outputs": [
    {
     "name": "stdout",
     "output_type": "stream",
     "text": [
      "\n",
      "DataFrame, отсортированный по 'Населенный пункт' и 'Возраст_в_годах':\n"
     ]
    },
    {
     "data": {
      "text/html": [
       "<div>\n",
       "<style scoped>\n",
       "    .dataframe tbody tr th:only-of-type {\n",
       "        vertical-align: middle;\n",
       "    }\n",
       "\n",
       "    .dataframe tbody tr th {\n",
       "        vertical-align: top;\n",
       "    }\n",
       "\n",
       "    .dataframe thead th {\n",
       "        text-align: right;\n",
       "    }\n",
       "</style>\n",
       "<table border=\"1\" class=\"dataframe\">\n",
       "  <thead>\n",
       "    <tr style=\"text-align: right;\">\n",
       "      <th></th>\n",
       "      <th>ФИО</th>\n",
       "      <th>Возраст_в_годах</th>\n",
       "      <th>Населенный пункт</th>\n",
       "    </tr>\n",
       "  </thead>\n",
       "  <tbody>\n",
       "    <tr>\n",
       "      <th>2</th>\n",
       "      <td>Виктор Смирнов</td>\n",
       "      <td>29</td>\n",
       "      <td>Казань</td>\n",
       "    </tr>\n",
       "    <tr>\n",
       "      <th>0</th>\n",
       "      <td>Анна Иванова</td>\n",
       "      <td>26</td>\n",
       "      <td>Москва</td>\n",
       "    </tr>\n",
       "    <tr>\n",
       "      <th>3</th>\n",
       "      <td>Григорий Соколов</td>\n",
       "      <td>36</td>\n",
       "      <td>Москва</td>\n",
       "    </tr>\n",
       "    <tr>\n",
       "      <th>1</th>\n",
       "      <td>Борис Петров</td>\n",
       "      <td>31</td>\n",
       "      <td>Петербург</td>\n",
       "    </tr>\n",
       "  </tbody>\n",
       "</table>\n",
       "</div>"
      ],
      "text/plain": [
       "                ФИО  Возраст_в_годах Населенный пункт\n",
       "2    Виктор Смирнов               29           Казань\n",
       "0      Анна Иванова               26           Москва\n",
       "3  Григорий Соколов               36           Москва\n",
       "1      Борис Петров               31        Петербург"
      ]
     },
     "metadata": {},
     "output_type": "display_data"
    }
   ],
   "source": [
    "df_sorted_by_city_age = df.sort_values(by=['Населенный пункт', 'Возраст_в_годах']) # Сортируем по 'Населенный пункт', потом по 'Возраст_в_годах'\n",
    "\n",
    "print(\"\\nDataFrame, отсортированный по 'Населенный пункт' и 'Возраст_в_годах':\")\n",
    "display(df_sorted_by_city_age)"
   ]
  },
  {
   "cell_type": "markdown",
   "metadata": {},
   "source": [
    "3. **Сортировка по индексу (по возрастанию):**\n",
    "\n",
    "   В Pandas DataFrame, помимо сортировки по значениям столбцов, также возможно **упорядочить строки DataFrame на основе значений их индекса (меток строк)**.  Сортировка по индексу бывает полезна в различных ситуациях, особенно когда **индекс DataFrame имеет смысловую нагрузку**, например:\n",
    "\n",
    "   * **Временные ряды (Time Series Data):** Если индекс DataFrame представляет собой **даты или временные метки**, сортировка по индексу позволяет упорядочить данные **в хронологическом порядке**.\n",
    "   * **Иерархические данные (Hierarchical Data):**  Если индекс DataFrame является **многоуровневым (MultiIndex)**, сортировка по индексу может упорядочить данные **по уровням иерархии**.\n",
    "   * **Категориальные индексы (Categorical Indexes):**  Если индекс DataFrame представляет собой **категории в определенном порядке**, сортировка по индексу позволяет упорядочить данные **в соответствии с порядком категорий**.\n",
    "\n",
    "   Для выполнения сортировки DataFrame **по индексу** используется метод `.sort_index()`.  По умолчанию, `.sort_index()` сортирует индекс **по возрастанию**.\n",
    "\n",
    "   **Как выполнить сортировку по индексу (по возрастанию):**\n",
    "\n",
    "   1. **Вызов `.sort_index()` без параметров (или с `ascending=True`):**  Для выполнения сортировки по индексу по возрастанию, вам достаточно вызвать метод `.sort_index()` для вашего DataFrame **без указания дополнительных параметров**, либо явно указав параметр `ascending=True`.  Синтаксис: `df.sort_index()` или `df.sort_index(ascending=True)`.\n",
    "\n",
    "   2. **Сортировка строк на основе значений индекса:** Pandas **упорядочивает строки DataFrame**, **основываясь на значениях индекса**.  По умолчанию, метод `.sort_index()` выполняет **сортировку индекса по возрастанию** (в алфавитном порядке для строковых индексов, в числовом порядке для числовых индексов, и в хронологическом порядке для индексов дат).\n",
    "\n",
    "   3. **Возвращение нового отсортированного DataFrame:** Метод `.sort_index()` **возвращает новый DataFrame**, в котором строки отсортированы в соответствии со значениями индекса. **Исходный DataFrame при этом остается неизменным**."
   ]
  },
  {
   "cell_type": "code",
   "execution_count": null,
   "metadata": {},
   "outputs": [
    {
     "name": "stdout",
     "output_type": "stream",
     "text": [
      "\n",
      "DataFrame, отсортированный по индексу (по возрастанию):\n"
     ]
    },
    {
     "data": {
      "text/html": [
       "<div>\n",
       "<style scoped>\n",
       "    .dataframe tbody tr th:only-of-type {\n",
       "        vertical-align: middle;\n",
       "    }\n",
       "\n",
       "    .dataframe tbody tr th {\n",
       "        vertical-align: top;\n",
       "    }\n",
       "\n",
       "    .dataframe thead th {\n",
       "        text-align: right;\n",
       "    }\n",
       "</style>\n",
       "<table border=\"1\" class=\"dataframe\">\n",
       "  <thead>\n",
       "    <tr style=\"text-align: right;\">\n",
       "      <th></th>\n",
       "      <th>ФИО</th>\n",
       "      <th>Возраст_в_годах</th>\n",
       "      <th>Населенный пункт</th>\n",
       "    </tr>\n",
       "  </thead>\n",
       "  <tbody>\n",
       "    <tr>\n",
       "      <th>0</th>\n",
       "      <td>Анна Иванова</td>\n",
       "      <td>26</td>\n",
       "      <td>Москва</td>\n",
       "    </tr>\n",
       "    <tr>\n",
       "      <th>1</th>\n",
       "      <td>Борис Петров</td>\n",
       "      <td>31</td>\n",
       "      <td>Петербург</td>\n",
       "    </tr>\n",
       "    <tr>\n",
       "      <th>2</th>\n",
       "      <td>Виктор Смирнов</td>\n",
       "      <td>29</td>\n",
       "      <td>Казань</td>\n",
       "    </tr>\n",
       "    <tr>\n",
       "      <th>3</th>\n",
       "      <td>Григорий Соколов</td>\n",
       "      <td>36</td>\n",
       "      <td>Москва</td>\n",
       "    </tr>\n",
       "  </tbody>\n",
       "</table>\n",
       "</div>"
      ],
      "text/plain": [
       "                ФИО  Возраст_в_годах Населенный пункт\n",
       "0      Анна Иванова               26           Москва\n",
       "1      Борис Петров               31        Петербург\n",
       "2    Виктор Смирнов               29           Казань\n",
       "3  Григорий Соколов               36           Москва"
      ]
     },
     "metadata": {},
     "output_type": "display_data"
    }
   ],
   "source": [
    "df_sorted_by_index = df.sort_index() # Сортируем по индексу (по умолчанию axis=0, ascending=True)\n",
    "\n",
    "print(\"\\nDataFrame, отсортированный по индексу (по возрастанию):\") \n",
    "display(df_sorted_by_index) # В данном случае порядок строк не изменится"
   ]
  },
  {
   "cell_type": "markdown",
   "metadata": {},
   "source": [
    "---"
   ]
  },
  {
   "cell_type": "markdown",
   "metadata": {},
   "source": [
    "Чтение и запись данных:как загружать данные из файлов (CSV, Excel и т.д.) в DataFrame и как сохранять DataFrame обратно в файлы.\n",
    "\n",
    "Более сложные манипуляции:\n",
    "* Группировка и агрегирование данных (groupby)\n",
    "\n",
    "* Объединение нескольких DataFrame (merge, join)\n",
    "\n",
    "* Работа с пропущенными данными (dropna, fillna)\n",
    "\n",
    "* Изменение типа данных столбцов (astype)"
   ]
  }
 ],
 "metadata": {
  "kernelspec": {
   "display_name": "Kospectik",
   "language": "python",
   "name": "python3"
  },
  "language_info": {
   "codemirror_mode": {
    "name": "ipython",
    "version": 3
   },
   "file_extension": ".py",
   "mimetype": "text/x-python",
   "name": "python",
   "nbconvert_exporter": "python",
   "pygments_lexer": "ipython3",
   "version": "3.12.8"
  }
 },
 "nbformat": 4,
 "nbformat_minor": 2
}
