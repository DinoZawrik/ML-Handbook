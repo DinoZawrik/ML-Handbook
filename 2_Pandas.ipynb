{
 "cells": [
  {
   "cell_type": "markdown",
   "metadata": {},
   "source": [
    "### II. Pandas: Основы Работы с Данными\n",
    "\n",
    "**Pandas** — ключевая библиотека Python для **анализа и манипулирования данными**. Основная структура данных — **DataFrame**.\n",
    "\n",
    "*   **DataFrame:** Двумерная табличная структура данных с помеченными осями (строки и столбцы). Похожа на таблицу в Excel или базу данных.\n",
    "*   **Series:** Одномерный помеченный массив данных. По сути, столбец DataFrame."
   ]
  },
  {
   "cell_type": "code",
   "execution_count": 64,
   "metadata": {},
   "outputs": [],
   "source": [
    "import pandas as pd\n",
    "import numpy as np"
   ]
  },
  {
   "cell_type": "markdown",
   "metadata": {},
   "source": [
    "#### II.A. Создание DataFrame\n",
    "\n",
    "1.  **Из словаря Python:** Ключи -> названия столбцов, значения (списки/массивы одинаковой длины) -> данные столбцов."
   ]
  },
  {
   "cell_type": "code",
   "execution_count": 65,
   "metadata": {},
   "outputs": [
    {
     "name": "stdout",
     "output_type": "stream",
     "text": [
      "<class 'pandas.core.frame.DataFrame'>\n"
     ]
    },
    {
     "data": {
      "text/html": [
       "<div>\n",
       "<style scoped>\n",
       "    .dataframe tbody tr th:only-of-type {\n",
       "        vertical-align: middle;\n",
       "    }\n",
       "\n",
       "    .dataframe tbody tr th {\n",
       "        vertical-align: top;\n",
       "    }\n",
       "\n",
       "    .dataframe thead th {\n",
       "        text-align: right;\n",
       "    }\n",
       "</style>\n",
       "<table border=\"1\" class=\"dataframe\">\n",
       "  <thead>\n",
       "    <tr style=\"text-align: right;\">\n",
       "      <th></th>\n",
       "      <th>Имя</th>\n",
       "      <th>Возраст</th>\n",
       "      <th>Город</th>\n",
       "    </tr>\n",
       "  </thead>\n",
       "  <tbody>\n",
       "    <tr>\n",
       "      <th>0</th>\n",
       "      <td>Анна</td>\n",
       "      <td>25</td>\n",
       "      <td>Москва</td>\n",
       "    </tr>\n",
       "    <tr>\n",
       "      <th>1</th>\n",
       "      <td>Борис</td>\n",
       "      <td>30</td>\n",
       "      <td>Петербург</td>\n",
       "    </tr>\n",
       "    <tr>\n",
       "      <th>2</th>\n",
       "      <td>Виктор</td>\n",
       "      <td>28</td>\n",
       "      <td>Казань</td>\n",
       "    </tr>\n",
       "    <tr>\n",
       "      <th>3</th>\n",
       "      <td>Григорий</td>\n",
       "      <td>35</td>\n",
       "      <td>Москва</td>\n",
       "    </tr>\n",
       "  </tbody>\n",
       "</table>\n",
       "</div>"
      ],
      "text/plain": [
       "        Имя  Возраст      Город\n",
       "0      Анна       25     Москва\n",
       "1     Борис       30  Петербург\n",
       "2    Виктор       28     Казань\n",
       "3  Григорий       35     Москва"
      ]
     },
     "metadata": {},
     "output_type": "display_data"
    }
   ],
   "source": [
    "data = {'Имя': ['Анна', 'Борис', 'Виктор', 'Григорий'],\n",
    "        'Возраст': [25, 30, 28, 35],\n",
    "        'Город': ['Москва', 'Петербург', 'Казань', 'Москва']}\n",
    "df = pd.DataFrame(data)\n",
    "print(type(df)) # <class 'pandas.core.frame.DataFrame'>\n",
    "display(df)"
   ]
  },
  {
   "cell_type": "markdown",
   "metadata": {},
   "source": [
    "2.  **Из списка списков:** Каждый внутренний список — строка DataFrame. Названия столбцов задаются отдельно через параметр `columns`."
   ]
  },
  {
   "cell_type": "code",
   "execution_count": 66,
   "metadata": {},
   "outputs": [
    {
     "data": {
      "text/html": [
       "<div>\n",
       "<style scoped>\n",
       "    .dataframe tbody tr th:only-of-type {\n",
       "        vertical-align: middle;\n",
       "    }\n",
       "\n",
       "    .dataframe tbody tr th {\n",
       "        vertical-align: top;\n",
       "    }\n",
       "\n",
       "    .dataframe thead th {\n",
       "        text-align: right;\n",
       "    }\n",
       "</style>\n",
       "<table border=\"1\" class=\"dataframe\">\n",
       "  <thead>\n",
       "    <tr style=\"text-align: right;\">\n",
       "      <th></th>\n",
       "      <th>Имя</th>\n",
       "      <th>Возраст</th>\n",
       "      <th>Город</th>\n",
       "    </tr>\n",
       "  </thead>\n",
       "  <tbody>\n",
       "    <tr>\n",
       "      <th>0</th>\n",
       "      <td>Елена</td>\n",
       "      <td>22</td>\n",
       "      <td>Самара</td>\n",
       "    </tr>\n",
       "    <tr>\n",
       "      <th>1</th>\n",
       "      <td>Иван</td>\n",
       "      <td>31</td>\n",
       "      <td>Владивосток</td>\n",
       "    </tr>\n",
       "  </tbody>\n",
       "</table>\n",
       "</div>"
      ],
      "text/plain": [
       "     Имя  Возраст        Город\n",
       "0  Елена       22       Самара\n",
       "1   Иван       31  Владивосток"
      ]
     },
     "metadata": {},
     "output_type": "display_data"
    }
   ],
   "source": [
    "data_list = [['Елена', 22, 'Самара'], ['Иван', 31, 'Владивосток']]\n",
    "columns = ['Имя', 'Возраст', 'Город']\n",
    "df_list = pd.DataFrame(data_list, columns=columns)\n",
    "display(df_list)"
   ]
  },
  {
   "cell_type": "markdown",
   "metadata": {},
   "source": [
    "3.  **Из массива NumPy:** Передается NumPy массив и список имен столбцов."
   ]
  },
  {
   "cell_type": "code",
   "execution_count": 67,
   "metadata": {},
   "outputs": [
    {
     "data": {
      "text/html": [
       "<div>\n",
       "<style scoped>\n",
       "    .dataframe tbody tr th:only-of-type {\n",
       "        vertical-align: middle;\n",
       "    }\n",
       "\n",
       "    .dataframe tbody tr th {\n",
       "        vertical-align: top;\n",
       "    }\n",
       "\n",
       "    .dataframe thead th {\n",
       "        text-align: right;\n",
       "    }\n",
       "</style>\n",
       "<table border=\"1\" class=\"dataframe\">\n",
       "  <thead>\n",
       "    <tr style=\"text-align: right;\">\n",
       "      <th></th>\n",
       "      <th>Колонка1</th>\n",
       "      <th>Колонка2</th>\n",
       "    </tr>\n",
       "  </thead>\n",
       "  <tbody>\n",
       "    <tr>\n",
       "      <th>0</th>\n",
       "      <td>1</td>\n",
       "      <td>2</td>\n",
       "    </tr>\n",
       "    <tr>\n",
       "      <th>1</th>\n",
       "      <td>4</td>\n",
       "      <td>5</td>\n",
       "    </tr>\n",
       "  </tbody>\n",
       "</table>\n",
       "</div>"
      ],
      "text/plain": [
       "   Колонка1  Колонка2\n",
       "0         1         2\n",
       "1         4         5"
      ]
     },
     "metadata": {},
     "output_type": "display_data"
    }
   ],
   "source": [
    "numpy_array = np.array([[1, 2], [4, 5]])\n",
    "df_numpy = pd.DataFrame(numpy_array, columns=['Колонка1', 'Колонка2'])\n",
    "display(df_numpy)"
   ]
  },
  {
   "cell_type": "markdown",
   "metadata": {},
   "source": [
    "---"
   ]
  },
  {
   "cell_type": "markdown",
   "metadata": {},
   "source": [
    "#### II.B. Основные Операции и Информация о DataFrame\n",
    "\n",
    "1.  **Просмотр данных:**\n",
    "    *   `.head(n=5)`: Показать первые `n` строк.\n",
    "    *   `.tail(n=5)`: Показать последние `n` строк."
   ]
  },
  {
   "cell_type": "code",
   "execution_count": 68,
   "metadata": {},
   "outputs": [
    {
     "data": {
      "text/html": [
       "<div>\n",
       "<style scoped>\n",
       "    .dataframe tbody tr th:only-of-type {\n",
       "        vertical-align: middle;\n",
       "    }\n",
       "\n",
       "    .dataframe tbody tr th {\n",
       "        vertical-align: top;\n",
       "    }\n",
       "\n",
       "    .dataframe thead th {\n",
       "        text-align: right;\n",
       "    }\n",
       "</style>\n",
       "<table border=\"1\" class=\"dataframe\">\n",
       "  <thead>\n",
       "    <tr style=\"text-align: right;\">\n",
       "      <th></th>\n",
       "      <th>Имя</th>\n",
       "      <th>Возраст</th>\n",
       "      <th>Город</th>\n",
       "    </tr>\n",
       "  </thead>\n",
       "  <tbody>\n",
       "    <tr>\n",
       "      <th>0</th>\n",
       "      <td>Анна</td>\n",
       "      <td>25</td>\n",
       "      <td>Москва</td>\n",
       "    </tr>\n",
       "    <tr>\n",
       "      <th>1</th>\n",
       "      <td>Борис</td>\n",
       "      <td>30</td>\n",
       "      <td>Петербург</td>\n",
       "    </tr>\n",
       "  </tbody>\n",
       "</table>\n",
       "</div>"
      ],
      "text/plain": [
       "     Имя  Возраст      Город\n",
       "0   Анна       25     Москва\n",
       "1  Борис       30  Петербург"
      ]
     },
     "metadata": {},
     "output_type": "display_data"
    },
    {
     "data": {
      "text/html": [
       "<div>\n",
       "<style scoped>\n",
       "    .dataframe tbody tr th:only-of-type {\n",
       "        vertical-align: middle;\n",
       "    }\n",
       "\n",
       "    .dataframe tbody tr th {\n",
       "        vertical-align: top;\n",
       "    }\n",
       "\n",
       "    .dataframe thead th {\n",
       "        text-align: right;\n",
       "    }\n",
       "</style>\n",
       "<table border=\"1\" class=\"dataframe\">\n",
       "  <thead>\n",
       "    <tr style=\"text-align: right;\">\n",
       "      <th></th>\n",
       "      <th>Имя</th>\n",
       "      <th>Возраст</th>\n",
       "      <th>Город</th>\n",
       "    </tr>\n",
       "  </thead>\n",
       "  <tbody>\n",
       "    <tr>\n",
       "      <th>3</th>\n",
       "      <td>Григорий</td>\n",
       "      <td>35</td>\n",
       "      <td>Москва</td>\n",
       "    </tr>\n",
       "  </tbody>\n",
       "</table>\n",
       "</div>"
      ],
      "text/plain": [
       "        Имя  Возраст   Город\n",
       "3  Григорий       35  Москва"
      ]
     },
     "metadata": {},
     "output_type": "display_data"
    }
   ],
   "source": [
    "display(df.head(2)) # Первые 2 строки\n",
    "display(df.tail(1)) # Последняя 1 строка"
   ]
  },
  {
   "cell_type": "markdown",
   "metadata": {},
   "source": [
    "2.  **Общая информация (`.info()`):**\n",
    "    *   Выводит сводку: количество строк/столбцов, названия столбцов, типы данных (`dtype`), количество непустых значений (`Non-Null Count`), использование памяти.\n",
    "    *   Полезно для быстрой оценки структуры и наличия пропусков."
   ]
  },
  {
   "cell_type": "code",
   "execution_count": 69,
   "metadata": {},
   "outputs": [
    {
     "name": "stdout",
     "output_type": "stream",
     "text": [
      "<class 'pandas.core.frame.DataFrame'>\n",
      "RangeIndex: 4 entries, 0 to 3\n",
      "Data columns (total 3 columns):\n",
      " #   Column   Non-Null Count  Dtype \n",
      "---  ------   --------------  ----- \n",
      " 0   Имя      4 non-null      object\n",
      " 1   Возраст  4 non-null      int64 \n",
      " 2   Город    4 non-null      object\n",
      "dtypes: int64(1), object(2)\n",
      "memory usage: 224.0+ bytes\n"
     ]
    }
   ],
   "source": [
    "df.info()"
   ]
  },
  {
   "cell_type": "markdown",
   "metadata": {},
   "source": [
    "3.  **Описательная статистика (`.describe()`):**\n",
    "    *   Для **числовых** столбцов (по умолчанию): `count`, `mean`, `std`, `min`, `25%` (Q1), `50%` (медиана), `75%` (Q3), `max`.\n",
    "    *   Для **всех** столбцов (`include='all'`): Добавляет статистику для нечисловых (`object`, `category`) столбцов: `unique` (число уникальных), `top` (самое частое), `freq` (частота самого частого)."
   ]
  },
  {
   "cell_type": "code",
   "execution_count": 70,
   "metadata": {},
   "outputs": [
    {
     "data": {
      "text/html": [
       "<div>\n",
       "<style scoped>\n",
       "    .dataframe tbody tr th:only-of-type {\n",
       "        vertical-align: middle;\n",
       "    }\n",
       "\n",
       "    .dataframe tbody tr th {\n",
       "        vertical-align: top;\n",
       "    }\n",
       "\n",
       "    .dataframe thead th {\n",
       "        text-align: right;\n",
       "    }\n",
       "</style>\n",
       "<table border=\"1\" class=\"dataframe\">\n",
       "  <thead>\n",
       "    <tr style=\"text-align: right;\">\n",
       "      <th></th>\n",
       "      <th>Возраст</th>\n",
       "    </tr>\n",
       "  </thead>\n",
       "  <tbody>\n",
       "    <tr>\n",
       "      <th>count</th>\n",
       "      <td>4.000000</td>\n",
       "    </tr>\n",
       "    <tr>\n",
       "      <th>mean</th>\n",
       "      <td>29.500000</td>\n",
       "    </tr>\n",
       "    <tr>\n",
       "      <th>std</th>\n",
       "      <td>4.203173</td>\n",
       "    </tr>\n",
       "    <tr>\n",
       "      <th>min</th>\n",
       "      <td>25.000000</td>\n",
       "    </tr>\n",
       "    <tr>\n",
       "      <th>25%</th>\n",
       "      <td>27.250000</td>\n",
       "    </tr>\n",
       "    <tr>\n",
       "      <th>50%</th>\n",
       "      <td>29.000000</td>\n",
       "    </tr>\n",
       "    <tr>\n",
       "      <th>75%</th>\n",
       "      <td>31.250000</td>\n",
       "    </tr>\n",
       "    <tr>\n",
       "      <th>max</th>\n",
       "      <td>35.000000</td>\n",
       "    </tr>\n",
       "  </tbody>\n",
       "</table>\n",
       "</div>"
      ],
      "text/plain": [
       "         Возраст\n",
       "count   4.000000\n",
       "mean   29.500000\n",
       "std     4.203173\n",
       "min    25.000000\n",
       "25%    27.250000\n",
       "50%    29.000000\n",
       "75%    31.250000\n",
       "max    35.000000"
      ]
     },
     "metadata": {},
     "output_type": "display_data"
    },
    {
     "data": {
      "text/html": [
       "<div>\n",
       "<style scoped>\n",
       "    .dataframe tbody tr th:only-of-type {\n",
       "        vertical-align: middle;\n",
       "    }\n",
       "\n",
       "    .dataframe tbody tr th {\n",
       "        vertical-align: top;\n",
       "    }\n",
       "\n",
       "    .dataframe thead th {\n",
       "        text-align: right;\n",
       "    }\n",
       "</style>\n",
       "<table border=\"1\" class=\"dataframe\">\n",
       "  <thead>\n",
       "    <tr style=\"text-align: right;\">\n",
       "      <th></th>\n",
       "      <th>Имя</th>\n",
       "      <th>Возраст</th>\n",
       "      <th>Город</th>\n",
       "    </tr>\n",
       "  </thead>\n",
       "  <tbody>\n",
       "    <tr>\n",
       "      <th>count</th>\n",
       "      <td>4</td>\n",
       "      <td>4.000000</td>\n",
       "      <td>4</td>\n",
       "    </tr>\n",
       "    <tr>\n",
       "      <th>unique</th>\n",
       "      <td>4</td>\n",
       "      <td>NaN</td>\n",
       "      <td>3</td>\n",
       "    </tr>\n",
       "    <tr>\n",
       "      <th>top</th>\n",
       "      <td>Анна</td>\n",
       "      <td>NaN</td>\n",
       "      <td>Москва</td>\n",
       "    </tr>\n",
       "    <tr>\n",
       "      <th>freq</th>\n",
       "      <td>1</td>\n",
       "      <td>NaN</td>\n",
       "      <td>2</td>\n",
       "    </tr>\n",
       "    <tr>\n",
       "      <th>mean</th>\n",
       "      <td>NaN</td>\n",
       "      <td>29.500000</td>\n",
       "      <td>NaN</td>\n",
       "    </tr>\n",
       "    <tr>\n",
       "      <th>std</th>\n",
       "      <td>NaN</td>\n",
       "      <td>4.203173</td>\n",
       "      <td>NaN</td>\n",
       "    </tr>\n",
       "    <tr>\n",
       "      <th>min</th>\n",
       "      <td>NaN</td>\n",
       "      <td>25.000000</td>\n",
       "      <td>NaN</td>\n",
       "    </tr>\n",
       "    <tr>\n",
       "      <th>25%</th>\n",
       "      <td>NaN</td>\n",
       "      <td>27.250000</td>\n",
       "      <td>NaN</td>\n",
       "    </tr>\n",
       "    <tr>\n",
       "      <th>50%</th>\n",
       "      <td>NaN</td>\n",
       "      <td>29.000000</td>\n",
       "      <td>NaN</td>\n",
       "    </tr>\n",
       "    <tr>\n",
       "      <th>75%</th>\n",
       "      <td>NaN</td>\n",
       "      <td>31.250000</td>\n",
       "      <td>NaN</td>\n",
       "    </tr>\n",
       "    <tr>\n",
       "      <th>max</th>\n",
       "      <td>NaN</td>\n",
       "      <td>35.000000</td>\n",
       "      <td>NaN</td>\n",
       "    </tr>\n",
       "  </tbody>\n",
       "</table>\n",
       "</div>"
      ],
      "text/plain": [
       "         Имя    Возраст   Город\n",
       "count      4   4.000000       4\n",
       "unique     4        NaN       3\n",
       "top     Анна        NaN  Москва\n",
       "freq       1        NaN       2\n",
       "mean     NaN  29.500000     NaN\n",
       "std      NaN   4.203173     NaN\n",
       "min      NaN  25.000000     NaN\n",
       "25%      NaN  27.250000     NaN\n",
       "50%      NaN  29.000000     NaN\n",
       "75%      NaN  31.250000     NaN\n",
       "max      NaN  35.000000     NaN"
      ]
     },
     "metadata": {},
     "output_type": "display_data"
    }
   ],
   "source": [
    "display(df.describe()) # Только числовые\n",
    "display(df.describe(include='all')) # Все столбцы"
   ]
  },
  {
   "cell_type": "markdown",
   "metadata": {},
   "source": [
    "---"
   ]
  },
  {
   "cell_type": "markdown",
   "metadata": {},
   "source": [
    "#### II.C. Выбор Столбцов и Строк (Индексация)\n",
    "\n",
    "1.  **Выбор Столбцов:**\n",
    "    *   **Один столбец:** `df['Имя_столбца']` или `df.Имя_столбца` (если имя без пробелов/спецсимволов). Возвращает **Pandas Series**."
   ]
  },
  {
   "cell_type": "code",
   "execution_count": 71,
   "metadata": {},
   "outputs": [],
   "source": [
    "ages = df['Возраст'] # Возвращает Series"
   ]
  },
  {
   "cell_type": "markdown",
   "metadata": {},
   "source": [
    "*   **Несколько столбцов:** `df[['Столбец1', 'Столбец2']]`. Передается **список** имен. Возвращает **новый DataFrame**."
   ]
  },
  {
   "cell_type": "code",
   "execution_count": 72,
   "metadata": {},
   "outputs": [],
   "source": [
    "subset_df = df[['Имя', 'Город']] # Возвращает DataFrame"
   ]
  },
  {
   "cell_type": "markdown",
   "metadata": {},
   "source": [
    "2.  **Выбор Строк:**\n",
    "    *   **`.loc[]` (По метке индекса / Label-based):** Выбирает строки по их **меткам** в индексе. **Включает** конечную метку при срезе (`df.loc[1:3]` включает строки с метками 1, 2, 3)."
   ]
  },
  {
   "cell_type": "code",
   "execution_count": 73,
   "metadata": {},
   "outputs": [
    {
     "data": {
      "text/plain": [
       "Имя        Виктор\n",
       "Возраст        28\n",
       "Город      Казань\n",
       "Name: 2, dtype: object"
      ]
     },
     "metadata": {},
     "output_type": "display_data"
    },
    {
     "data": {
      "text/html": [
       "<div>\n",
       "<style scoped>\n",
       "    .dataframe tbody tr th:only-of-type {\n",
       "        vertical-align: middle;\n",
       "    }\n",
       "\n",
       "    .dataframe tbody tr th {\n",
       "        vertical-align: top;\n",
       "    }\n",
       "\n",
       "    .dataframe thead th {\n",
       "        text-align: right;\n",
       "    }\n",
       "</style>\n",
       "<table border=\"1\" class=\"dataframe\">\n",
       "  <thead>\n",
       "    <tr style=\"text-align: right;\">\n",
       "      <th></th>\n",
       "      <th>Имя</th>\n",
       "      <th>Возраст</th>\n",
       "      <th>Город</th>\n",
       "    </tr>\n",
       "  </thead>\n",
       "  <tbody>\n",
       "    <tr>\n",
       "      <th>1</th>\n",
       "      <td>Борис</td>\n",
       "      <td>30</td>\n",
       "      <td>Петербург</td>\n",
       "    </tr>\n",
       "    <tr>\n",
       "      <th>2</th>\n",
       "      <td>Виктор</td>\n",
       "      <td>28</td>\n",
       "      <td>Казань</td>\n",
       "    </tr>\n",
       "    <tr>\n",
       "      <th>3</th>\n",
       "      <td>Григорий</td>\n",
       "      <td>35</td>\n",
       "      <td>Москва</td>\n",
       "    </tr>\n",
       "  </tbody>\n",
       "</table>\n",
       "</div>"
      ],
      "text/plain": [
       "        Имя  Возраст      Город\n",
       "1     Борис       30  Петербург\n",
       "2    Виктор       28     Казань\n",
       "3  Григорий       35     Москва"
      ]
     },
     "metadata": {},
     "output_type": "display_data"
    }
   ],
   "source": [
    "row_label_2 = df.loc[2] # Выбрать строку с меткой индекса 2 (Series)\n",
    "rows_label_1_3 = df.loc[1:3] # Выбрать строки с метками от 1 до 3 (DataFrame)\n",
    "display(row_label_2)\n",
    "display(rows_label_1_3)"
   ]
  },
  {
   "cell_type": "markdown",
   "metadata": {},
   "source": [
    "*   **`.iloc[]` (По целочисленной позиции / Integer-location based):** Выбирает строки по их **порядковому номеру** (начиная с 0). **Не включает** конечную позицию при срезе (`df.iloc[0:3]` включает строки на позициях 0, 1, 2)."
   ]
  },
  {
   "cell_type": "code",
   "execution_count": 74,
   "metadata": {},
   "outputs": [
    {
     "data": {
      "text/plain": [
       "Имя            Борис\n",
       "Возраст           30\n",
       "Город      Петербург\n",
       "Name: 1, dtype: object"
      ]
     },
     "metadata": {},
     "output_type": "display_data"
    },
    {
     "data": {
      "text/html": [
       "<div>\n",
       "<style scoped>\n",
       "    .dataframe tbody tr th:only-of-type {\n",
       "        vertical-align: middle;\n",
       "    }\n",
       "\n",
       "    .dataframe tbody tr th {\n",
       "        vertical-align: top;\n",
       "    }\n",
       "\n",
       "    .dataframe thead th {\n",
       "        text-align: right;\n",
       "    }\n",
       "</style>\n",
       "<table border=\"1\" class=\"dataframe\">\n",
       "  <thead>\n",
       "    <tr style=\"text-align: right;\">\n",
       "      <th></th>\n",
       "      <th>Имя</th>\n",
       "      <th>Возраст</th>\n",
       "      <th>Город</th>\n",
       "    </tr>\n",
       "  </thead>\n",
       "  <tbody>\n",
       "    <tr>\n",
       "      <th>0</th>\n",
       "      <td>Анна</td>\n",
       "      <td>25</td>\n",
       "      <td>Москва</td>\n",
       "    </tr>\n",
       "    <tr>\n",
       "      <th>1</th>\n",
       "      <td>Борис</td>\n",
       "      <td>30</td>\n",
       "      <td>Петербург</td>\n",
       "    </tr>\n",
       "    <tr>\n",
       "      <th>2</th>\n",
       "      <td>Виктор</td>\n",
       "      <td>28</td>\n",
       "      <td>Казань</td>\n",
       "    </tr>\n",
       "  </tbody>\n",
       "</table>\n",
       "</div>"
      ],
      "text/plain": [
       "      Имя  Возраст      Город\n",
       "0    Анна       25     Москва\n",
       "1   Борис       30  Петербург\n",
       "2  Виктор       28     Казань"
      ]
     },
     "metadata": {},
     "output_type": "display_data"
    }
   ],
   "source": [
    "row_pos_1 = df.iloc[1] # Выбрать строку на второй позиции (индекс 1) (Series)\n",
    "rows_pos_0_2 = df.iloc[0:3] # Выбрать строки на позициях 0, 1, 2 (DataFrame)\n",
    "display(row_pos_1)\n",
    "display(rows_pos_0_2)"
   ]
  },
  {
   "cell_type": "markdown",
   "metadata": {},
   "source": [
    "3.  **Выбор строк и столбцов одновременно:**\n",
    "    *   `df.loc[row_labels, column_labels]`\n",
    "    *   `df.iloc[row_positions, column_positions]`"
   ]
  },
  {
   "cell_type": "code",
   "execution_count": 75,
   "metadata": {},
   "outputs": [
    {
     "data": {
      "text/html": [
       "<div>\n",
       "<style scoped>\n",
       "    .dataframe tbody tr th:only-of-type {\n",
       "        vertical-align: middle;\n",
       "    }\n",
       "\n",
       "    .dataframe tbody tr th {\n",
       "        vertical-align: top;\n",
       "    }\n",
       "\n",
       "    .dataframe thead th {\n",
       "        text-align: right;\n",
       "    }\n",
       "</style>\n",
       "<table border=\"1\" class=\"dataframe\">\n",
       "  <thead>\n",
       "    <tr style=\"text-align: right;\">\n",
       "      <th></th>\n",
       "      <th>Имя</th>\n",
       "      <th>Город</th>\n",
       "    </tr>\n",
       "  </thead>\n",
       "  <tbody>\n",
       "    <tr>\n",
       "      <th>1</th>\n",
       "      <td>Борис</td>\n",
       "      <td>Петербург</td>\n",
       "    </tr>\n",
       "    <tr>\n",
       "      <th>3</th>\n",
       "      <td>Григорий</td>\n",
       "      <td>Москва</td>\n",
       "    </tr>\n",
       "  </tbody>\n",
       "</table>\n",
       "</div>"
      ],
      "text/plain": [
       "        Имя      Город\n",
       "1     Борис  Петербург\n",
       "3  Григорий     Москва"
      ]
     },
     "metadata": {},
     "output_type": "display_data"
    },
    {
     "data": {
      "text/html": [
       "<div>\n",
       "<style scoped>\n",
       "    .dataframe tbody tr th:only-of-type {\n",
       "        vertical-align: middle;\n",
       "    }\n",
       "\n",
       "    .dataframe tbody tr th {\n",
       "        vertical-align: top;\n",
       "    }\n",
       "\n",
       "    .dataframe thead th {\n",
       "        text-align: right;\n",
       "    }\n",
       "</style>\n",
       "<table border=\"1\" class=\"dataframe\">\n",
       "  <thead>\n",
       "    <tr style=\"text-align: right;\">\n",
       "      <th></th>\n",
       "      <th>Имя</th>\n",
       "      <th>Город</th>\n",
       "    </tr>\n",
       "  </thead>\n",
       "  <tbody>\n",
       "    <tr>\n",
       "      <th>0</th>\n",
       "      <td>Анна</td>\n",
       "      <td>Москва</td>\n",
       "    </tr>\n",
       "    <tr>\n",
       "      <th>2</th>\n",
       "      <td>Виктор</td>\n",
       "      <td>Казань</td>\n",
       "    </tr>\n",
       "  </tbody>\n",
       "</table>\n",
       "</div>"
      ],
      "text/plain": [
       "      Имя   Город\n",
       "0    Анна  Москва\n",
       "2  Виктор  Казань"
      ]
     },
     "metadata": {},
     "output_type": "display_data"
    }
   ],
   "source": [
    "# Пример: выбрать 'Имя' и 'Город' для строк с метками 1 и 3\n",
    "subset_loc = df.loc[[1, 3], ['Имя', 'Город']]\n",
    "# Пример: выбрать 1-й и 3-й столбцы для 0-й и 2-й строк\n",
    "subset_iloc = df.iloc[[0, 2], [0, 2]]\n",
    "display(subset_loc)\n",
    "display(subset_iloc)"
   ]
  },
  {
   "cell_type": "markdown",
   "metadata": {},
   "source": [
    "#### II.D. Фильтрация Данных (Логическая Индексация)\n",
    "\n",
    "Отбор строк на основе условий с использованием **булевой маски**.\n",
    "\n",
    "1.  **Создание булевой маски:** Применение операторов сравнения (`>`, `<`, `==`, `!=`, `>=` , `<=`) или методов (`.isin()`, `.str.contains()` и др.) к столбцу(ам). Результат — Series из `True`/`False`."
   ]
  },
  {
   "cell_type": "code",
   "execution_count": 76,
   "metadata": {},
   "outputs": [
    {
     "name": "stdout",
     "output_type": "stream",
     "text": [
      "0    False\n",
      "1     True\n",
      "2    False\n",
      "3     True\n",
      "Name: Возраст, dtype: bool\n"
     ]
    }
   ],
   "source": [
    "mask_age = df['Возраст'] > 28 # Маска: Возраст больше 28\n",
    "print(mask_age)"
   ]
  },
  {
   "cell_type": "markdown",
   "metadata": {},
   "source": [
    "2.  **Применение маски:** Передача маски в квадратные скобки `[]` DataFrame. Возвращает **новый DataFrame** с отфильтрованными строками."
   ]
  },
  {
   "cell_type": "code",
   "execution_count": 77,
   "metadata": {},
   "outputs": [
    {
     "data": {
      "text/html": [
       "<div>\n",
       "<style scoped>\n",
       "    .dataframe tbody tr th:only-of-type {\n",
       "        vertical-align: middle;\n",
       "    }\n",
       "\n",
       "    .dataframe tbody tr th {\n",
       "        vertical-align: top;\n",
       "    }\n",
       "\n",
       "    .dataframe thead th {\n",
       "        text-align: right;\n",
       "    }\n",
       "</style>\n",
       "<table border=\"1\" class=\"dataframe\">\n",
       "  <thead>\n",
       "    <tr style=\"text-align: right;\">\n",
       "      <th></th>\n",
       "      <th>Имя</th>\n",
       "      <th>Возраст</th>\n",
       "      <th>Город</th>\n",
       "    </tr>\n",
       "  </thead>\n",
       "  <tbody>\n",
       "    <tr>\n",
       "      <th>1</th>\n",
       "      <td>Борис</td>\n",
       "      <td>30</td>\n",
       "      <td>Петербург</td>\n",
       "    </tr>\n",
       "    <tr>\n",
       "      <th>3</th>\n",
       "      <td>Григорий</td>\n",
       "      <td>35</td>\n",
       "      <td>Москва</td>\n",
       "    </tr>\n",
       "  </tbody>\n",
       "</table>\n",
       "</div>"
      ],
      "text/plain": [
       "        Имя  Возраст      Город\n",
       "1     Борис       30  Петербург\n",
       "3  Григорий       35     Москва"
      ]
     },
     "metadata": {},
     "output_type": "display_data"
    }
   ],
   "source": [
    "filtered_df = df[mask_age]\n",
    "display(filtered_df)"
   ]
  },
  {
   "cell_type": "markdown",
   "metadata": {},
   "source": [
    "3.  **Комбинирование условий:**\n",
    "    *   `&` (Логическое И): Условия должны выполняться **одновременно**. `df[(условие1) & (условие2)]`\n",
    "    *   `|` (Логическое ИЛИ): Должно выполняться **хотя бы одно** условие. `df[(условие1) | (условие2)]`\n",
    "    *   `~` (Логическое НЕ): Инверсия условия. `df[~(условие)]`\n",
    "    **Важно:** Каждое условие при комбинировании заключается в `()`."
   ]
  },
  {
   "cell_type": "code",
   "execution_count": 78,
   "metadata": {},
   "outputs": [
    {
     "data": {
      "text/html": [
       "<div>\n",
       "<style scoped>\n",
       "    .dataframe tbody tr th:only-of-type {\n",
       "        vertical-align: middle;\n",
       "    }\n",
       "\n",
       "    .dataframe tbody tr th {\n",
       "        vertical-align: top;\n",
       "    }\n",
       "\n",
       "    .dataframe thead th {\n",
       "        text-align: right;\n",
       "    }\n",
       "</style>\n",
       "<table border=\"1\" class=\"dataframe\">\n",
       "  <thead>\n",
       "    <tr style=\"text-align: right;\">\n",
       "      <th></th>\n",
       "      <th>Имя</th>\n",
       "      <th>Возраст</th>\n",
       "      <th>Город</th>\n",
       "    </tr>\n",
       "  </thead>\n",
       "  <tbody>\n",
       "    <tr>\n",
       "      <th>3</th>\n",
       "      <td>Григорий</td>\n",
       "      <td>35</td>\n",
       "      <td>Москва</td>\n",
       "    </tr>\n",
       "  </tbody>\n",
       "</table>\n",
       "</div>"
      ],
      "text/plain": [
       "        Имя  Возраст   Город\n",
       "3  Григорий       35  Москва"
      ]
     },
     "metadata": {},
     "output_type": "display_data"
    }
   ],
   "source": [
    "# Пример: Возраст > 28 И Город == 'Москва'\n",
    "complex_mask = (df['Возраст'] > 28) & (df['Город'] == 'Москва')\n",
    "filtered_complex = df[complex_mask]\n",
    "display(filtered_complex)"
   ]
  },
  {
   "cell_type": "markdown",
   "metadata": {},
   "source": [
    "4.  **Метод `.isin(values)`:** Фильтрация по принадлежности к списку значений. Удобнее, чем много `|`."
   ]
  },
  {
   "cell_type": "code",
   "execution_count": 79,
   "metadata": {},
   "outputs": [
    {
     "data": {
      "text/html": [
       "<div>\n",
       "<style scoped>\n",
       "    .dataframe tbody tr th:only-of-type {\n",
       "        vertical-align: middle;\n",
       "    }\n",
       "\n",
       "    .dataframe tbody tr th {\n",
       "        vertical-align: top;\n",
       "    }\n",
       "\n",
       "    .dataframe thead th {\n",
       "        text-align: right;\n",
       "    }\n",
       "</style>\n",
       "<table border=\"1\" class=\"dataframe\">\n",
       "  <thead>\n",
       "    <tr style=\"text-align: right;\">\n",
       "      <th></th>\n",
       "      <th>Имя</th>\n",
       "      <th>Возраст</th>\n",
       "      <th>Город</th>\n",
       "    </tr>\n",
       "  </thead>\n",
       "  <tbody>\n",
       "    <tr>\n",
       "      <th>0</th>\n",
       "      <td>Анна</td>\n",
       "      <td>25</td>\n",
       "      <td>Москва</td>\n",
       "    </tr>\n",
       "    <tr>\n",
       "      <th>2</th>\n",
       "      <td>Виктор</td>\n",
       "      <td>28</td>\n",
       "      <td>Казань</td>\n",
       "    </tr>\n",
       "    <tr>\n",
       "      <th>3</th>\n",
       "      <td>Григорий</td>\n",
       "      <td>35</td>\n",
       "      <td>Москва</td>\n",
       "    </tr>\n",
       "  </tbody>\n",
       "</table>\n",
       "</div>"
      ],
      "text/plain": [
       "        Имя  Возраст   Город\n",
       "0      Анна       25  Москва\n",
       "2    Виктор       28  Казань\n",
       "3  Григорий       35  Москва"
      ]
     },
     "metadata": {},
     "output_type": "display_data"
    }
   ],
   "source": [
    "cities_to_select = ['Москва', 'Казань']\n",
    "mask_isin = df['Город'].isin(cities_to_select)\n",
    "filtered_isin = df[mask_isin]\n",
    "display(filtered_isin)"
   ]
  },
  {
   "cell_type": "markdown",
   "metadata": {},
   "source": [
    "---\n",
    "\n",
    "#### II.E. Добавление и Изменение Столбцов\n",
    "\n",
    "1.  **Добавление нового столбца:**\n",
    "    *   **Прямое присваивание:** `df['Новый_столбец'] = значение(я)`\n",
    "        *   Если значение — скаляр, оно \"размножается\" на все строки.\n",
    "        *   Если значение — Series/список/массив, его длина должна совпадать с числом строк `df`."
   ]
  },
  {
   "cell_type": "code",
   "execution_count": 80,
   "metadata": {},
   "outputs": [
    {
     "data": {
      "text/html": [
       "<div>\n",
       "<style scoped>\n",
       "    .dataframe tbody tr th:only-of-type {\n",
       "        vertical-align: middle;\n",
       "    }\n",
       "\n",
       "    .dataframe tbody tr th {\n",
       "        vertical-align: top;\n",
       "    }\n",
       "\n",
       "    .dataframe thead th {\n",
       "        text-align: right;\n",
       "    }\n",
       "</style>\n",
       "<table border=\"1\" class=\"dataframe\">\n",
       "  <thead>\n",
       "    <tr style=\"text-align: right;\">\n",
       "      <th></th>\n",
       "      <th>Имя</th>\n",
       "      <th>Возраст</th>\n",
       "      <th>Город</th>\n",
       "      <th>Страна</th>\n",
       "      <th>Возраст через 5 лет</th>\n",
       "    </tr>\n",
       "  </thead>\n",
       "  <tbody>\n",
       "    <tr>\n",
       "      <th>0</th>\n",
       "      <td>Анна</td>\n",
       "      <td>25</td>\n",
       "      <td>Москва</td>\n",
       "      <td>Россия</td>\n",
       "      <td>30</td>\n",
       "    </tr>\n",
       "    <tr>\n",
       "      <th>1</th>\n",
       "      <td>Борис</td>\n",
       "      <td>30</td>\n",
       "      <td>Петербург</td>\n",
       "      <td>Россия</td>\n",
       "      <td>35</td>\n",
       "    </tr>\n",
       "    <tr>\n",
       "      <th>2</th>\n",
       "      <td>Виктор</td>\n",
       "      <td>28</td>\n",
       "      <td>Казань</td>\n",
       "      <td>Россия</td>\n",
       "      <td>33</td>\n",
       "    </tr>\n",
       "    <tr>\n",
       "      <th>3</th>\n",
       "      <td>Григорий</td>\n",
       "      <td>35</td>\n",
       "      <td>Москва</td>\n",
       "      <td>Россия</td>\n",
       "      <td>40</td>\n",
       "    </tr>\n",
       "  </tbody>\n",
       "</table>\n",
       "</div>"
      ],
      "text/plain": [
       "        Имя  Возраст      Город  Страна  Возраст через 5 лет\n",
       "0      Анна       25     Москва  Россия                   30\n",
       "1     Борис       30  Петербург  Россия                   35\n",
       "2    Виктор       28     Казань  Россия                   33\n",
       "3  Григорий       35     Москва  Россия                   40"
      ]
     },
     "metadata": {},
     "output_type": "display_data"
    }
   ],
   "source": [
    "df['Страна'] = 'Россия' # Столбец с константой\n",
    "df['Возраст через 5 лет'] = df['Возраст'] + 5 # На основе существующего\n",
    "display(df)"
   ]
  },
  {
   "cell_type": "markdown",
   "metadata": {},
   "source": [
    "*   **Метод `.assign(**kwargs)`:** Возвращает **новый** DataFrame с добавленными столбцами. Удобен для цепочек операций. Исходный `df` не меняется."
   ]
  },
  {
   "cell_type": "code",
   "execution_count": 81,
   "metadata": {},
   "outputs": [
    {
     "data": {
      "text/html": [
       "<div>\n",
       "<style scoped>\n",
       "    .dataframe tbody tr th:only-of-type {\n",
       "        vertical-align: middle;\n",
       "    }\n",
       "\n",
       "    .dataframe tbody tr th {\n",
       "        vertical-align: top;\n",
       "    }\n",
       "\n",
       "    .dataframe thead th {\n",
       "        text-align: right;\n",
       "    }\n",
       "</style>\n",
       "<table border=\"1\" class=\"dataframe\">\n",
       "  <thead>\n",
       "    <tr style=\"text-align: right;\">\n",
       "      <th></th>\n",
       "      <th>Имя</th>\n",
       "      <th>Возраст</th>\n",
       "      <th>Город</th>\n",
       "      <th>Страна</th>\n",
       "      <th>Возраст через 5 лет</th>\n",
       "      <th>Стаж</th>\n",
       "      <th>Профессия</th>\n",
       "    </tr>\n",
       "  </thead>\n",
       "  <tbody>\n",
       "    <tr>\n",
       "      <th>0</th>\n",
       "      <td>Анна</td>\n",
       "      <td>25</td>\n",
       "      <td>Москва</td>\n",
       "      <td>Россия</td>\n",
       "      <td>30</td>\n",
       "      <td>5</td>\n",
       "      <td>Инженер</td>\n",
       "    </tr>\n",
       "    <tr>\n",
       "      <th>1</th>\n",
       "      <td>Борис</td>\n",
       "      <td>30</td>\n",
       "      <td>Петербург</td>\n",
       "      <td>Россия</td>\n",
       "      <td>35</td>\n",
       "      <td>10</td>\n",
       "      <td>Врач</td>\n",
       "    </tr>\n",
       "    <tr>\n",
       "      <th>2</th>\n",
       "      <td>Виктор</td>\n",
       "      <td>28</td>\n",
       "      <td>Казань</td>\n",
       "      <td>Россия</td>\n",
       "      <td>33</td>\n",
       "      <td>8</td>\n",
       "      <td>Учитель</td>\n",
       "    </tr>\n",
       "    <tr>\n",
       "      <th>3</th>\n",
       "      <td>Григорий</td>\n",
       "      <td>35</td>\n",
       "      <td>Москва</td>\n",
       "      <td>Россия</td>\n",
       "      <td>40</td>\n",
       "      <td>15</td>\n",
       "      <td>Аналитик</td>\n",
       "    </tr>\n",
       "  </tbody>\n",
       "</table>\n",
       "</div>"
      ],
      "text/plain": [
       "        Имя  Возраст      Город  Страна  Возраст через 5 лет  Стаж Профессия\n",
       "0      Анна       25     Москва  Россия                   30     5   Инженер\n",
       "1     Борис       30  Петербург  Россия                   35    10      Врач\n",
       "2    Виктор       28     Казань  Россия                   33     8   Учитель\n",
       "3  Григорий       35     Москва  Россия                   40    15  Аналитик"
      ]
     },
     "metadata": {},
     "output_type": "display_data"
    },
    {
     "data": {
      "text/html": [
       "<div>\n",
       "<style scoped>\n",
       "    .dataframe tbody tr th:only-of-type {\n",
       "        vertical-align: middle;\n",
       "    }\n",
       "\n",
       "    .dataframe tbody tr th {\n",
       "        vertical-align: top;\n",
       "    }\n",
       "\n",
       "    .dataframe thead th {\n",
       "        text-align: right;\n",
       "    }\n",
       "</style>\n",
       "<table border=\"1\" class=\"dataframe\">\n",
       "  <thead>\n",
       "    <tr style=\"text-align: right;\">\n",
       "      <th></th>\n",
       "      <th>Имя</th>\n",
       "      <th>Возраст</th>\n",
       "      <th>Город</th>\n",
       "      <th>Страна</th>\n",
       "      <th>Возраст через 5 лет</th>\n",
       "    </tr>\n",
       "  </thead>\n",
       "  <tbody>\n",
       "    <tr>\n",
       "      <th>0</th>\n",
       "      <td>Анна</td>\n",
       "      <td>25</td>\n",
       "      <td>Москва</td>\n",
       "      <td>Россия</td>\n",
       "      <td>30</td>\n",
       "    </tr>\n",
       "    <tr>\n",
       "      <th>1</th>\n",
       "      <td>Борис</td>\n",
       "      <td>30</td>\n",
       "      <td>Петербург</td>\n",
       "      <td>Россия</td>\n",
       "      <td>35</td>\n",
       "    </tr>\n",
       "    <tr>\n",
       "      <th>2</th>\n",
       "      <td>Виктор</td>\n",
       "      <td>28</td>\n",
       "      <td>Казань</td>\n",
       "      <td>Россия</td>\n",
       "      <td>33</td>\n",
       "    </tr>\n",
       "    <tr>\n",
       "      <th>3</th>\n",
       "      <td>Григорий</td>\n",
       "      <td>35</td>\n",
       "      <td>Москва</td>\n",
       "      <td>Россия</td>\n",
       "      <td>40</td>\n",
       "    </tr>\n",
       "  </tbody>\n",
       "</table>\n",
       "</div>"
      ],
      "text/plain": [
       "        Имя  Возраст      Город  Страна  Возраст через 5 лет\n",
       "0      Анна       25     Москва  Россия                   30\n",
       "1     Борис       30  Петербург  Россия                   35\n",
       "2    Виктор       28     Казань  Россия                   33\n",
       "3  Григорий       35     Москва  Россия                   40"
      ]
     },
     "metadata": {},
     "output_type": "display_data"
    }
   ],
   "source": [
    "df_assigned = df.assign(\n",
    "            Стаж = df['Возраст'] - 20, # Пример вычисления\n",
    "            Профессия = ['Инженер', 'Врач', 'Учитель', 'Аналитик']\n",
    "        )\n",
    "display(df_assigned)\n",
    "display(df) # Исходный df не изменился"
   ]
  },
  {
   "cell_type": "markdown",
   "metadata": {},
   "source": [
    "2.  **Изменение значений в столбце:**\n",
    "    *   **Изменение всего столбца:** `df['Существующий_столбец'] = новые_значения` (аналогично добавлению, но перезаписывает столбец)."
   ]
  },
  {
   "cell_type": "code",
   "execution_count": 82,
   "metadata": {},
   "outputs": [],
   "source": [
    "df['Возраст'] = df['Возраст'] * 2 # Пример"
   ]
  },
  {
   "cell_type": "markdown",
   "metadata": {},
   "source": [
    "**Условное изменение (`.loc` + маска):** Изменение значений только для строк, удовлетворяющих условию."
   ]
  },
  {
   "cell_type": "code",
   "execution_count": 83,
   "metadata": {},
   "outputs": [
    {
     "data": {
      "text/html": [
       "<div>\n",
       "<style scoped>\n",
       "    .dataframe tbody tr th:only-of-type {\n",
       "        vertical-align: middle;\n",
       "    }\n",
       "\n",
       "    .dataframe tbody tr th {\n",
       "        vertical-align: top;\n",
       "    }\n",
       "\n",
       "    .dataframe thead th {\n",
       "        text-align: right;\n",
       "    }\n",
       "</style>\n",
       "<table border=\"1\" class=\"dataframe\">\n",
       "  <thead>\n",
       "    <tr style=\"text-align: right;\">\n",
       "      <th></th>\n",
       "      <th>Имя</th>\n",
       "      <th>Возраст</th>\n",
       "      <th>Город</th>\n",
       "      <th>Страна</th>\n",
       "      <th>Возраст через 5 лет</th>\n",
       "    </tr>\n",
       "  </thead>\n",
       "  <tbody>\n",
       "    <tr>\n",
       "      <th>0</th>\n",
       "      <td>Анна</td>\n",
       "      <td>50</td>\n",
       "      <td>Москва</td>\n",
       "      <td>Россия</td>\n",
       "      <td>30</td>\n",
       "    </tr>\n",
       "    <tr>\n",
       "      <th>1</th>\n",
       "      <td>Борис</td>\n",
       "      <td>60</td>\n",
       "      <td>Петербург</td>\n",
       "      <td>Россия</td>\n",
       "      <td>35</td>\n",
       "    </tr>\n",
       "    <tr>\n",
       "      <th>2</th>\n",
       "      <td>Виктор</td>\n",
       "      <td>56</td>\n",
       "      <td>Казань</td>\n",
       "      <td>Россия</td>\n",
       "      <td>33</td>\n",
       "    </tr>\n",
       "    <tr>\n",
       "      <th>3</th>\n",
       "      <td>Григорий</td>\n",
       "      <td>70</td>\n",
       "      <td>Москва</td>\n",
       "      <td>Россия</td>\n",
       "      <td>40</td>\n",
       "    </tr>\n",
       "  </tbody>\n",
       "</table>\n",
       "</div>"
      ],
      "text/plain": [
       "        Имя  Возраст      Город  Страна  Возраст через 5 лет\n",
       "0      Анна       50     Москва  Россия                   30\n",
       "1     Борис       60  Петербург  Россия                   35\n",
       "2    Виктор       56     Казань  Россия                   33\n",
       "3  Григорий       70     Москва  Россия                   40"
      ]
     },
     "metadata": {},
     "output_type": "display_data"
    }
   ],
   "source": [
    "# Пример: Установить Возраст=18 для тех, кто младше 18\n",
    "df.loc[df['Возраст'] < 18, 'Возраст'] = 18\n",
    "display(df)"
   ]
  },
  {
   "cell_type": "markdown",
   "metadata": {},
   "source": [
    "3.  **Переименование столбцов (`.rename(columns=mapping)`):**\n",
    "    *   Принимает словарь `mapping` вида `{'старое_имя': 'новое_имя', ...}`.\n",
    "    *   Возвращает **новый** DataFrame (если не `inplace=True`)."
   ]
  },
  {
   "cell_type": "code",
   "execution_count": 84,
   "metadata": {},
   "outputs": [
    {
     "data": {
      "text/html": [
       "<div>\n",
       "<style scoped>\n",
       "    .dataframe tbody tr th:only-of-type {\n",
       "        vertical-align: middle;\n",
       "    }\n",
       "\n",
       "    .dataframe tbody tr th {\n",
       "        vertical-align: top;\n",
       "    }\n",
       "\n",
       "    .dataframe thead th {\n",
       "        text-align: right;\n",
       "    }\n",
       "</style>\n",
       "<table border=\"1\" class=\"dataframe\">\n",
       "  <thead>\n",
       "    <tr style=\"text-align: right;\">\n",
       "      <th></th>\n",
       "      <th>Имя</th>\n",
       "      <th>Полных лет</th>\n",
       "      <th>Место жительства</th>\n",
       "      <th>Страна</th>\n",
       "      <th>Возраст через 5 лет</th>\n",
       "    </tr>\n",
       "  </thead>\n",
       "  <tbody>\n",
       "    <tr>\n",
       "      <th>0</th>\n",
       "      <td>Анна</td>\n",
       "      <td>50</td>\n",
       "      <td>Москва</td>\n",
       "      <td>Россия</td>\n",
       "      <td>30</td>\n",
       "    </tr>\n",
       "    <tr>\n",
       "      <th>1</th>\n",
       "      <td>Борис</td>\n",
       "      <td>60</td>\n",
       "      <td>Петербург</td>\n",
       "      <td>Россия</td>\n",
       "      <td>35</td>\n",
       "    </tr>\n",
       "    <tr>\n",
       "      <th>2</th>\n",
       "      <td>Виктор</td>\n",
       "      <td>56</td>\n",
       "      <td>Казань</td>\n",
       "      <td>Россия</td>\n",
       "      <td>33</td>\n",
       "    </tr>\n",
       "    <tr>\n",
       "      <th>3</th>\n",
       "      <td>Григорий</td>\n",
       "      <td>70</td>\n",
       "      <td>Москва</td>\n",
       "      <td>Россия</td>\n",
       "      <td>40</td>\n",
       "    </tr>\n",
       "  </tbody>\n",
       "</table>\n",
       "</div>"
      ],
      "text/plain": [
       "        Имя  Полных лет Место жительства  Страна  Возраст через 5 лет\n",
       "0      Анна          50           Москва  Россия                   30\n",
       "1     Борис          60        Петербург  Россия                   35\n",
       "2    Виктор          56           Казань  Россия                   33\n",
       "3  Григорий          70           Москва  Россия                   40"
      ]
     },
     "metadata": {},
     "output_type": "display_data"
    }
   ],
   "source": [
    "df_renamed = df.rename(columns={'Возраст': 'Полных лет', 'Город': 'Место жительства'})\n",
    "display(df_renamed)"
   ]
  },
  {
   "cell_type": "markdown",
   "metadata": {},
   "source": [
    "---\n",
    "\n",
    "#### II.F. Применение Функций (`.apply()`)\n",
    "\n",
    "Универсальный метод для применения функции к столбцам или строкам.\n",
    "\n",
    "1.  **Применение к столбцу (Series): `Series.apply(func)`**\n",
    "    *   Функция `func` применяется **поэлементно** к каждому значению в Series.\n",
    "    *   Возвращает новый Series с результатами."
   ]
  },
  {
   "cell_type": "code",
   "execution_count": 85,
   "metadata": {},
   "outputs": [
    {
     "data": {
      "text/html": [
       "<div>\n",
       "<style scoped>\n",
       "    .dataframe tbody tr th:only-of-type {\n",
       "        vertical-align: middle;\n",
       "    }\n",
       "\n",
       "    .dataframe tbody tr th {\n",
       "        vertical-align: top;\n",
       "    }\n",
       "\n",
       "    .dataframe thead th {\n",
       "        text-align: right;\n",
       "    }\n",
       "</style>\n",
       "<table border=\"1\" class=\"dataframe\">\n",
       "  <thead>\n",
       "    <tr style=\"text-align: right;\">\n",
       "      <th></th>\n",
       "      <th>Имя</th>\n",
       "      <th>Возраст</th>\n",
       "      <th>Город</th>\n",
       "      <th>Страна</th>\n",
       "      <th>Возраст через 5 лет</th>\n",
       "      <th>Категория возраста</th>\n",
       "    </tr>\n",
       "  </thead>\n",
       "  <tbody>\n",
       "    <tr>\n",
       "      <th>0</th>\n",
       "      <td>Анна</td>\n",
       "      <td>50</td>\n",
       "      <td>Москва</td>\n",
       "      <td>Россия</td>\n",
       "      <td>30</td>\n",
       "      <td>Зрелый</td>\n",
       "    </tr>\n",
       "    <tr>\n",
       "      <th>1</th>\n",
       "      <td>Борис</td>\n",
       "      <td>60</td>\n",
       "      <td>Петербург</td>\n",
       "      <td>Россия</td>\n",
       "      <td>35</td>\n",
       "      <td>Зрелый</td>\n",
       "    </tr>\n",
       "    <tr>\n",
       "      <th>2</th>\n",
       "      <td>Виктор</td>\n",
       "      <td>56</td>\n",
       "      <td>Казань</td>\n",
       "      <td>Россия</td>\n",
       "      <td>33</td>\n",
       "      <td>Зрелый</td>\n",
       "    </tr>\n",
       "    <tr>\n",
       "      <th>3</th>\n",
       "      <td>Григорий</td>\n",
       "      <td>70</td>\n",
       "      <td>Москва</td>\n",
       "      <td>Россия</td>\n",
       "      <td>40</td>\n",
       "      <td>Зрелый</td>\n",
       "    </tr>\n",
       "  </tbody>\n",
       "</table>\n",
       "</div>"
      ],
      "text/plain": [
       "        Имя  Возраст      Город  Страна  Возраст через 5 лет  \\\n",
       "0      Анна       50     Москва  Россия                   30   \n",
       "1     Борис       60  Петербург  Россия                   35   \n",
       "2    Виктор       56     Казань  Россия                   33   \n",
       "3  Григорий       70     Москва  Россия                   40   \n",
       "\n",
       "  Категория возраста  \n",
       "0             Зрелый  \n",
       "1             Зрелый  \n",
       "2             Зрелый  \n",
       "3             Зрелый  "
      ]
     },
     "metadata": {},
     "output_type": "display_data"
    }
   ],
   "source": [
    "def categorize_age(age):\n",
    "    if age < 30: return 'Молодой'\n",
    "    else: return 'Зрелый'\n",
    "\n",
    "df['Категория возраста'] = df['Возраст'].apply(categorize_age)\n",
    "display(df)"
   ]
  },
  {
   "cell_type": "markdown",
   "metadata": {},
   "source": [
    "2.  **Использование lambda-функций:** Для простых однострочных функций."
   ]
  },
  {
   "cell_type": "code",
   "execution_count": 86,
   "metadata": {},
   "outputs": [
    {
     "data": {
      "text/html": [
       "<div>\n",
       "<style scoped>\n",
       "    .dataframe tbody tr th:only-of-type {\n",
       "        vertical-align: middle;\n",
       "    }\n",
       "\n",
       "    .dataframe tbody tr th {\n",
       "        vertical-align: top;\n",
       "    }\n",
       "\n",
       "    .dataframe thead th {\n",
       "        text-align: right;\n",
       "    }\n",
       "</style>\n",
       "<table border=\"1\" class=\"dataframe\">\n",
       "  <thead>\n",
       "    <tr style=\"text-align: right;\">\n",
       "      <th></th>\n",
       "      <th>Имя</th>\n",
       "      <th>Возраст</th>\n",
       "      <th>Город</th>\n",
       "      <th>Страна</th>\n",
       "      <th>Возраст через 5 лет</th>\n",
       "      <th>Категория возраста</th>\n",
       "      <th>Длина имени</th>\n",
       "    </tr>\n",
       "  </thead>\n",
       "  <tbody>\n",
       "    <tr>\n",
       "      <th>0</th>\n",
       "      <td>Анна</td>\n",
       "      <td>50</td>\n",
       "      <td>Москва</td>\n",
       "      <td>Россия</td>\n",
       "      <td>30</td>\n",
       "      <td>Зрелый</td>\n",
       "      <td>4</td>\n",
       "    </tr>\n",
       "    <tr>\n",
       "      <th>1</th>\n",
       "      <td>Борис</td>\n",
       "      <td>60</td>\n",
       "      <td>Петербург</td>\n",
       "      <td>Россия</td>\n",
       "      <td>35</td>\n",
       "      <td>Зрелый</td>\n",
       "      <td>5</td>\n",
       "    </tr>\n",
       "    <tr>\n",
       "      <th>2</th>\n",
       "      <td>Виктор</td>\n",
       "      <td>56</td>\n",
       "      <td>Казань</td>\n",
       "      <td>Россия</td>\n",
       "      <td>33</td>\n",
       "      <td>Зрелый</td>\n",
       "      <td>6</td>\n",
       "    </tr>\n",
       "    <tr>\n",
       "      <th>3</th>\n",
       "      <td>Григорий</td>\n",
       "      <td>70</td>\n",
       "      <td>Москва</td>\n",
       "      <td>Россия</td>\n",
       "      <td>40</td>\n",
       "      <td>Зрелый</td>\n",
       "      <td>8</td>\n",
       "    </tr>\n",
       "  </tbody>\n",
       "</table>\n",
       "</div>"
      ],
      "text/plain": [
       "        Имя  Возраст      Город  Страна  Возраст через 5 лет  \\\n",
       "0      Анна       50     Москва  Россия                   30   \n",
       "1     Борис       60  Петербург  Россия                   35   \n",
       "2    Виктор       56     Казань  Россия                   33   \n",
       "3  Григорий       70     Москва  Россия                   40   \n",
       "\n",
       "  Категория возраста  Длина имени  \n",
       "0             Зрелый            4  \n",
       "1             Зрелый            5  \n",
       "2             Зрелый            6  \n",
       "3             Зрелый            8  "
      ]
     },
     "metadata": {},
     "output_type": "display_data"
    }
   ],
   "source": [
    "df['Длина имени'] = df['Имя'].apply(lambda name: len(name))\n",
    "display(df)"
   ]
  },
  {
   "cell_type": "markdown",
   "metadata": {},
   "source": [
    "3.  **Применение к DataFrame (`axis=0` - по столбцам): `DataFrame.apply(func, axis=0)`**\n",
    "    *   Функция `func` применяется к **каждому столбцу** (передается Series-столбец).\n",
    "    *   Обычно `func` возвращает скаляр. Результат — Series (индексы - имена столбцов)."
   ]
  },
  {
   "cell_type": "code",
   "execution_count": 87,
   "metadata": {},
   "outputs": [
    {
     "name": "stdout",
     "output_type": "stream",
     "text": [
      "Имя                    object\n",
      "Возраст                 int64\n",
      "Город                  object\n",
      "Страна                 object\n",
      "Возраст через 5 лет     int64\n",
      "Категория возраста     object\n",
      "Длина имени             int64\n",
      "dtype: object\n"
     ]
    }
   ],
   "source": [
    "# Пример: найти тип данных каждого столбца\n",
    "column_types = df.apply(lambda col: col.dtype, axis=0)\n",
    "print(column_types)"
   ]
  },
  {
   "cell_type": "markdown",
   "metadata": {},
   "source": [
    "4.  **Применение к DataFrame (`axis=1` - по строкам): `DataFrame.apply(func, axis=1)`**\n",
    "    *   Функция `func` применяется к **каждой строке** (передается Series-строка).\n",
    "    *   Полезно для вычислений, использующих несколько столбцов одной строки.\n",
    "    *   Обычно `func` возвращает скаляр. Результат — Series (индексы - индексы строк)."
   ]
  },
  {
   "cell_type": "code",
   "execution_count": 88,
   "metadata": {},
   "outputs": [
    {
     "data": {
      "text/html": [
       "<div>\n",
       "<style scoped>\n",
       "    .dataframe tbody tr th:only-of-type {\n",
       "        vertical-align: middle;\n",
       "    }\n",
       "\n",
       "    .dataframe tbody tr th {\n",
       "        vertical-align: top;\n",
       "    }\n",
       "\n",
       "    .dataframe thead th {\n",
       "        text-align: right;\n",
       "    }\n",
       "</style>\n",
       "<table border=\"1\" class=\"dataframe\">\n",
       "  <thead>\n",
       "    <tr style=\"text-align: right;\">\n",
       "      <th></th>\n",
       "      <th>Имя</th>\n",
       "      <th>Описание</th>\n",
       "    </tr>\n",
       "  </thead>\n",
       "  <tbody>\n",
       "    <tr>\n",
       "      <th>0</th>\n",
       "      <td>Анна</td>\n",
       "      <td>Анна (50 лет) из г. Москва</td>\n",
       "    </tr>\n",
       "    <tr>\n",
       "      <th>1</th>\n",
       "      <td>Борис</td>\n",
       "      <td>Борис (60 лет) из г. Петербург</td>\n",
       "    </tr>\n",
       "    <tr>\n",
       "      <th>2</th>\n",
       "      <td>Виктор</td>\n",
       "      <td>Виктор (56 лет) из г. Казань</td>\n",
       "    </tr>\n",
       "    <tr>\n",
       "      <th>3</th>\n",
       "      <td>Григорий</td>\n",
       "      <td>Григорий (70 лет) из г. Москва</td>\n",
       "    </tr>\n",
       "  </tbody>\n",
       "</table>\n",
       "</div>"
      ],
      "text/plain": [
       "        Имя                        Описание\n",
       "0      Анна      Анна (50 лет) из г. Москва\n",
       "1     Борис  Борис (60 лет) из г. Петербург\n",
       "2    Виктор    Виктор (56 лет) из г. Казань\n",
       "3  Григорий  Григорий (70 лет) из г. Москва"
      ]
     },
     "metadata": {},
     "output_type": "display_data"
    }
   ],
   "source": [
    "def create_row_description(row):\n",
    "    return f\"{row['Имя']} ({row['Возраст']} лет) из г. {row['Город']}\"\n",
    "\n",
    "df['Описание'] = df.apply(create_row_description, axis=1)\n",
    "display(df[['Имя', 'Описание']])"
   ]
  },
  {
   "cell_type": "markdown",
   "metadata": {},
   "source": [
    "---\n",
    "\n",
    "#### II.G. Сортировка DataFrame\n",
    "\n",
    "Упорядочивание строк по значениям столбцов или индекса.\n",
    "\n",
    "1.  **Сортировка по значениям (`.sort_values()`):**\n",
    "    *   **`by='столбец'` или `by=['стлб1', 'стлб2']`:** Столбец(ы) для сортировки (обязательно). Приоритет по порядку в списке.\n",
    "    *   **`ascending=True/False` или `[True, False, ...]`:** Направление сортировки (True - по возрастанию). Можно задать для каждого столбца в `by`.\n",
    "    *   **`na_position='first'/'last'`:** Положение NaN.\n",
    "    *   **`ignore_index=True`:** Сбросить индекс после сортировки.\n",
    "    *   Возвращает **новый** DataFrame (если не `inplace=True`)."
   ]
  },
  {
   "cell_type": "code",
   "execution_count": 89,
   "metadata": {},
   "outputs": [
    {
     "data": {
      "text/html": [
       "<div>\n",
       "<style scoped>\n",
       "    .dataframe tbody tr th:only-of-type {\n",
       "        vertical-align: middle;\n",
       "    }\n",
       "\n",
       "    .dataframe tbody tr th {\n",
       "        vertical-align: top;\n",
       "    }\n",
       "\n",
       "    .dataframe thead th {\n",
       "        text-align: right;\n",
       "    }\n",
       "</style>\n",
       "<table border=\"1\" class=\"dataframe\">\n",
       "  <thead>\n",
       "    <tr style=\"text-align: right;\">\n",
       "      <th></th>\n",
       "      <th>Имя</th>\n",
       "      <th>Возраст</th>\n",
       "      <th>Город</th>\n",
       "      <th>Страна</th>\n",
       "      <th>Возраст через 5 лет</th>\n",
       "      <th>Категория возраста</th>\n",
       "      <th>Длина имени</th>\n",
       "      <th>Описание</th>\n",
       "    </tr>\n",
       "  </thead>\n",
       "  <tbody>\n",
       "    <tr>\n",
       "      <th>3</th>\n",
       "      <td>Григорий</td>\n",
       "      <td>70</td>\n",
       "      <td>Москва</td>\n",
       "      <td>Россия</td>\n",
       "      <td>40</td>\n",
       "      <td>Зрелый</td>\n",
       "      <td>8</td>\n",
       "      <td>Григорий (70 лет) из г. Москва</td>\n",
       "    </tr>\n",
       "    <tr>\n",
       "      <th>1</th>\n",
       "      <td>Борис</td>\n",
       "      <td>60</td>\n",
       "      <td>Петербург</td>\n",
       "      <td>Россия</td>\n",
       "      <td>35</td>\n",
       "      <td>Зрелый</td>\n",
       "      <td>5</td>\n",
       "      <td>Борис (60 лет) из г. Петербург</td>\n",
       "    </tr>\n",
       "    <tr>\n",
       "      <th>2</th>\n",
       "      <td>Виктор</td>\n",
       "      <td>56</td>\n",
       "      <td>Казань</td>\n",
       "      <td>Россия</td>\n",
       "      <td>33</td>\n",
       "      <td>Зрелый</td>\n",
       "      <td>6</td>\n",
       "      <td>Виктор (56 лет) из г. Казань</td>\n",
       "    </tr>\n",
       "    <tr>\n",
       "      <th>0</th>\n",
       "      <td>Анна</td>\n",
       "      <td>50</td>\n",
       "      <td>Москва</td>\n",
       "      <td>Россия</td>\n",
       "      <td>30</td>\n",
       "      <td>Зрелый</td>\n",
       "      <td>4</td>\n",
       "      <td>Анна (50 лет) из г. Москва</td>\n",
       "    </tr>\n",
       "  </tbody>\n",
       "</table>\n",
       "</div>"
      ],
      "text/plain": [
       "        Имя  Возраст      Город  Страна  Возраст через 5 лет  \\\n",
       "3  Григорий       70     Москва  Россия                   40   \n",
       "1     Борис       60  Петербург  Россия                   35   \n",
       "2    Виктор       56     Казань  Россия                   33   \n",
       "0      Анна       50     Москва  Россия                   30   \n",
       "\n",
       "  Категория возраста  Длина имени                        Описание  \n",
       "3             Зрелый            8  Григорий (70 лет) из г. Москва  \n",
       "1             Зрелый            5  Борис (60 лет) из г. Петербург  \n",
       "2             Зрелый            6    Виктор (56 лет) из г. Казань  \n",
       "0             Зрелый            4      Анна (50 лет) из г. Москва  "
      ]
     },
     "metadata": {},
     "output_type": "display_data"
    },
    {
     "data": {
      "text/html": [
       "<div>\n",
       "<style scoped>\n",
       "    .dataframe tbody tr th:only-of-type {\n",
       "        vertical-align: middle;\n",
       "    }\n",
       "\n",
       "    .dataframe tbody tr th {\n",
       "        vertical-align: top;\n",
       "    }\n",
       "\n",
       "    .dataframe thead th {\n",
       "        text-align: right;\n",
       "    }\n",
       "</style>\n",
       "<table border=\"1\" class=\"dataframe\">\n",
       "  <thead>\n",
       "    <tr style=\"text-align: right;\">\n",
       "      <th></th>\n",
       "      <th>Имя</th>\n",
       "      <th>Возраст</th>\n",
       "      <th>Город</th>\n",
       "      <th>Страна</th>\n",
       "      <th>Возраст через 5 лет</th>\n",
       "      <th>Категория возраста</th>\n",
       "      <th>Длина имени</th>\n",
       "      <th>Описание</th>\n",
       "    </tr>\n",
       "  </thead>\n",
       "  <tbody>\n",
       "    <tr>\n",
       "      <th>2</th>\n",
       "      <td>Виктор</td>\n",
       "      <td>56</td>\n",
       "      <td>Казань</td>\n",
       "      <td>Россия</td>\n",
       "      <td>33</td>\n",
       "      <td>Зрелый</td>\n",
       "      <td>6</td>\n",
       "      <td>Виктор (56 лет) из г. Казань</td>\n",
       "    </tr>\n",
       "    <tr>\n",
       "      <th>3</th>\n",
       "      <td>Григорий</td>\n",
       "      <td>70</td>\n",
       "      <td>Москва</td>\n",
       "      <td>Россия</td>\n",
       "      <td>40</td>\n",
       "      <td>Зрелый</td>\n",
       "      <td>8</td>\n",
       "      <td>Григорий (70 лет) из г. Москва</td>\n",
       "    </tr>\n",
       "    <tr>\n",
       "      <th>0</th>\n",
       "      <td>Анна</td>\n",
       "      <td>50</td>\n",
       "      <td>Москва</td>\n",
       "      <td>Россия</td>\n",
       "      <td>30</td>\n",
       "      <td>Зрелый</td>\n",
       "      <td>4</td>\n",
       "      <td>Анна (50 лет) из г. Москва</td>\n",
       "    </tr>\n",
       "    <tr>\n",
       "      <th>1</th>\n",
       "      <td>Борис</td>\n",
       "      <td>60</td>\n",
       "      <td>Петербург</td>\n",
       "      <td>Россия</td>\n",
       "      <td>35</td>\n",
       "      <td>Зрелый</td>\n",
       "      <td>5</td>\n",
       "      <td>Борис (60 лет) из г. Петербург</td>\n",
       "    </tr>\n",
       "  </tbody>\n",
       "</table>\n",
       "</div>"
      ],
      "text/plain": [
       "        Имя  Возраст      Город  Страна  Возраст через 5 лет  \\\n",
       "2    Виктор       56     Казань  Россия                   33   \n",
       "3  Григорий       70     Москва  Россия                   40   \n",
       "0      Анна       50     Москва  Россия                   30   \n",
       "1     Борис       60  Петербург  Россия                   35   \n",
       "\n",
       "  Категория возраста  Длина имени                        Описание  \n",
       "2             Зрелый            6    Виктор (56 лет) из г. Казань  \n",
       "3             Зрелый            8  Григорий (70 лет) из г. Москва  \n",
       "0             Зрелый            4      Анна (50 лет) из г. Москва  \n",
       "1             Зрелый            5  Борис (60 лет) из г. Петербург  "
      ]
     },
     "metadata": {},
     "output_type": "display_data"
    }
   ],
   "source": [
    "# Сортировка по Возрасту по убыванию\n",
    "df_sorted_age_desc = df.sort_values(by='Возраст', ascending=False)\n",
    "display(df_sorted_age_desc)\n",
    "\n",
    "# Сортировка по Городу (возр), затем по Возрасту (убыв)\n",
    "df_sorted_multi = df.sort_values(by=['Город', 'Возраст'], ascending=[True, False])\n",
    "display(df_sorted_multi)"
   ]
  },
  {
   "cell_type": "markdown",
   "metadata": {},
   "source": [
    "2.  **Сортировка по индексу (`.sort_index()`):**\n",
    "    *   Упорядочивает строки по значениям индекса.\n",
    "    *   Параметры `axis`, `ascending`, `inplace`, `na_position`, `ignore_index` аналогичны `.sort_values()`, но применяются к индексу."
   ]
  },
  {
   "cell_type": "code",
   "execution_count": 90,
   "metadata": {},
   "outputs": [
    {
     "data": {
      "text/html": [
       "<div>\n",
       "<style scoped>\n",
       "    .dataframe tbody tr th:only-of-type {\n",
       "        vertical-align: middle;\n",
       "    }\n",
       "\n",
       "    .dataframe tbody tr th {\n",
       "        vertical-align: top;\n",
       "    }\n",
       "\n",
       "    .dataframe thead th {\n",
       "        text-align: right;\n",
       "    }\n",
       "</style>\n",
       "<table border=\"1\" class=\"dataframe\">\n",
       "  <thead>\n",
       "    <tr style=\"text-align: right;\">\n",
       "      <th></th>\n",
       "      <th>Имя</th>\n",
       "      <th>Возраст</th>\n",
       "      <th>Город</th>\n",
       "      <th>Страна</th>\n",
       "      <th>Возраст через 5 лет</th>\n",
       "      <th>Категория возраста</th>\n",
       "      <th>Длина имени</th>\n",
       "      <th>Описание</th>\n",
       "    </tr>\n",
       "  </thead>\n",
       "  <tbody>\n",
       "    <tr>\n",
       "      <th>0</th>\n",
       "      <td>Анна</td>\n",
       "      <td>50</td>\n",
       "      <td>Москва</td>\n",
       "      <td>Россия</td>\n",
       "      <td>30</td>\n",
       "      <td>Зрелый</td>\n",
       "      <td>4</td>\n",
       "      <td>Анна (50 лет) из г. Москва</td>\n",
       "    </tr>\n",
       "    <tr>\n",
       "      <th>1</th>\n",
       "      <td>Борис</td>\n",
       "      <td>60</td>\n",
       "      <td>Петербург</td>\n",
       "      <td>Россия</td>\n",
       "      <td>35</td>\n",
       "      <td>Зрелый</td>\n",
       "      <td>5</td>\n",
       "      <td>Борис (60 лет) из г. Петербург</td>\n",
       "    </tr>\n",
       "    <tr>\n",
       "      <th>2</th>\n",
       "      <td>Виктор</td>\n",
       "      <td>56</td>\n",
       "      <td>Казань</td>\n",
       "      <td>Россия</td>\n",
       "      <td>33</td>\n",
       "      <td>Зрелый</td>\n",
       "      <td>6</td>\n",
       "      <td>Виктор (56 лет) из г. Казань</td>\n",
       "    </tr>\n",
       "    <tr>\n",
       "      <th>3</th>\n",
       "      <td>Григорий</td>\n",
       "      <td>70</td>\n",
       "      <td>Москва</td>\n",
       "      <td>Россия</td>\n",
       "      <td>40</td>\n",
       "      <td>Зрелый</td>\n",
       "      <td>8</td>\n",
       "      <td>Григорий (70 лет) из г. Москва</td>\n",
       "    </tr>\n",
       "  </tbody>\n",
       "</table>\n",
       "</div>"
      ],
      "text/plain": [
       "        Имя  Возраст      Город  Страна  Возраст через 5 лет  \\\n",
       "0      Анна       50     Москва  Россия                   30   \n",
       "1     Борис       60  Петербург  Россия                   35   \n",
       "2    Виктор       56     Казань  Россия                   33   \n",
       "3  Григорий       70     Москва  Россия                   40   \n",
       "\n",
       "  Категория возраста  Длина имени                        Описание  \n",
       "0             Зрелый            4      Анна (50 лет) из г. Москва  \n",
       "1             Зрелый            5  Борис (60 лет) из г. Петербург  \n",
       "2             Зрелый            6    Виктор (56 лет) из г. Казань  \n",
       "3             Зрелый            8  Григорий (70 лет) из г. Москва  "
      ]
     },
     "metadata": {},
     "output_type": "display_data"
    }
   ],
   "source": [
    "#Предположим, индекс не по порядку\n",
    "df_shuffled = df.sample(frac=1) # Перемешать строки\n",
    "df_sorted_idx = df_shuffled.sort_index() # Отсортировать по исходному индексу\n",
    "display(df_sorted_idx)"
   ]
  },
  {
   "cell_type": "markdown",
   "metadata": {},
   "source": [
    "**Рекомендация:** Избегайте `inplace=True` для предсказуемости кода.\n",
    "\n",
    "---\n",
    "\n",
    "#### II.H. Чтение и Запись Данных (Кратко)\n",
    "\n",
    "*   **Чтение CSV:** `pd.read_csv('путь/к/файлу.csv', sep=',', index_col=None, ...)`\n",
    "*   **Чтение Excel:** `pd.read_excel('путь/к/файлу.xlsx', sheet_name='Лист1', ...)`\n",
    "*   **Запись в CSV:** `df.to_csv('путь/к/новому/файлу.csv', index=False, sep=';', ...)` (`index=False` - не записывать индекс в файл)\n",
    "*   **Запись в Excel:** `df.to_excel('путь/к/новому/файлу.xlsx', index=False, sheet_name='Мои данные', ...)`\n",
    "\n",
    "---"
   ]
  },
  {
   "cell_type": "markdown",
   "metadata": {},
   "source": [
    "#### II.I. Другие Важные Операции (Кратко)\n",
    "\n",
    "*   **Группировка и Агрегация (`.groupby()`):** Разделение DataFrame на группы по значениям одного или нескольких столбцов и применение агрегирующих функций (sum, mean, count, min, max, agg) к каждой группе. Очень мощный инструмент для анализа."
   ]
  },
  {
   "cell_type": "code",
   "execution_count": 91,
   "metadata": {},
   "outputs": [
    {
     "name": "stdout",
     "output_type": "stream",
     "text": [
      "Город\n",
      "Казань       56.0\n",
      "Москва       60.0\n",
      "Петербург    60.0\n",
      "Name: Возраст, dtype: float64\n"
     ]
    }
   ],
   "source": [
    "# Пример: Средний возраст по городам\n",
    "avg_age_by_city = df.groupby('Город')['Возраст'].mean()\n",
    "print(avg_age_by_city)"
   ]
  },
  {
   "cell_type": "markdown",
   "metadata": {},
   "source": [
    "*   **Объединение DataFrame (`pd.merge()`, `.join()`):** Соединение нескольких DataFrame по общим столбцам или индексам (аналогично JOIN в SQL).\n",
    "*   **Работа с пропущенными данными:**\n",
    "    *   `.isnull()`, `.isna()`: Проверка на наличие NaN.\n",
    "    *   `.dropna()`: Удаление строк/столбцов с NaN.\n",
    "    *   `.fillna(value)`: Заполнение NaN указанным значением, средним, медианой и т.д.\n",
    "*   **Изменение типа данных (`.astype(dtype)`):** Преобразование типа данных столбца (например, из `object` в `int` или `datetime`).\n",
    "\n",
    "---"
   ]
  }
 ],
 "metadata": {
  "kernelspec": {
   "display_name": "ml_base",
   "language": "python",
   "name": "python3"
  },
  "language_info": {
   "codemirror_mode": {
    "name": "ipython",
    "version": 3
   },
   "file_extension": ".py",
   "mimetype": "text/x-python",
   "name": "python",
   "nbconvert_exporter": "python",
   "pygments_lexer": "ipython3",
   "version": "3.9.21"
  }
 },
 "nbformat": 4,
 "nbformat_minor": 2
}
